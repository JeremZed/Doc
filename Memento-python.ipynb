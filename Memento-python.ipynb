{
 "cells": [
  {
   "cell_type": "markdown",
   "id": "4f714595-9e91-47a4-aac4-a3993ecbe3cb",
   "metadata": {},
   "source": [
    "# Memento sur Python"
   ]
  },
  {
   "cell_type": "markdown",
   "id": "865e6a72-0ae7-4d23-bad5-5e2a79489e6e",
   "metadata": {},
   "source": [
    "## Les variables\n",
    "\n",
    "note : Toutes les variables sont des objets."
   ]
  },
  {
   "cell_type": "code",
   "execution_count": 16,
   "id": "b7d69aed-580c-467d-89f2-73d0f8a96060",
   "metadata": {},
   "outputs": [
    {
     "name": "stdout",
     "output_type": "stream",
     "text": [
      "String :Hello, String2 :World, Boolean :False, Integer :100, Decimal :59.99\n",
      "<class 'str'>\n",
      "<class 'bool'>\n",
      "<class 'int'>\n",
      "<class 'float'>\n"
     ]
    }
   ],
   "source": [
    "v_string = \"Hello\"\n",
    "v_string2 = 'World'\n",
    "v_boolean = False\n",
    "v_integer = 100\n",
    "v_decimal = 59.99\n",
    "\n",
    "print(f\"String :{v_string}, \"+\n",
    "      f\"String2 :{v_string2}, \"+\n",
    "      f\"Boolean :{v_boolean}, \"+\n",
    "      f\"Integer :{v_integer}, \"+\n",
    "      f\"Decimal :{v_decimal}\")\n",
    "\n",
    "print(type(v_string))\n",
    "print(type(v_boolean))\n",
    "print(type(v_integer))\n",
    "print(type(v_decimal))"
   ]
  },
  {
   "cell_type": "markdown",
   "id": "9d9554cf-4fc6-4d41-a145-6dc469a0d09e",
   "metadata": {},
   "source": [
    "## Les opérations de base"
   ]
  },
  {
   "cell_type": "code",
   "execution_count": 15,
   "id": "9762d612-7fb6-438c-8b89-d9523aaca198",
   "metadata": {},
   "outputs": [
    {
     "name": "stdout",
     "output_type": "stream",
     "text": [
      "15 5 5.0 10\n",
      "25 0 5\n",
      "17 3 2.5 20\n"
     ]
    }
   ],
   "source": [
    "a = 10\n",
    "b = 5\n",
    "c = 2\n",
    "\n",
    "somme = a + b\n",
    "soustraction = a - b\n",
    "division = a / c\n",
    "multiplication = b * c\n",
    "\n",
    "print(somme, soustraction, division, multiplication)\n",
    "\n",
    "carre = b**2\n",
    "modulo = a%2 # reste de la division euclidienne\n",
    "division_entiere = a//c\n",
    "\n",
    "print(carre, modulo, division_entiere)\n",
    "\n",
    "somme += 2\n",
    "soustraction -= 2\n",
    "division /= 2\n",
    "multiplication *= 2\n",
    "\n",
    "print(somme, soustraction, division, multiplication)"
   ]
  },
  {
   "cell_type": "markdown",
   "id": "64cffd28-a391-43b7-b9e3-0cafaf374d01",
   "metadata": {},
   "source": [
    "## Casting\n",
    "\n",
    "Note : Si on souhaite caster une chaîne de caractère en integer, il faut absolument que la chaîne de caractères ne comporte que des chiffres."
   ]
  },
  {
   "cell_type": "code",
   "execution_count": 22,
   "id": "a9b2fc84-cb13-4c5a-94cf-85e40f78dc88",
   "metadata": {},
   "outputs": [
    {
     "name": "stdout",
     "output_type": "stream",
     "text": [
      "<class 'float'> <class 'int'> <class 'str'>\n",
      "<class 'str'> <class 'float'> <class 'int'>\n"
     ]
    },
    {
     "ename": "ValueError",
     "evalue": "invalid literal for int() with base 10: 'Hello'",
     "output_type": "error",
     "traceback": [
      "\u001b[0;31m---------------------------------------------------------------------------\u001b[0m",
      "\u001b[0;31mValueError\u001b[0m                                Traceback (most recent call last)",
      "Cell \u001b[0;32mIn[22], line 14\u001b[0m\n\u001b[1;32m     11\u001b[0m \u001b[38;5;28mprint\u001b[39m(\u001b[38;5;28mtype\u001b[39m(variable_float), \u001b[38;5;28mtype\u001b[39m(variable_integer), \u001b[38;5;28mtype\u001b[39m(variable_string))\n\u001b[1;32m     13\u001b[0m \u001b[38;5;66;03m# Note : Caster des lettres en entier n'est pas autorisé\u001b[39;00m\n\u001b[0;32m---> 14\u001b[0m \u001b[38;5;28mprint\u001b[39m(\u001b[38;5;28;43mint\u001b[39;49m\u001b[43m(\u001b[49m\u001b[38;5;124;43m\"\u001b[39;49m\u001b[38;5;124;43mHello\u001b[39;49m\u001b[38;5;124;43m\"\u001b[39;49m\u001b[43m)\u001b[49m)\n",
      "\u001b[0;31mValueError\u001b[0m: invalid literal for int() with base 10: 'Hello'"
     ]
    }
   ],
   "source": [
    "variable_float = 10.0\n",
    "variable_integer = 20\n",
    "variable_string = \"100\"\n",
    "\n",
    "print(type(variable_float), type(variable_integer), type(variable_string))\n",
    "\n",
    "variable_float = str(variable_float)\n",
    "variable_integer = float(variable_integer)\n",
    "variable_string = int(variable_string)\n",
    "\n",
    "print(type(variable_float), type(variable_integer), type(variable_string))\n",
    "\n",
    "# Note : Caster des lettres en entier n'est pas autorisé\n",
    "print(int(\"Hello\"))"
   ]
  },
  {
   "cell_type": "markdown",
   "id": "3200533c-c030-4891-bbdf-3eba2034ee21",
   "metadata": {},
   "source": [
    "## Les fonctions"
   ]
  },
  {
   "cell_type": "code",
   "execution_count": 10,
   "id": "ba279ac3-b236-4c17-8bac-5481f17cb998",
   "metadata": {},
   "outputs": [
    {
     "name": "stdout",
     "output_type": "stream",
     "text": [
      "Hello World!\n",
      "None\n",
      "Bye !\n",
      "None\n",
      "30\n",
      "Help on function calculerSomme in module __main__:\n",
      "\n",
      "calculerSomme(a, b)\n",
      "    La documentation ici ?\n",
      "\n",
      "toto\n"
     ]
    }
   ],
   "source": [
    "def nomDeLaFonction():\n",
    "    pass\n",
    "\n",
    "def afficherHelloWorld():\n",
    "    print(\"Hello World!\")\n",
    "\n",
    "def afficherLeMot(mot):\n",
    "    print(mot)\n",
    "\n",
    "def calculerSomme(a, b):\n",
    "    \"\"\"\n",
    "    La documentation ici ?\n",
    "    \"\"\"\n",
    "    return a + b\n",
    "\n",
    "print(afficherHelloWorld())\n",
    "print(afficherLeMot(\"Bye !\"))\n",
    "print(calculerSomme(20,10))\n",
    "help(calculerSomme)\n"
   ]
  }
 ],
 "metadata": {
  "kernelspec": {
   "display_name": "Python 3 (ipykernel)",
   "language": "python",
   "name": "python3"
  },
  "language_info": {
   "codemirror_mode": {
    "name": "ipython",
    "version": 3
   },
   "file_extension": ".py",
   "mimetype": "text/x-python",
   "name": "python",
   "nbconvert_exporter": "python",
   "pygments_lexer": "ipython3",
   "version": "3.10.13"
  }
 },
 "nbformat": 4,
 "nbformat_minor": 5
}
