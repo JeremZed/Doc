{
 "cells": [
  {
   "cell_type": "markdown",
   "id": "4f714595-9e91-47a4-aac4-a3993ecbe3cb",
   "metadata": {},
   "source": [
    "# Memento sur Python"
   ]
  },
  {
   "cell_type": "markdown",
   "id": "865e6a72-0ae7-4d23-bad5-5e2a79489e6e",
   "metadata": {},
   "source": [
    "## Les variables\n",
    "\n",
    "note : Toutes les variables sont des objets."
   ]
  },
  {
   "cell_type": "code",
   "execution_count": 241,
   "id": "b7d69aed-580c-467d-89f2-73d0f8a96060",
   "metadata": {},
   "outputs": [
    {
     "name": "stdout",
     "output_type": "stream",
     "text": [
      "String :Hello, String2 :World, Boolean :False, Integer :100, Decimal :59.99\n",
      "<class 'str'>\n",
      "<class 'bool'>\n",
      "<class 'int'>\n",
      "<class 'float'>\n"
     ]
    }
   ],
   "source": [
    "v_string = \"Hello\"\n",
    "v_string2 = 'World'\n",
    "v_boolean = False\n",
    "v_integer = 100\n",
    "v_decimal = 59.99\n",
    "\n",
    "print(f\"String :{v_string}, \"+\n",
    "      f\"String2 :{v_string2}, \"+\n",
    "      f\"Boolean :{v_boolean}, \"+\n",
    "      f\"Integer :{v_integer}, \"+\n",
    "      f\"Decimal :{v_decimal}\")\n",
    "\n",
    "print(type(v_string))\n",
    "print(type(v_boolean))\n",
    "print(type(v_integer))\n",
    "print(type(v_decimal))"
   ]
  },
  {
   "cell_type": "markdown",
   "id": "9d9554cf-4fc6-4d41-a145-6dc469a0d09e",
   "metadata": {},
   "source": [
    "## Les opérations de base"
   ]
  },
  {
   "cell_type": "code",
   "execution_count": 242,
   "id": "9762d612-7fb6-438c-8b89-d9523aaca198",
   "metadata": {},
   "outputs": [
    {
     "name": "stdout",
     "output_type": "stream",
     "text": [
      "15 5 5.0 10\n",
      "25 0 5\n",
      "17 3 2.5 20\n"
     ]
    }
   ],
   "source": [
    "a = 10\n",
    "b = 5\n",
    "c = 2\n",
    "\n",
    "somme = a + b\n",
    "soustraction = a - b\n",
    "division = a / c\n",
    "multiplication = b * c\n",
    "\n",
    "print(somme, soustraction, division, multiplication)\n",
    "\n",
    "carre = b**2\n",
    "modulo = a%2 # reste de la division euclidienne\n",
    "division_entiere = a//c\n",
    "\n",
    "print(carre, modulo, division_entiere)\n",
    "\n",
    "somme += 2\n",
    "soustraction -= 2\n",
    "division /= 2\n",
    "multiplication *= 2\n",
    "\n",
    "print(somme, soustraction, division, multiplication)"
   ]
  },
  {
   "cell_type": "markdown",
   "id": "64cffd28-a391-43b7-b9e3-0cafaf374d01",
   "metadata": {},
   "source": [
    "## Casting\n",
    "\n",
    "Note : Si on souhaite caster une chaîne de caractère en integer, il faut absolument que la chaîne de caractères ne comporte que des chiffres."
   ]
  },
  {
   "cell_type": "code",
   "execution_count": 243,
   "id": "a9b2fc84-cb13-4c5a-94cf-85e40f78dc88",
   "metadata": {},
   "outputs": [
    {
     "name": "stdout",
     "output_type": "stream",
     "text": [
      "<class 'float'> <class 'int'> <class 'str'>\n",
      "<class 'str'> <class 'float'> <class 'int'>\n"
     ]
    },
    {
     "ename": "ValueError",
     "evalue": "invalid literal for int() with base 10: 'Hello'",
     "output_type": "error",
     "traceback": [
      "\u001b[0;31m---------------------------------------------------------------------------\u001b[0m",
      "\u001b[0;31mValueError\u001b[0m                                Traceback (most recent call last)",
      "Cell \u001b[0;32mIn[243], line 14\u001b[0m\n\u001b[1;32m     11\u001b[0m \u001b[38;5;28mprint\u001b[39m(\u001b[38;5;28mtype\u001b[39m(variable_float), \u001b[38;5;28mtype\u001b[39m(variable_integer), \u001b[38;5;28mtype\u001b[39m(variable_string))\n\u001b[1;32m     13\u001b[0m \u001b[38;5;66;03m# Note : Caster des lettres en entier n'est pas autorisé\u001b[39;00m\n\u001b[0;32m---> 14\u001b[0m \u001b[38;5;28mprint\u001b[39m(\u001b[38;5;28;43mint\u001b[39;49m\u001b[43m(\u001b[49m\u001b[38;5;124;43m\"\u001b[39;49m\u001b[38;5;124;43mHello\u001b[39;49m\u001b[38;5;124;43m\"\u001b[39;49m\u001b[43m)\u001b[49m)\n",
      "\u001b[0;31mValueError\u001b[0m: invalid literal for int() with base 10: 'Hello'"
     ]
    }
   ],
   "source": [
    "variable_float = 10.0\n",
    "variable_integer = 20\n",
    "variable_string = \"100\"\n",
    "\n",
    "print(type(variable_float), type(variable_integer), type(variable_string))\n",
    "\n",
    "variable_float = str(variable_float)\n",
    "variable_integer = float(variable_integer)\n",
    "variable_string = int(variable_string)\n",
    "\n",
    "print(type(variable_float), type(variable_integer), type(variable_string))\n",
    "\n",
    "# Note : Caster des lettres en entier n'est pas autorisé\n",
    "print(int(\"Hello\"))"
   ]
  },
  {
   "cell_type": "markdown",
   "id": "3200533c-c030-4891-bbdf-3eba2034ee21",
   "metadata": {},
   "source": [
    "## Les fonctions"
   ]
  },
  {
   "cell_type": "code",
   "execution_count": null,
   "id": "ba279ac3-b236-4c17-8bac-5481f17cb998",
   "metadata": {},
   "outputs": [],
   "source": [
    "def nomDeLaFonction():\n",
    "    pass\n",
    "\n",
    "def afficherHelloWorld():\n",
    "    print(\"Hello World!\")\n",
    "\n",
    "def afficherLeMot(mot):\n",
    "    print(mot)\n",
    "\n",
    "def calculerSomme(a, b):\n",
    "    \"\"\"\n",
    "    La documentation ici ?\n",
    "    \"\"\"\n",
    "    return a + b\n",
    "\n",
    "print(afficherHelloWorld())\n",
    "print(afficherLeMot(\"Bye !\"))\n",
    "print(calculerSomme(20,10))\n",
    "help(calculerSomme)\n"
   ]
  },
  {
   "cell_type": "markdown",
   "id": "c7615feb-f2e8-4628-a5e6-e82ab3ad0d5f",
   "metadata": {},
   "source": [
    "## Les tableaux"
   ]
  },
  {
   "cell_type": "code",
   "execution_count": null,
   "id": "b437429f-79eb-4132-8fe5-c6df51d8dd29",
   "metadata": {},
   "outputs": [],
   "source": [
    "# Liste\n",
    "noms = ['Axel', 'Maurice', 'Lucas', 'Bob', 'Jean']\n",
    "# Accès au troisième prénom\n",
    "print(noms[2])\n",
    "# Accès au dernier prénom\n",
    "print(noms[-1])\n",
    "# Accès du premier au deuxième prénoms\n",
    "print(noms[:2])"
   ]
  },
  {
   "cell_type": "code",
   "execution_count": null,
   "id": "93575872-41a4-42d2-88d7-5c9a38342e73",
   "metadata": {},
   "outputs": [],
   "source": [
    "# Ajout d'un prénom à la suite de la liste\n",
    "noms.append('Hugo')\n",
    "print(noms)"
   ]
  },
  {
   "cell_type": "code",
   "execution_count": null,
   "id": "eef557fa-dfe5-4fbf-8c09-4d82aac54ce3",
   "metadata": {},
   "outputs": [],
   "source": [
    "# Inérer un prénom à une position précise, ici Marc à l'index 2 soit ici juste après Maurice\n",
    "noms.insert(2, 'Marc')\n",
    "print(noms)"
   ]
  },
  {
   "cell_type": "code",
   "execution_count": null,
   "id": "cf4433c0-a01d-42af-823b-ebdd9f7a2902",
   "metadata": {},
   "outputs": [],
   "source": [
    "noms_suivant = ['Anna', 'Cécile', 'Jeanne']\n",
    "# Concaténation de liste\n",
    "noms.extend(noms_suivant)\n",
    "print(noms)"
   ]
  },
  {
   "cell_type": "code",
   "execution_count": null,
   "id": "cf34510f-4f7e-46eb-8e3b-d722dabb5264",
   "metadata": {},
   "outputs": [],
   "source": [
    "# Suppression de la première occurence correspondant au prénom passé en paramètre\n",
    "# Ici on supprime le prénom Bob de la liste\n",
    "noms.remove('Bob')\n",
    "print(noms)"
   ]
  },
  {
   "cell_type": "code",
   "execution_count": null,
   "id": "eeebe4be-1645-4d3b-a495-1c1ff32d4e72",
   "metadata": {},
   "outputs": [],
   "source": [
    "# Recupération de l'index en fonction du prénom recherché\n",
    "# Ici on récupère l'indice 3 pour Lucas\n",
    "print(noms.index('Lucas'))"
   ]
  },
  {
   "cell_type": "code",
   "execution_count": null,
   "id": "f95f9f8f-3c6f-43a9-be10-f41b0ded08e6",
   "metadata": {},
   "outputs": [],
   "source": [
    "# Supprimer un élément de la liste en fonction de son index\n",
    "# Ici on supprime le prénom Lucas de la liste\n",
    "del noms[3]\n",
    "print(noms)"
   ]
  },
  {
   "cell_type": "code",
   "execution_count": null,
   "id": "0316cdc6-8899-49a3-9406-9d264ee5408c",
   "metadata": {},
   "outputs": [],
   "source": [
    "# Afficher le nom d'élément d'une liste\n",
    "print(len(noms))"
   ]
  },
  {
   "cell_type": "code",
   "execution_count": null,
   "id": "863d5b00-1bc2-4b34-ab97-3daf00a75e38",
   "metadata": {},
   "outputs": [],
   "source": [
    "# Dictionnaire\n",
    "comptes = { 'Axel' : 100, 'Maurice' : 150, 'Marc' : -10 }\n",
    "print(comptes)\n",
    "print(comptes['Axel'])"
   ]
  },
  {
   "cell_type": "code",
   "execution_count": null,
   "id": "484ab245-995b-4681-9f09-245e2b856361",
   "metadata": {},
   "outputs": [],
   "source": [
    "# Modification des valeurs au sein du dictionnaire\n",
    "comptes['Axel'] += 500\n",
    "print(comptes)"
   ]
  },
  {
   "cell_type": "code",
   "execution_count": null,
   "id": "785b631c-df2f-4702-99b6-24224da2aae0",
   "metadata": {},
   "outputs": [],
   "source": [
    "# Suppresion d'un élément du dictionnaire\n",
    "comptes.pop('Marc')\n",
    "print(comptes)"
   ]
  },
  {
   "cell_type": "code",
   "execution_count": null,
   "id": "21dced57-808a-437a-8291-c645862b7ee3",
   "metadata": {},
   "outputs": [],
   "source": [
    "# Afficher le nom d'élément d'un dictionnaire\n",
    "print(len(comptes))"
   ]
  },
  {
   "cell_type": "code",
   "execution_count": null,
   "id": "fa770d74-0e81-4bd7-a162-3401f9fea2e7",
   "metadata": {},
   "outputs": [],
   "source": [
    "# Tuples\n",
    "# Un tuple n'est pas modifiable, il est non mutable\n",
    "\n",
    "data = (55, 'Argent', False, 'User')\n",
    "print(data)\n",
    "print(data[1])"
   ]
  },
  {
   "cell_type": "code",
   "execution_count": null,
   "id": "2c5bc41e-54eb-4e82-9f14-18bbb139067b",
   "metadata": {},
   "outputs": [],
   "source": [
    "# Initialisation de plusieurs variables via à un tuple\n",
    "id, type, newsletter, role = data\n",
    "print(id)\n",
    "print(type)\n",
    "print(newsletter)\n",
    "print(role)"
   ]
  },
  {
   "cell_type": "code",
   "execution_count": null,
   "id": "f3821e78-630e-44ad-a839-b78ff0f08ec0",
   "metadata": {},
   "outputs": [],
   "source": [
    "# Tentative de modification des valeurs du tuple, qui génère une erreur\n",
    "data[0] = 60"
   ]
  },
  {
   "cell_type": "markdown",
   "id": "7403a96e-88da-47c5-bc8f-f1c4024e54a9",
   "metadata": {},
   "source": [
    "## Les conditions"
   ]
  },
  {
   "cell_type": "code",
   "execution_count": null,
   "id": "698ae93b-078b-4ee2-a864-842042979cb1",
   "metadata": {},
   "outputs": [],
   "source": [
    "name = input('Quel est ton nom ?')"
   ]
  },
  {
   "cell_type": "code",
   "execution_count": null,
   "id": "293d4c6a-e79b-4a19-8ff7-25acba054fd7",
   "metadata": {},
   "outputs": [],
   "source": [
    "if len(name) > 0 :\n",
    "    print(\"Salut\", name, \"!\")\n",
    "else:\n",
    "    print(\"Bonjour INCONNU\")"
   ]
  },
  {
   "cell_type": "code",
   "execution_count": null,
   "id": "31d8b713-29fa-4dfc-a201-f7a17ccfad87",
   "metadata": {},
   "outputs": [],
   "source": [
    "age = 18\n",
    "\n",
    "if age >= 18 and len(name) > 0:\n",
    "    print(name, \"est majeur !\")\n",
    "else:\n",
    "    print(\"Impossible d'entrer.\")"
   ]
  },
  {
   "cell_type": "code",
   "execution_count": null,
   "id": "65067615-6bcc-47f0-8034-d689e7b4ba6f",
   "metadata": {},
   "outputs": [],
   "source": [
    "sex = \"F\"\n",
    "if age >= 18 and ( sex == \"M\" or sex == \"F\" ) and len(name) > 0:\n",
    "    print(\"Humain\", name, \"peut entrer.\")\n",
    "else:\n",
    "    print(\"Impossible d'entrer\")"
   ]
  },
  {
   "cell_type": "code",
   "execution_count": null,
   "id": "cd14f1e7-68ce-4d8f-bcd5-f41ba8a4074e",
   "metadata": {},
   "outputs": [],
   "source": [
    "#inverse/negation : Il n'est pas de sexe Masculin\n",
    "print(not(sex == \"M\" ))"
   ]
  },
  {
   "cell_type": "code",
   "execution_count": null,
   "id": "b7a89d78-b27a-48c1-be1c-c3a5ce2b0846",
   "metadata": {},
   "outputs": [],
   "source": [
    "# IN\n",
    "if \"o\" in name:\n",
    "    print(\"name comporte un o\")\n",
    "else:\n",
    "    print(\"name ne comporte pas de o\")"
   ]
  },
  {
   "cell_type": "code",
   "execution_count": null,
   "id": "0fd1f434-7a29-4843-a2f6-d1cfe0504c7a",
   "metadata": {},
   "outputs": [],
   "source": [
    "# Enchainement de conditions\n",
    "\n",
    "if \"x\" in name:\n",
    "    print(\"name comporte un x\")\n",
    "elif \"o\" in name:\n",
    "    print(\"name comporte un o\")\n",
    "else:\n",
    "    print(\"name ne comporte pas de o, ni de x\")"
   ]
  },
  {
   "cell_type": "markdown",
   "id": "c204a3b9-fb1b-41c0-a498-01b7e7b20f1c",
   "metadata": {},
   "source": [
    "## Les boucles"
   ]
  },
  {
   "cell_type": "code",
   "execution_count": null,
   "id": "b8a88ebd-2e78-49a3-8797-c3eaee28ddd9",
   "metadata": {},
   "outputs": [],
   "source": [
    "items = [5,8,1,6,2,10]\n",
    "for item in items:\n",
    "    print(item)"
   ]
  },
  {
   "cell_type": "code",
   "execution_count": null,
   "id": "8aa7c471-9757-447c-8882-2855baf59fa5",
   "metadata": {},
   "outputs": [],
   "source": [
    "# On veut créer une liste de dimension 5 mais avec un pas de 1\n",
    "for i in range(0,5,1):\n",
    "    print(i)"
   ]
  },
  {
   "cell_type": "code",
   "execution_count": null,
   "id": "8e289619-6308-4781-841e-5c1bcce26191",
   "metadata": {},
   "outputs": [],
   "source": [
    "# On veut créer une liste de dimension 5 mais avec un pas de 2\n",
    "for i in range(0,5,2):\n",
    "    print(i)"
   ]
  },
  {
   "cell_type": "code",
   "execution_count": null,
   "id": "29ef2b54-12c9-4cb7-8a5c-00863e81db05",
   "metadata": {},
   "outputs": [],
   "source": [
    "limit = 10\n",
    "i = 0\n",
    "while i < limit:\n",
    "    print(i)\n",
    "    i+=1\n",
    "\n",
    "print(\"Done!\")"
   ]
  },
  {
   "cell_type": "code",
   "execution_count": null,
   "id": "a6fdf526-9717-41c7-a2bf-5ef2d54d68dc",
   "metadata": {},
   "outputs": [],
   "source": [
    "# Utilisation de l'instruction \"continue\"\n",
    "for i in range(10):    \n",
    "    print(i)\n",
    "    if (i == 2) or (i == 5):\n",
    "        print(\"On esquive le print plus bas dans le code !\")\n",
    "        continue    \n",
    "    print(\"i != 2 & i != 5\")\n"
   ]
  },
  {
   "cell_type": "code",
   "execution_count": null,
   "id": "32d7bda8-ea19-4390-bfac-5fce5bd811a6",
   "metadata": {},
   "outputs": [],
   "source": [
    "# Utilisation de l'instruction \"continue\"\n",
    "for i in range(10):    \n",
    "    print(i)\n",
    "    if (i == 2) or (i == 5):\n",
    "        print(\"On esquive le print plus bas dans le code !\")\n",
    "        continue\n",
    "    if i == 7:\n",
    "        print(\"On stoppe la boucle sur i == 7\")\n",
    "        break\n",
    "    print(\"i != 2 & i != 5\")"
   ]
  },
  {
   "cell_type": "markdown",
   "id": "4d850094-f338-4898-9df8-776c77c484d8",
   "metadata": {},
   "source": [
    "## Module"
   ]
  },
  {
   "cell_type": "code",
   "execution_count": 251,
   "id": "195a9666-de57-4336-8ac6-496b1e85ce58",
   "metadata": {},
   "outputs": [
    {
     "name": "stdout",
     "output_type": "stream",
     "text": [
      "3.14159265359\n",
      "16\n"
     ]
    }
   ],
   "source": [
    "from lib import mygeometry as g\n",
    "\n",
    "car = g.carre(4)\n",
    "tri = g.triangle(3,6,5)\n",
    "\n",
    "print(g.pi)\n",
    "print(g.aire(car))"
   ]
  },
  {
   "cell_type": "markdown",
   "id": "090d7521-7843-44e6-bfe9-0ea31dcbf09d",
   "metadata": {},
   "source": [
    "## Random"
   ]
  },
  {
   "cell_type": "code",
   "execution_count": null,
   "id": "38ca3cb4-f7db-4b05-964d-e7f2723bc538",
   "metadata": {},
   "outputs": [],
   "source": [
    "import random\n",
    "\n",
    "for i in range(3):\n",
    "    print(random.random())"
   ]
  },
  {
   "cell_type": "code",
   "execution_count": null,
   "id": "b24a5d6d-700f-4ee9-95c4-2dc35338e07e",
   "metadata": {},
   "outputs": [],
   "source": [
    "for i in range(3):\n",
    "    print(random.uniform(5,10))\n",
    "\n",
    "for i in range(3):\n",
    "    print(random.randint(5,10))"
   ]
  },
  {
   "cell_type": "code",
   "execution_count": null,
   "id": "cdbe9247-bcac-4942-9bda-1ab31cf1faf2",
   "metadata": {},
   "outputs": [],
   "source": [
    "# Selectionner un élément au hasard dans une liste\n",
    "items = ['a', 'b', 'c', 'd', 'e', 'f']\n",
    "for i in range(3):\n",
    "    print(random.choice(items))"
   ]
  },
  {
   "cell_type": "code",
   "execution_count": null,
   "id": "e5917213-280e-47cc-ba25-5068b8c07bee",
   "metadata": {},
   "outputs": [],
   "source": [
    "# Selection avec remise (sous echantillonnage)\n",
    "print(random.choices(items, k=2))\n",
    "print(random.choices(items, k=3))"
   ]
  }
 ],
 "metadata": {
  "kernelspec": {
   "display_name": "Python 3 (ipykernel)",
   "language": "python",
   "name": "python3"
  },
  "language_info": {
   "codemirror_mode": {
    "name": "ipython",
    "version": 3
   },
   "file_extension": ".py",
   "mimetype": "text/x-python",
   "name": "python",
   "nbconvert_exporter": "python",
   "pygments_lexer": "ipython3",
   "version": "3.10.13"
  }
 },
 "nbformat": 4,
 "nbformat_minor": 5
}
