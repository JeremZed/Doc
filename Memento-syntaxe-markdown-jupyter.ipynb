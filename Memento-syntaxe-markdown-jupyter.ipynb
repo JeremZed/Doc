{
 "cells": [
  {
   "cell_type": "code",
   "execution_count": 7,
   "id": "48d08fca",
   "metadata": {},
   "outputs": [
    {
     "data": {
      "text/html": [
       "<style>\n",
       ".primary{\n",
       "    color: #287ce6;\n",
       "}\n",
       "</style>\n"
      ],
      "text/plain": [
       "<IPython.core.display.HTML object>"
      ]
     },
     "execution_count": 7,
     "metadata": {},
     "output_type": "execute_result"
    }
   ],
   "source": [
    "# Styling notebook\n",
    "from IPython.core.display import HTML\n",
    "def css_styling():\n",
    "    styles = open(\"./styles/default.html\", \"r\").read()\n",
    "    return HTML(styles)\n",
    "css_styling()"
   ]
  },
  {
   "cell_type": "markdown",
   "id": "8cf8f0c4",
   "metadata": {},
   "source": [
    "# Markdown dans Jupyter Notebook\n",
    "\n",
    "\n",
    "Petit tour d'horizon de ce qu'il est possible de faire avec la syntaxe Markdown pour la mise en page. Comme l'insertion de titre, mise en gras etc... Et un aperçu des raccourcis clavier disponible."
   ]
  },
  {
   "cell_type": "markdown",
   "id": "2d2f4f7b",
   "metadata": {},
   "source": [
    "# Sommaire\n",
    "\n",
    "- [La syntaxe](La-syntaxe)\n",
    "    - [Les titres](#Les-titres)\n",
    "    - [Texte en gras](#Texte-en-gras)\n",
    "    - [Texte en italique](#Texte-en-italique)\n",
    "    - [Texte en gras et en italique](#Texte-en-gras-et-en-italique)\n",
    "    - [Texte barré](#Texte-barré)\n",
    "    - [Echapper un caractère markdown](#Echapper-un-caractère-markdown)\n",
    "    - [Le saut à la ligne](#Le-saut-à-la-ligne)\n",
    "    - [L'indentation](#L'indentation)\n",
    "    - [Ligne horizontale](#Ligne-horizontale)\n",
    "    - [Liste numéroté](#Liste-numéroté)\n",
    "    - [Liste non numéroté](#Liste-non-numéroté)\n",
    "    - [Liste imbriqué](#Liste-imbriqué)\n",
    "    - [Ajouter une image](#Ajouter-une-image)\n",
    "    - [Encart](#Encart)\n",
    "    - [Liens](#Liens)\n",
    "    - [Tableaux](#Tableaux)\n",
    "    - [Alignement](#Alignement)\n",
    "    - [Mettre en couleur](#Mettre-en-couleur)\n",
    "    - [Personnaliser le style CSS](#Personnaliser-le-style-CSS)<br /><br />\n",
    "- [Les raccourcis clavier](#Les-raccourcis-clavier)\n",
    "    - [Créer une nouvelle cellule](#Créer-une-nouvelle-cellule)\n",
    "    - [Supprimer une cellule](#Supprimer-une-cellule)\n",
    "    - [Exécuter une cellule](#Exécuter-une-cellule)\n",
    "    - [Modifier une cellule](#Modifier-une-cellule)\n",
    "\n",
    "\n",
    "\n"
   ]
  },
  {
   "cell_type": "markdown",
   "id": "2143de27",
   "metadata": {},
   "source": [
    "# <span class=\"primary\">La syntaxe</span>"
   ]
  },
  {
   "cell_type": "markdown",
   "id": "cea667b9",
   "metadata": {},
   "source": [
    "---"
   ]
  },
  {
   "cell_type": "markdown",
   "id": "10d1c185",
   "metadata": {},
   "source": [
    "## Les titres\n",
    "\n",
    "Pour insérer un titre dans une cellule markdown en mode édition, il faut commencer la ligne par le caractère '#' suivi d'un espace.\n",
    "\n",
    "<code># Mon titre</code>\n",
    "\n",
    "Si on souhaite insérer un sous titre de niveau deux, on utilise deux caractères '#'.\n",
    "\n",
    "Exemple :\n",
    "\n",
    "<code>## Mon sous titre</code>\n",
    "\n",
    "Ou alors il est possible d'utiliser les balises 'h1', 'h2', 'h3' etc... comme en HTML.\n",
    "\n",
    "```\n",
    "<h1>Mon titre H1</h1>\n",
    "<h2>Mon titre H2</h2>\n",
    "<h3>Mon titre H3</h3>\n",
    "...\n",
    "```"
   ]
  },
  {
   "cell_type": "markdown",
   "id": "7ec59a41",
   "metadata": {},
   "source": [
    "## Texte en gras\n",
    "\n",
    "Pour mettre du texte en gras il faut entourer la portion de texte avec deux caractères astérisk ** ou deux caractères underscore __.\n",
    "\n",
    "Exemple:\n",
    "\n",
    "```\n",
    "Mon **text en gras** est ici !\n",
    "Mon __text en gras__ est ici !\n",
    "```\n",
    "\n",
    "Ou alors il est possible d'utiliser la balise 'strong' ou 'b' comme en HTML.\n",
    "```\n",
    "Mon <strong>texte en gras</strong> est ici !\n",
    "Mon <b>texte en gras</b> est ici !\n",
    "```"
   ]
  },
  {
   "cell_type": "markdown",
   "id": "97dd745b",
   "metadata": {},
   "source": [
    "## Texte en italique\n",
    "\n",
    "Pour mettre du texte en italique il faut entourer la portion de texte avec un seul caractère astérisk * ou un seul caractère underscore _.\n",
    "\n",
    "Exemple:\n",
    "\n",
    "```\n",
    "Mon *text en italique* est ici !\n",
    "Mon _text en italique_ est ici !\n",
    "```\n",
    "\n",
    "Ou alors il est possible d'utiliser la balise 'i' ou 'em' comme en HTML.\n",
    "```\n",
    "Mon <i>texte en italique</i> est ici !\n",
    "Mon <em>texte en italique</em> est ici !\n",
    "```"
   ]
  },
  {
   "cell_type": "markdown",
   "id": "4fb7a008",
   "metadata": {},
   "source": [
    "## Texte en gras et en italique\n",
    "\n",
    "Pour mettre du texte en gras et en italique il faut entourer la portion de texte avec trois caractères astérisk *** ou trois caractères underscore ___.\n",
    "\n",
    "Exemple:\n",
    "\n",
    "```\n",
    "Mon ***text en gras et en italique*** est ici !\n",
    "Mon ___text en gras et en italique___ est ici !\n",
    "```\n",
    "\n",
    "Ou alors il est possible d'utiliser la balise 'b' ou 'strong' pour le gras et la balise 'em' ou 'i' pour l'italique comme en HTML.\n",
    "```\n",
    "Mon <b><i>texte en gras et en italique</i></b> est ici !\n",
    "Mon <strong><em>texte en gras et en italique</em></strong> est ici !\n",
    "```"
   ]
  },
  {
   "cell_type": "markdown",
   "id": "3433d557",
   "metadata": {},
   "source": [
    "## Texte barré\n",
    "\n",
    "Pour mettre du texte en mode barré il faut entourer la portion de texte avec deux caractères tilde ~~ .\n",
    "\n",
    "Exemple:\n",
    "\n",
    "```\n",
    "Mon ~~text en barré~~ est ici !\n",
    "```\n",
    "\n",
    "Ou alors il est possible d'utiliser la balise 'del' comme en HTML.\n",
    "```\n",
    "Mon <del>texte en barré</del> est ici !\n",
    "```"
   ]
  },
  {
   "cell_type": "markdown",
   "id": "6676ca3a",
   "metadata": {},
   "source": [
    "## Echapper un caractère markdown\n",
    "\n",
    "Pour empêcher l'interprétation d'un caractère markdown il doit être précédé d'un anti-slash.\n",
    "\n",
    "Par exemple :\n",
    "\n",
    "```\n",
    "\\# Mon titre\n",
    "```"
   ]
  },
  {
   "cell_type": "markdown",
   "id": "ede24c61",
   "metadata": {},
   "source": [
    "## Le saut à la ligne\n",
    "\n",
    "Pour effectuer un saut de ligne d'un paragraphe ou d'une phrase il faut terminer la phrase par deux espaces ou plus et d'un retour à la ligne avec la touche entrer.  \n",
    "  \n",
    "Ou alors il est possible d'utiliser la balise 'br' comme en HTML.\n",
    "```\n",
    "Première ligne<br />\n",
    "Seconde ligne\n",
    "```"
   ]
  },
  {
   "cell_type": "markdown",
   "id": "36e13b12",
   "metadata": {},
   "source": [
    "## L'indentation\n",
    "\n",
    "Pour effectuer une indentation en markdown, il faut commencer la phrase par le caractère chevron fermé '>'. Si on souhaite effectuer un décalage de deux indentations alors on utilise deux chevrons, trois pour trois indentation et ainsi de suite.  \n",
    "  \n",
    "```\n",
    "> Première indentation\n",
    ">> Deux niveaux d'intentation\n",
    ">>> Trois niveaux d'intentation \n",
    "```\n",
    "\n",
    "Il est possible d'utiliser la balise 'blockquote' en HTML pour reproduire ces indentations.\n",
    "  \n",
    "Exemple : \n",
    "\n",
    "```\n",
    "<blockquote>\n",
    "    Première indentation\n",
    "    <blockquote>\n",
    "        Deux niveaux d'intentation\n",
    "        <blockquote>\n",
    "            Trois niveaux d'intentation\n",
    "        </blockquote>\n",
    "    </blockquote>\n",
    "</blockquote>\n",
    "```"
   ]
  },
  {
   "cell_type": "markdown",
   "id": "e193578d",
   "metadata": {},
   "source": [
    "## Ligne horizontale\n",
    "\n",
    "Pour insérer une ligne horizontale il faut indiquer sur une ligne trois caractères astérisk ' * ', ou trois caractères tiret ' - ' ou trois caractères underscore ' _ '.\n",
    "\n",
    "Exemple :\n",
    "\n",
    "```\n",
    "***\n",
    "---\n",
    "___\n",
    "```\n",
    "\n",
    "Il est possible également d'utiliser la balise 'hr' comme en HTML.\n",
    "\n",
    "```\n",
    "<hr>\n",
    "```"
   ]
  },
  {
   "cell_type": "markdown",
   "id": "303bb46c",
   "metadata": {},
   "source": [
    "## Liste numéroté\n",
    "\n",
    "Pour insérer une liste numéroté il faut commencer la ligne par le numéro suivi d'un point et d'un espace.\n",
    "\n",
    "Exemple : \n",
    "\n",
    "```\n",
    "1. Un\n",
    "2. Deux\n",
    "3. Trois\n",
    "4. Quatre\n",
    "```\n",
    "\n",
    "Il est possible d'utiliser la balise 'ol' et 'li' comme en HTML.\n",
    "\n",
    "Exemple :\n",
    "\n",
    "```\n",
    "<ol>\n",
    "<li>Un</li>\n",
    "<li>Deux</li>\n",
    "<li>Trois</li>\n",
    "<li>Quatre</li>\n",
    "</ol>\n",
    "```"
   ]
  },
  {
   "cell_type": "markdown",
   "id": "2871ab32",
   "metadata": {},
   "source": [
    "## Liste non numéroté\n",
    "\n",
    "Pour insérer une liste non numéroté il faut commencer la ligne par un tiret suivi d'un espace.\n",
    "\n",
    "Exemple : \n",
    "\n",
    "```\n",
    "- Un\n",
    "- Deux\n",
    "- Trois\n",
    "- Quatre\n",
    "```\n",
    "\n",
    "Il est possible d'utiliser la balise 'ul' et 'li' comme en HTML.\n",
    "\n",
    "Exemple :\n",
    "\n",
    "```\n",
    "<ul>\n",
    "<li>Un</li>\n",
    "<li>Deux</li>\n",
    "<li>Trois</li>\n",
    "<li>Quatre</li>\n",
    "</ul>\n",
    "```"
   ]
  },
  {
   "cell_type": "markdown",
   "id": "afdce995",
   "metadata": {},
   "source": [
    "## Liste imbriqué\n",
    "\n",
    "Pour insérer une liste imbriqué il faut commencer la ligne par un tiret suivi d'un espace. Ensuite faite un retour à la ligne, faite une tabulation suivi d'un espace. Faite un retour à la ligne, puis deux tabulations pour encore ajouter une profondeur à votre liste.\n",
    "\n",
    "Exemple : \n",
    "\n",
    "```\n",
    "- Un\n",
    "    - un un\n",
    "    - un deux\n",
    "        - un deux un\n",
    "        - un deux deux\n",
    "        - un deux trois\n",
    "- Deux\n",
    "- Trois\n",
    "- Quatre\n",
    "```\n",
    "\n",
    "Il est possible d'utiliser la balise 'ul' et 'li' comme en HTML.\n",
    "\n",
    "Exemple :\n",
    "\n",
    "```\n",
    "<ul>\n",
    "    <li>Un\n",
    "        <ul>\n",
    "            <li>Un un\n",
    "                <ul>\n",
    "                    <li>un un un</li>\n",
    "                    <li>un un deux</li>\n",
    "                </ul>\n",
    "            </li>\n",
    "        </ul>\n",
    "    </li>\n",
    "<li>Deux</li>\n",
    "<li>Trois</li>\n",
    "<li>Quatre</li>\n",
    "</ul>\n",
    "```"
   ]
  },
  {
   "cell_type": "markdown",
   "id": "97f81569",
   "metadata": {},
   "source": [
    "## Ajouter une image\n",
    "\n",
    "Pour ajouter une image en markdown :\n",
    "\n",
    "```\n",
    "![](https://upload.wikimedia.org/wikipedia/commons/thumb/3/38/Jupyter_logo.svg/1767px-Jupyter_logo.svg.png)\n",
    "```\n",
    "\n",
    "Pour ajouter une infobulle au survole de l'image avec la souris il faut ajouter entre double quote le titre après le lien.\n",
    "\n",
    "Exemple:\n",
    "\n",
    "```\n",
    "![](https://upload.wikimedia.org/wikipedia/commons/thumb/3/38/Jupyter_logo.svg/1767px-Jupyter_logo.svg.png \"Le logo Jupyter\")\n",
    "```\n"
   ]
  },
  {
   "cell_type": "markdown",
   "id": "6a6f75cc",
   "metadata": {},
   "source": [
    "## Encart\n",
    "\n",
    "Pour afficher un bloc d'avertissement, info etc... il faut utiliser la balise HTML avec une class CSS.\n",
    "\n",
    "Exemple : \n",
    "\n",
    "```\n",
    "<div class=\"alert alert-block alert-success\" >Default</div>\n",
    "<div class=\"alert alert-block alert-info\" >Default</div>\n",
    "<div class=\"alert alert-block alert-warning\" >Default</div>\n",
    "<div class=\"alert alert-block alert-danger\" >Default</div>\n",
    "```\n",
    "\n",
    "Apercu d'un bloc d'info : \n",
    "<div class=\"alert alert-block alert-info\" >Default</div>\n"
   ]
  },
  {
   "cell_type": "markdown",
   "id": "a31aab50",
   "metadata": {},
   "source": [
    "## Liens\n",
    "\n",
    "Pour ajouter un lien hypertexte il faut mettre le texte entre crochets et le lien entre paranthèses.\n",
    "\n",
    "Exemple :\n",
    "\n",
    "```\n",
    "Une phrase avec [un lien](https://www.google.fr) vers www.google.fr\n",
    "```\n"
   ]
  },
  {
   "cell_type": "markdown",
   "id": "a1cdf5e8",
   "metadata": {},
   "source": [
    "## Tableaux\n",
    "\n",
    "Pour créer un tableau il faut ajouter une ligne de tirets ( - ) sous la première ligne afin de créer la ligne d'en-tête du tableau. Et ensuite pour délimiter les colonnes il faut utiliser le caractère pipe ( | ). \n",
    "Et si on souhaite un alignement particulier, il faut ajouter en début, et/ou en fin de 'cellule du tableau' le caractère deux points ( : )\n",
    "\n",
    "```\n",
    "| Nom | Prénom | Adresse | Ville | Code Postal | \n",
    "|:---|---:|:---|:---|:---:| \n",
    "| Dupont | Jean | rue de la ville | Paris | 95000 |\n",
    "| Barc | Ivon | rue de la ville | Paris | 95000 |\n",
    "| Coty | Yvonne | rue de la ville | Paris | 95000 |\n",
    "```\n",
    "\n",
    "Aperçu :\n",
    "\n",
    "| Nom | Prénom | Adresse | Ville | Code Postal | \n",
    "|:---|---:|:---|:---|:---:| \n",
    "| Dupont | Jean | rue de la ville | Paris | 95000 |\n",
    "| Barc | Ivon | rue de la ville | Paris | 95000 |\n",
    "| Coty | Yvonne | rue de la ville | Paris | 95000 |\n"
   ]
  },
  {
   "cell_type": "markdown",
   "id": "d55b68fa",
   "metadata": {},
   "source": [
    "## Alignement\n",
    "\n",
    "Pour aligner du texte à droite, à gauche, centré, justifié il faut utiliser du code HTML.\n",
    "\n",
    "Exemple :\n",
    "\n",
    "```\n",
    "<div style=\"text-align:left;\" >Texte à gauche</div>\n",
    "<div style=\"text-align:center;\" >Texte centré</div>\n",
    "<div style=\"text-align:right;\" >Texte à droite</div>\n",
    "<div style=\"text-align:justify;\" >Texte justifé</div>\n",
    "```"
   ]
  },
  {
   "cell_type": "markdown",
   "id": "658a8689",
   "metadata": {},
   "source": [
    "## Mettre en couleur\n",
    "\n",
    "Pour mettre en couleur le texte il faut utiliser du code HTML.\n",
    "\n",
    "Exemple : \n",
    "\n",
    "```\n",
    "Le contenu de la <span style=\"color: red;\" >phrase</span> avec des <span style=\"color: #ccc;\" >mots</span> en couleurs.\n",
    "```\n"
   ]
  },
  {
   "cell_type": "markdown",
   "id": "668b26b2",
   "metadata": {},
   "source": [
    "## Personnaliser le style CSS\n",
    "\n",
    "Pour personnaliser le style CSS du notebook alors il faut éxécuter dans une premier cellule le code python suivant : \n",
    "\n",
    "```Python\n",
    "# Styling notebook\n",
    "from IPython.core.display import HTML\n",
    "def css_styling():\n",
    "    styles = open(\"./styles/styles.html\", \"r\").read()\n",
    "    return HTML(styles)\n",
    "css_styling()\n",
    "```\n",
    "\n",
    "Où le fichier styles.html contient le code suivant : \n",
    "\n",
    "```html\n",
    "<style>\n",
    ".ma-class-custom{\n",
    "    color: red;\n",
    "    font-size : 32px;\n",
    "}\n",
    "</style>\n",
    "```\n",
    "\n",
    "Ainsi vous pouvez maintenant utiliser vos class CSS personnalisée dans les cellules markdown de votre notebook.\n",
    "\n",
    "```\n",
    "Le texte markdown avec du CSS <span class=\"ma-class-custom\">personnalisé</span>.\n",
    "```"
   ]
  },
  {
   "cell_type": "markdown",
   "id": "12c06c22",
   "metadata": {},
   "source": [
    "---"
   ]
  },
  {
   "cell_type": "markdown",
   "id": "e8e1f7f0",
   "metadata": {},
   "source": [
    "# <span class=\"primary\">Les raccourcis clavier</span>"
   ]
  },
  {
   "cell_type": "markdown",
   "id": "961513ca",
   "metadata": {},
   "source": [
    "---"
   ]
  },
  {
   "cell_type": "markdown",
   "id": "407e651e",
   "metadata": {},
   "source": [
    "## Créer une nouvelle cellule\n",
    "\n",
    "Pour créer une nouvelle cellule à la suite de la cellule en cours de sélection il faut appuyer sur la touche 'b'.\n",
    "Pour ajouter une nouvelle cellule mais avant la cellule en cours de sélection il faut appuyer sur la touche 'a'."
   ]
  },
  {
   "cell_type": "markdown",
   "id": "3a47823b",
   "metadata": {},
   "source": [
    "## Supprimer une cellule\n",
    "\n",
    "Pour supprimer la cellule en cours de sélection il faut appuyer deux fois sur la touche 'd'."
   ]
  },
  {
   "cell_type": "markdown",
   "id": "40eb0a5a",
   "metadata": {},
   "source": [
    "## Exécuter une cellule\n",
    "\n",
    "Pour exécuter le code de la celulle en cours d'édition il faut appuyer simultanément sur la touche ctrl + entrer."
   ]
  },
  {
   "cell_type": "markdown",
   "id": "c5fa41f8",
   "metadata": {},
   "source": [
    "## Modifier une cellule\n",
    "\n",
    "Pour entrer en mode édition d'une cellule en cours de sélection il faut appuyer sur la touche 'entrer' ou alors faire un double clic sur celle-ci."
   ]
  }
 ],
 "metadata": {
  "kernelspec": {
   "display_name": "Python 3 (ipykernel)",
   "language": "python",
   "name": "python3"
  },
  "language_info": {
   "codemirror_mode": {
    "name": "ipython",
    "version": 3
   },
   "file_extension": ".py",
   "mimetype": "text/x-python",
   "name": "python",
   "nbconvert_exporter": "python",
   "pygments_lexer": "ipython3",
   "version": "3.11.5"
  }
 },
 "nbformat": 4,
 "nbformat_minor": 5
}
