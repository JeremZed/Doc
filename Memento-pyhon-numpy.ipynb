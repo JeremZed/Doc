{
 "cells": [
  {
   "cell_type": "markdown",
   "id": "8b96f192-91d7-43df-9e1c-5f79a35aa29f",
   "metadata": {},
   "source": [
    "## Intro"
   ]
  },
  {
   "cell_type": "code",
   "execution_count": 68,
   "id": "819f06f2-7617-4c30-917e-afd0f474a11a",
   "metadata": {},
   "outputs": [
    {
     "name": "stdout",
     "output_type": "stream",
     "text": [
      "<class 'list'>\n"
     ]
    },
    {
     "data": {
      "text/plain": [
       "2134.2"
      ]
     },
     "execution_count": 68,
     "metadata": {},
     "output_type": "execute_result"
    }
   ],
   "source": [
    "# NumPy => Numerical Python\n",
    "\n",
    "import numpy as np\n",
    "\n",
    "revenus = [1800,1500,2200,3000,2171]\n",
    "print(type(revenus))\n",
    "\n",
    "# Moyenne\n",
    "np.mean(revenus)"
   ]
  },
  {
   "cell_type": "markdown",
   "id": "6cec2aed-0eee-4241-bbbc-1c5b68827136",
   "metadata": {},
   "source": [
    "## Array\n",
    "\n",
    "Création d'un array :"
   ]
  },
  {
   "cell_type": "code",
   "execution_count": 55,
   "id": "a8777ca0-c653-45aa-82df-5bbf77e18f75",
   "metadata": {},
   "outputs": [
    {
     "data": {
      "text/plain": [
       "array([1800, 1500, 2200, 3000, 2171])"
      ]
     },
     "execution_count": 55,
     "metadata": {},
     "output_type": "execute_result"
    }
   ],
   "source": [
    "revenus_array = np.array(revenus)\n",
    "revenus_array"
   ]
  },
  {
   "cell_type": "code",
   "execution_count": 15,
   "id": "a908ba5e-551d-448d-a614-6feea2e02a89",
   "metadata": {},
   "outputs": [
    {
     "name": "stdout",
     "output_type": "stream",
     "text": [
      "[0. 0. 0. 0. 0.]\n",
      "[1. 1. 1. 1. 1.]\n",
      "[0 1 2 3 4]\n",
      "[10 13 16 19]\n",
      "[ 0.          3.33333333  6.66666667 10.        ]\n"
     ]
    }
   ],
   "source": [
    "n = 5\n",
    "# Array rempli de 0 pour n éléments\n",
    "np_zeros = np.zeros(n)\n",
    "print(np_zeros)\n",
    "# Array rempli de 1 pour n éléments\n",
    "np_ones = np.ones(n)\n",
    "print(np_ones)\n",
    "# Array rempli de façon linéaire d'un chiffre de départ jusqu'à un chiffre de fin en fonction du pas souhaité\n",
    "np_arange = np.arange(0,5,1)\n",
    "print(np_arange)\n",
    "np_arange = np.arange(10,20,3)\n",
    "print(np_arange)\n",
    "# Array rempli de n valeurs espacées uniformement entre un interval donné\n",
    "# Exemple : Ici on souhaite un array de 4 élements, où la valeur de départ est 0 et la valeur de fin soit 10\n",
    "np_linspace = np.linspace(0,10,4)\n",
    "print(np_linspace)"
   ]
  },
  {
   "cell_type": "markdown",
   "id": "66cb685c-3006-4171-807b-c6c175558f57",
   "metadata": {},
   "source": [
    "<div class=\"alert alert-warning\" >Un array ne peut être que d'un seul type.</div>"
   ]
  },
  {
   "cell_type": "code",
   "execution_count": 18,
   "id": "99f6f080-2d99-47bd-851d-0df0ae33c6ee",
   "metadata": {},
   "outputs": [
    {
     "name": "stdout",
     "output_type": "stream",
     "text": [
      "int64\n",
      "float64\n"
     ]
    }
   ],
   "source": [
    "# Afficher le type d'un array\n",
    "print(np_arange.dtype)\n",
    "print(np_linspace.dtype)"
   ]
  },
  {
   "cell_type": "code",
   "execution_count": 21,
   "id": "36d4bdc3-a31c-4927-89b1-38df5d2cbfdf",
   "metadata": {},
   "outputs": [
    {
     "name": "stdout",
     "output_type": "stream",
     "text": [
      "2200\n",
      "2171\n"
     ]
    }
   ],
   "source": [
    "# Accès à un élément\n",
    "print(revenus_array[2])\n",
    "# Accès au dernier élément\n",
    "print(revenus_array[-1])"
   ]
  },
  {
   "cell_type": "code",
   "execution_count": 56,
   "id": "395030c1-99b9-4e8b-aa12-6a2081fee0d7",
   "metadata": {},
   "outputs": [
    {
     "name": "stdout",
     "output_type": "stream",
     "text": [
      "[1800 1500 2200 3000 2171]\n",
      "[1800 1500 3500 3000 2171]\n"
     ]
    }
   ],
   "source": [
    "# Modifier une valeur\n",
    "print(revenus_array)\n",
    "revenus_array[2] = 3500\n",
    "print(revenus_array)"
   ]
  },
  {
   "cell_type": "code",
   "execution_count": 30,
   "id": "b856cb72-8109-4652-ad0d-2c3e8f33be2b",
   "metadata": {},
   "outputs": [
    {
     "data": {
      "text/plain": [
       "array([1500, 3500, 3000])"
      ]
     },
     "execution_count": 30,
     "metadata": {},
     "output_type": "execute_result"
    }
   ],
   "source": [
    "# Accès une plage d'éléments\n",
    "revenus_array[1:4]"
   ]
  },
  {
   "cell_type": "code",
   "execution_count": 31,
   "id": "0736490e-d053-44b9-b099-41df801e7369",
   "metadata": {},
   "outputs": [
    {
     "data": {
      "text/plain": [
       "array([1800, 1500, 3500])"
      ]
     },
     "execution_count": 31,
     "metadata": {},
     "output_type": "execute_result"
    }
   ],
   "source": [
    "# Trois premiers\n",
    "revenus_array[:3]"
   ]
  },
  {
   "cell_type": "code",
   "execution_count": 32,
   "id": "9f1a26a2-3590-4ba3-a8e5-9bb0967e34f4",
   "metadata": {},
   "outputs": [
    {
     "data": {
      "text/plain": [
       "array([3500, 3000, 2171])"
      ]
     },
     "execution_count": 32,
     "metadata": {},
     "output_type": "execute_result"
    }
   ],
   "source": [
    "# A partir du troisième jusque la fin\n",
    "revenus_array[2:]"
   ]
  },
  {
   "cell_type": "code",
   "execution_count": 34,
   "id": "46e4b86e-634a-44f8-ac4d-4492a2702ce2",
   "metadata": {},
   "outputs": [
    {
     "data": {
      "text/plain": [
       "array([2171, 3000, 3500, 1500, 1800])"
      ]
     },
     "execution_count": 34,
     "metadata": {},
     "output_type": "execute_result"
    }
   ],
   "source": [
    "# Si le \"pas\" est négatif on peut inverser le tableau\n",
    "revenus_array[::-1]"
   ]
  },
  {
   "cell_type": "code",
   "execution_count": 46,
   "id": "f85c1f83-7a06-45fd-ba97-f48554831004",
   "metadata": {},
   "outputs": [
    {
     "name": "stdout",
     "output_type": "stream",
     "text": [
      "[ 0  1  2  3  4  5  6  7  8  9 10 11 12 13 14 15 16 17 18 19]\n",
      "[ 0  2  4  6  8 10 12 14 16 18]\n",
      "[10 13 16 19]\n",
      "[ 6 10 14]\n"
     ]
    }
   ],
   "source": [
    "# Lister en fonction d'un \"pas\"\n",
    "items = np.arange(0,20)\n",
    "print(items)\n",
    "# Lister un element sur deux\n",
    "print(items[::2])\n",
    "# Lister tous les élements à partir de l'indice 10 mais avec un pas de 3\n",
    "print(items[10::3])\n",
    "# Lister les éléments à partir de l'indice 6 jusqu'à 16 mais avec un pas de 4\n",
    "print(items[6:16:4])"
   ]
  },
  {
   "cell_type": "code",
   "execution_count": 48,
   "id": "c6f2a078-33ec-420e-9a38-f0d3e8d47fde",
   "metadata": {},
   "outputs": [
    {
     "data": {
      "text/plain": [
       "array([3500, 3000, 2171])"
      ]
     },
     "execution_count": 48,
     "metadata": {},
     "output_type": "execute_result"
    }
   ],
   "source": [
    "# Lister en fonction d'une condition\n",
    "# On liste tous les élements du tableau dont la valeur est strictement supérieure à 2000\n",
    "revenus_array[ revenus_array > 2000 ]"
   ]
  },
  {
   "cell_type": "code",
   "execution_count": 50,
   "id": "3f52e4aa-4b2f-4fd4-a4e7-10f87abe71fb",
   "metadata": {},
   "outputs": [
    {
     "data": {
      "text/plain": [
       "array([2171])"
      ]
     },
     "execution_count": 50,
     "metadata": {},
     "output_type": "execute_result"
    }
   ],
   "source": [
    "# Lister avec plusieurs conditions\n",
    "# On liste tous les éléments de lu tableau dont la valeur est comprise strictement entre 2000 et 3000\n",
    "revenus_array[ (revenus_array > 2000) & (revenus_array < 3000) ]"
   ]
  },
  {
   "cell_type": "code",
   "execution_count": 53,
   "id": "062aef9d-b1d5-4fec-b64b-fa92e2fe95c2",
   "metadata": {},
   "outputs": [
    {
     "data": {
      "text/plain": [
       "array([1800, 1500, 3500, 3000, 2171])"
      ]
     },
     "execution_count": 53,
     "metadata": {},
     "output_type": "execute_result"
    }
   ],
   "source": [
    "# On liste tous les éléments de du tableau dont la valeur est comprise strictement supérieure à 2000 OU strictement inférieure à 3000\n",
    "# cad TOUT, ici c'est juste pour l'exemple de syntaxe avec le pipe (|) élément logique du \"OU\"\n",
    "revenus_array[ (revenus_array > 2000) | (revenus_array < 3000) ]"
   ]
  },
  {
   "cell_type": "code",
   "execution_count": 57,
   "id": "239e18f1-48bb-4f12-8766-4c04770573fb",
   "metadata": {},
   "outputs": [
    {
     "name": "stdout",
     "output_type": "stream",
     "text": [
      "[   0    0 3500 3000    0]\n"
     ]
    }
   ],
   "source": [
    "# On peut modifier plusieurs élément d'un array avec une condition\n",
    "revenus_array[ revenus_array < 2500 ] = 0\n",
    "print(revenus_array)"
   ]
  },
  {
   "cell_type": "code",
   "execution_count": 58,
   "id": "57b26a27-75f1-48fc-ba62-99730bd47651",
   "metadata": {},
   "outputs": [
    {
     "data": {
      "text/plain": [
       "(5,)"
      ]
     },
     "execution_count": 58,
     "metadata": {},
     "output_type": "execute_result"
    }
   ],
   "source": [
    "# Accès aux dimensions d'un array\n",
    "revenus_array.shape"
   ]
  },
  {
   "cell_type": "code",
   "execution_count": 67,
   "id": "eb0a744d-b61c-47b8-8f4a-a2a030860964",
   "metadata": {},
   "outputs": [
    {
     "name": "stdout",
     "output_type": "stream",
     "text": [
      "[1800 1500 2200 3000 2171]\n",
      "2134.2\n",
      "3000\n",
      "1500\n",
      "1\n",
      "3\n",
      "[1500 1800 2171 2200 3000]\n",
      "10671\n"
     ]
    }
   ],
   "source": [
    "# Autres fonctions\n",
    "revenus_array = np.array(revenus)\n",
    "print(revenus_array)\n",
    "# moyenne\n",
    "print(revenus_array.mean())\n",
    "# Retourner la valeur max présente dans notre tableau\n",
    "print(revenus_array.max())\n",
    "# Retourner la valeur minimale présente dans notre tableau\n",
    "print(revenus_array.min())\n",
    "# Retourner l'index de la valeur minimale présente dans notre tableau\n",
    "print(revenus_array.argmin())\n",
    "# Retourner l'index de la valeur maximale présente dans notre tableau\n",
    "print(revenus_array.argmax())\n",
    "# Trier le tableau par ordre croissant\n",
    "revenus_array.sort()\n",
    "print(revenus_array)\n",
    "# Calculer la somme de toutes les valeurs du tableau\n",
    "print(revenus_array.sum())"
   ]
  },
  {
   "cell_type": "code",
   "execution_count": 72,
   "id": "d27569d3-f74c-4f6d-a2a9-9eb18756c97f",
   "metadata": {},
   "outputs": [
    {
     "name": "stdout",
     "output_type": "stream",
     "text": [
      "[[1 2]\n",
      " [3 4]\n",
      " [5 6]] (3, 2)\n",
      "[[1 2 3]\n",
      " [4 5 6]] (2, 3)\n"
     ]
    }
   ],
   "source": [
    "# Array multidimension\n",
    "array1 = np.array([\n",
    "    [1,2],\n",
    "    [3,4],\n",
    "    [5,6]\n",
    "])\n",
    "array2 = np.array([\n",
    "    [1,2,3],\n",
    "    [4,5,6],\n",
    "])\n",
    "print(array1, array1.shape) # 3 éléments de 2 col\n",
    "print(array2, array2.shape) # 2 éléments de 3 col"
   ]
  },
  {
   "cell_type": "code",
   "execution_count": 85,
   "id": "850050de-39f8-4d9d-bbca-add0731ce77e",
   "metadata": {},
   "outputs": [
    {
     "name": "stdout",
     "output_type": "stream",
     "text": [
      "Somme de A+B :\n",
      "[[ 1  2]\n",
      " [12 -3]]\n",
      "Produit de A*B\n",
      "[[ -2  -8]\n",
      " [ 35 -18]]\n",
      "Produit matricielle de [A.B]\n",
      "[[-16  20]\n",
      " [ 16   2]]\n"
     ]
    }
   ],
   "source": [
    "# Matrice\n",
    "\n",
    "A = np.array([ [2,-2], [5,3] ])\n",
    "B = np.array([ [-1,4], [7,-6] ])\n",
    "\n",
    "# Somme de deux matrices\n",
    "print(\"Somme de A+B :\")\n",
    "print(A+B)\n",
    "# Multiplcation de deux matrices\n",
    "print(\"Produit de A*B\")\n",
    "print(A*B)\n",
    "# A ne pas confondre avec un produit matricielle\n",
    "print(\"Produit matricielle de [A.B]\")\n",
    "print(np.dot(A,B))\n",
    "\n",
    "C = np.array([ [2,4,6], [8,10,12] ])\n"
   ]
  },
  {
   "cell_type": "code",
   "execution_count": 86,
   "id": "4b6b4793-4b52-45ad-b71f-e0595529b707",
   "metadata": {},
   "outputs": [
    {
     "name": "stdout",
     "output_type": "stream",
     "text": [
      "[[1300, 400, 23], [1700, 560, 24], [2500, 900, 30], [3000, 1000, 22], [2400, 700, 35]]\n"
     ]
    }
   ],
   "source": [
    "# Accès aux datas\n",
    "hugo = [1300, 400, 23] # salaire | cout | age\n",
    "richard = [1700, 560, 24]\n",
    "emilie = [2500, 900, 30]\n",
    "gaspard = [3000, 1000, 22]\n",
    "jean = [2400, 700, 35]\n",
    "\n",
    "clients = [hugo, richard, emilie, gaspard, jean]\n",
    "\n",
    "print(clients)"
   ]
  },
  {
   "cell_type": "code",
   "execution_count": 88,
   "id": "25003f95-e309-4ace-9058-1e93295d1705",
   "metadata": {},
   "outputs": [
    {
     "name": "stdout",
     "output_type": "stream",
     "text": [
      "[[1300  400   23]\n",
      " [1700  560   24]\n",
      " [2500  900   30]\n",
      " [3000 1000   22]\n",
      " [2400  700   35]]\n"
     ]
    }
   ],
   "source": [
    "data = np.array(clients)\n",
    "print(data)"
   ]
  },
  {
   "cell_type": "code",
   "execution_count": 90,
   "id": "9f0f8c01-a939-4182-8c9f-f1e4decc2e73",
   "metadata": {},
   "outputs": [
    {
     "name": "stdout",
     "output_type": "stream",
     "text": [
      "1300\n"
     ]
    }
   ],
   "source": [
    "# Accès au salaire du client Hugo (première ligne, premiere colonne)\n",
    "print(data[0,0])"
   ]
  },
  {
   "cell_type": "code",
   "execution_count": 91,
   "id": "d46aaab3-cadf-43f7-9804-5839a5ac1ce3",
   "metadata": {},
   "outputs": [
    {
     "name": "stdout",
     "output_type": "stream",
     "text": [
      "[1300  400   23]\n"
     ]
    }
   ],
   "source": [
    "# Accès aux informations du client Hugo (toute la ligne)\n",
    "print(data[0, :])"
   ]
  },
  {
   "cell_type": "code",
   "execution_count": 93,
   "id": "7cea4ffc-148f-4ce4-9ebe-90475972427a",
   "metadata": {},
   "outputs": [
    {
     "name": "stdout",
     "output_type": "stream",
     "text": [
      "[23 24 30 22 35]\n"
     ]
    }
   ],
   "source": [
    "# Accès aux âges de tous les clients (toutes les ligne, de la troisième colonne)\n",
    "print(data[:, 2])"
   ]
  },
  {
   "cell_type": "code",
   "execution_count": 94,
   "id": "c658e744-4d2f-434e-a672-692aab933694",
   "metadata": {},
   "outputs": [
    {
     "name": "stdout",
     "output_type": "stream",
     "text": [
      "[[2500  900   30]\n",
      " [2400  700   35]]\n"
     ]
    }
   ],
   "source": [
    "# Accès aux clients de plus ou égale à de 30 ans\n",
    "print(data[ data[:, 2] >= 30 ])"
   ]
  },
  {
   "cell_type": "code",
   "execution_count": 95,
   "id": "5c0dde42-d397-4995-942a-ab718167f6e2",
   "metadata": {},
   "outputs": [
    {
     "name": "stdout",
     "output_type": "stream",
     "text": [
      "[[1300  400   23]\n",
      " [1700  560   24]]\n"
     ]
    }
   ],
   "source": [
    "# Accès aux clients avec un salaire de moins de 2000\n",
    "print(data[ data[:, 0] < 2000 ])"
   ]
  },
  {
   "cell_type": "code",
   "execution_count": 99,
   "id": "abda90e5-7894-458f-8e37-a3d202a49192",
   "metadata": {},
   "outputs": [
    {
     "name": "stdout",
     "output_type": "stream",
     "text": [
      "[[1300  400   23]\n",
      " [1700  560   24]\n",
      " [2500  900   30]\n",
      " [3000 1000   22]\n",
      " [2400  700   35]\n",
      " [4500  840   17]\n",
      " [4500  840   17]]\n"
     ]
    }
   ],
   "source": [
    "fred = [4500, 840, 17]\n",
    "\n",
    "# Ajouter un nouvel élément au tableau numpy\n",
    "data = np.vstack((data, fred))\n",
    "print(data)"
   ]
  }
 ],
 "metadata": {
  "kernelspec": {
   "display_name": "Python 3 (ipykernel)",
   "language": "python",
   "name": "python3"
  },
  "language_info": {
   "codemirror_mode": {
    "name": "ipython",
    "version": 3
   },
   "file_extension": ".py",
   "mimetype": "text/x-python",
   "name": "python",
   "nbconvert_exporter": "python",
   "pygments_lexer": "ipython3",
   "version": "3.10.13"
  }
 },
 "nbformat": 4,
 "nbformat_minor": 5
}
