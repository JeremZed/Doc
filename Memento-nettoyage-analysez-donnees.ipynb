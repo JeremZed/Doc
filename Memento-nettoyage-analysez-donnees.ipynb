{
 "cells": [
  {
   "cell_type": "markdown",
   "id": "a00f8df0-072b-4879-a54a-aadbfe6615ad",
   "metadata": {},
   "source": [
    "# Memento Nettoyer et analyser les données"
   ]
  },
  {
   "cell_type": "markdown",
   "id": "ba988750-34aa-4447-b39e-d4b542309035",
   "metadata": {},
   "source": [
    "## Vocabulaire\n",
    "\n",
    "- <u>Individus</u> : Unité d'observation (ligne du dataset : clients, personne, animaux, mesures physique...)\n",
    "- <u>Variables</u> : Caractéristiques des <b>individus</b>\n",
    "- <u>Population</u> : Ensemble des <b>individus</b>. Sa taille est noté <b>N</b>.\n",
    "- <u>Echantillon</u> : Fraction d'<b>individus</b> sélectionnés d'une <b>population</b>. Sa taille est noté <b>n</b>\n",
    "- <u>Jeu de données</u> : Ensemble des informations récoltées sur les <b>individus</b> de l'<b>échantillon</b>, présenté sous forme de tableau. Un ligne est un <b>individu</b>, une colonne est une <b>variable</b>.\n",
    "- <u>Statistiques</u> : Fait d'observer et de décrire objectivement un phénomère passé.\n",
    "- <u>Probabilités</u> : Fait de modéliser, essayer de comprendre les risques ou chances qu'un évènement se produise.\n",
    "- <u>Statistiques descriptives</u> : Présenter, décrire et résumer le jeu de données à l'aide de graphique et de mesures (moyenne, écart-type...) sur une ou deux variables.\n",
    "- <u>Statistiques multidimensionnelle</u> : Appelée Analyse Exploratoire de Données - AED, c'est l'étude la relation entre 3 variables ou plus.\n",
    "- <u>Statistiques inférentielles</u> : Analyser les données d'un sous ensemble d'une population pour en déduire les caractérisques globales de la population.\n",
    "- <u>Modélisation statistique</u> : Observer les variables d'un échantillon, et ensuite de formaliser les observations par des règles mathématiques (modèle probalistique) dans le but d'en faire des prédictions.\n",
    "- <u>Imputation</u> : Consiste à deviner une valeur manquante.\n",
    "- <u>Amputation</u> : Le fait de supprimer les individus avec les valeurs manquantes.\n",
    "- <u>Outlier aberrante</u> : Valeur manifestement fausse\n",
    "- <u>Outlier atypique</u> : Valeur qui sort du lot mais pas forcément fausse.\n",
    "- <u>Biais</u> : Le fait de modifier, supprimer des valeurs, individus ou d'effectuer des imputations sur le jeu de données.\n",
    "- <u>Analyse univariée</u> : Est une analyse effectuée sur une seule variable à la fois.\n",
    "- <u>Analyse bivariée</u> : Est une analyse menée entre deux variables. Elle permet d'établir des recommandations métier pertinentes sur les individus à partir de la compréhension du comportement d'une variable par rapport à une autre.\n",
    "    - Diagramme de dispersion (scatterplot) quand 2 variables quantitatives.\n",
    "    - Tableau de contingence quand 2 variables qualitatives.\n",
    "- <u>Indice statistique</u> : Statistique contruite à partir d'une vision, à partir de connaissance d'un domaine (ex :économie)\n",
    "- <u>Indicateur statistique</u> : Statistique contruit de façon neutre, construite sans à-priori et sans intention derrière comme une moyenne.\n",
    "- <u>Discrétisation</u> : Ou \"découpage en classes\" vise à simplifier des données brutes (données continues) en rassemblant les valeurs qui sont proches ou se ressemblent en différentes classes, présentées sous forme de fourchettes de valeurs (ex :de 0 à 10, de 10 à 25, de 25 à 33, etc.).\n",
    "- <u>Classe modale</u> : Correspond à la classe qui apparaît le plus de fois\n",
    "- <u>Médiane</u> : Est le point milieu d’un jeu de données, de sorte que 50 % des unités ont une valeur inférieure ou égale à la médiane et 50 % des unités ont une valeur supérieure ou égale.\n",
    "- <u>Variance</u> : Est la somme des différences à la moyenne au carré, divisée par l'effectif total.\n",
    "- <u>Ecart-type</u> : L'écart-type correspond à la racine carrée de la variance.\n",
    "- <u>Ecart moyen absolue</u> : Similaire à la variance, à la différence que le calcul fait intervenir la valeur absolue plutôt que le passage au carré.\n",
    "- <u>Coefficient de variation</u> : Est l'écart-type empirique divisé par la moyenne\n",
    "- <u>Ecart interquartile</u> : Est la différence entre le 3e quartile et le 1er quartile.\n",
    "- <u>Skewness empirique</u> : Est une mesure d'asymétrie. L’asymétrie d’une distribution traduit la régularité (ou non) avec laquelle les observations se répartissent autour de la valeur centrale.\n",
    "    - Si γ1==0 alors la distribution est symétrique.\n",
    "    - Si γ1>0 alors la distribution est étalée à droite.\n",
    "    - Si γ1<0 alors la distribution est étalée à gauche.\n",
    "- <u>Kurtosis empirique</u> : N'est pas une mesure d'asymétrie, mais c'est une mesure d'aplatissement.\n",
    "- <u>Aplatissement : </u> S’interprétre à la condition que la distribution soit symétrique. En fait, on compare l'aplatissement par rapport à la distribution la plus célèbre, appelée distribution normale.\n",
    "    - Si γ2==0 alors la distribution a le même aplatissement que la distribution normale.\n",
    "    - Si γ2>0 alors elle est moins aplatie que la distribution normale : les observations sont plus concentrées.\n",
    "    - Si γ2<0 alors les observations sont moins concentrées : la distribution est plus aplatie.\n",
    "- <u>Les mesures de concentration</u> : Permet d'évaluer si une variable est également répartie (ou non) entre différents individus.\n",
    "- <u>La courbe de Lorenz</u> : Permet de représenter la répartition d'une variable au sein d'une population, notamment si elle est égalitaire ou non.\n",
    "- <u>La médiale</u> : la courbe de Lorenz est un escalier de hauteur 1. La donnée médiale, c'est simplement la qui se trouve à la moitié de la hauteur : 0,5.\n",
    "- <u>Indice de Gini</u> : La courbe de Lorenz n'est pas une statistique, c'est une courbe ! Du coup, il existe l'indice de Gini. Il permet d'évaluer de façon chiffrée cette répartition. Il correspond à deux fois l'aire sous la courbe de Lorenz.\n",
    "- <u>Corrélation</u> : La notion de relation entre variables est appelée corrélation. Dire que deux variables sont corrélées signifie que si on connaît la valeur d’une variable, alors il est possible d’avoir une indication (plus ou moins précise) sur la valeur d’une autre variable.\n",
    "- <u>Corrélations fallacieuses</u> : Quand 2 variables sont corrélées sans qu’il n’y ait aucun lien entre elles.\n",
    "- <u>Coefficient de détermination</u> : Le coefficient de détermination noté R au carré\n",
    " permet d'évaluer la qualité d'un modèle. Il  représente le pourcentage de variation expliquée de la variable cible par notre modèle. R² = SCE / SCT\n",
    "- <u>Méthode des moindres carrés ordinaire (MCO)</u> : Elle consiste à minimiser la somme des carrés des écarts, entre chaque point du nuage de régression et son projeté, parallèlement à l'axe des ordonnées, sur la droite de régression.\n",
    "- <u>ANOVA</u> : ANalysis Of VAriance, analyse de la variance, utilisé en statistiques inférentielles. Il s’agit ici de l’analyse de la variance. Elle est similaire à LDA (analyse discriminante linéaire) à l’exception qu’il est exploité en utilisant une ou plusieurs variables indépendantes catégorielles et une variable dépendante continu. Il fournit également un test statistique pour savoir si les moyennes de plusieurs groupes sont égales ou non.\n",
    "- <u>SCT = SCE + SCR</u> : Variation Totale = Variation Interclasse + Variation Intraclasse\n",
    "- <u>corrélation de Pearson</u> : Elle est utilisé pour mesurer et quantifier la dépendance linéaire entre deux variables continues X et Y, où X est la variable et Y la variable prédite.\n",
    "- <u>corrélation de Spearman</u> : Est plus générale et est l’équivalent non paramétrique de la corrélation de Pearson. Le coefficient de Spearman permet de détecter des tendances monotones. Lorsque la tendance est affine, il se comporte de façon similaire au coefficient de Pearson. En revanche, il sera plus élevé que la corrélation de Pearson si la tendance est monotone mais non affine.\n",
    "- <u>Chi-carré</u> :  Il s’agit d’un test statistique appliqué aux groupes de variables catégorielles pour évaluer la probabilité de corrélation ou d’association entre ces variables en utilisant leur distribution de fréquence."
   ]
  },
  {
   "cell_type": "code",
   "execution_count": 68,
   "id": "6125997e-14e6-4d6a-8f05-c0f14b9d1a67",
   "metadata": {},
   "outputs": [
    {
     "data": {
      "text/html": [
       "<div>\n",
       "<style scoped>\n",
       "    .dataframe tbody tr th:only-of-type {\n",
       "        vertical-align: middle;\n",
       "    }\n",
       "\n",
       "    .dataframe tbody tr th {\n",
       "        vertical-align: top;\n",
       "    }\n",
       "\n",
       "    .dataframe thead th {\n",
       "        text-align: right;\n",
       "    }\n",
       "</style>\n",
       "<table border=\"1\" class=\"dataframe\">\n",
       "  <thead>\n",
       "    <tr style=\"text-align: right;\">\n",
       "      <th></th>\n",
       "      <th>date_operation</th>\n",
       "      <th>libelle</th>\n",
       "      <th>montant</th>\n",
       "      <th>solde_avt_ope</th>\n",
       "      <th>categ</th>\n",
       "    </tr>\n",
       "  </thead>\n",
       "  <tbody>\n",
       "    <tr>\n",
       "      <th>0</th>\n",
       "      <td>2023-03-31</td>\n",
       "      <td>DON XX XX XX XX XX XX XX</td>\n",
       "      <td>-1.44</td>\n",
       "      <td>1515.25</td>\n",
       "      <td>AUTRE</td>\n",
       "    </tr>\n",
       "    <tr>\n",
       "      <th>1</th>\n",
       "      <td>2023-04-03</td>\n",
       "      <td>CARTE XX XX RAPT XX</td>\n",
       "      <td>-24.00</td>\n",
       "      <td>1513.81</td>\n",
       "      <td>TRANSPORT</td>\n",
       "    </tr>\n",
       "    <tr>\n",
       "      <th>2</th>\n",
       "      <td>2023-04-03</td>\n",
       "      <td>CARTE XX XX RAPT XX</td>\n",
       "      <td>-73.00</td>\n",
       "      <td>1489.81</td>\n",
       "      <td>TRANSPORT</td>\n",
       "    </tr>\n",
       "    <tr>\n",
       "      <th>3</th>\n",
       "      <td>2023-04-03</td>\n",
       "      <td>VIREMENT XX XX XX XX XX XX XX XX XX XX XX XX</td>\n",
       "      <td>676.00</td>\n",
       "      <td>1416.81</td>\n",
       "      <td>AUTRE</td>\n",
       "    </tr>\n",
       "    <tr>\n",
       "      <th>4</th>\n",
       "      <td>2023-04-03</td>\n",
       "      <td>VIREMENT XX XX XX XX XX XX</td>\n",
       "      <td>4.80</td>\n",
       "      <td>2092.81</td>\n",
       "      <td>AUTRE</td>\n",
       "    </tr>\n",
       "  </tbody>\n",
       "</table>\n",
       "</div>"
      ],
      "text/plain": [
       "  date_operation                                       libelle  montant  \\\n",
       "0     2023-03-31                      DON XX XX XX XX XX XX XX    -1.44   \n",
       "1     2023-04-03                           CARTE XX XX RAPT XX   -24.00   \n",
       "2     2023-04-03                           CARTE XX XX RAPT XX   -73.00   \n",
       "3     2023-04-03  VIREMENT XX XX XX XX XX XX XX XX XX XX XX XX   676.00   \n",
       "4     2023-04-03                    VIREMENT XX XX XX XX XX XX     4.80   \n",
       "\n",
       "   solde_avt_ope      categ  \n",
       "0        1515.25      AUTRE  \n",
       "1        1513.81  TRANSPORT  \n",
       "2        1489.81  TRANSPORT  \n",
       "3        1416.81      AUTRE  \n",
       "4        2092.81      AUTRE  "
      ]
     },
     "execution_count": 68,
     "metadata": {},
     "output_type": "execute_result"
    }
   ],
   "source": [
    "import pandas as pd\n",
    "import numpy as np\n",
    "import re\n",
    "import matplotlib.pyplot as plt\n",
    "import scipy.stats as st\n",
    "import datetime as dt\n",
    "import statsmodels.api as sm\n",
    "import seaborn as sns\n",
    "\n",
    "operations = pd.read_csv('./resources/operations.csv')\n",
    "\n",
    "operations.head()"
   ]
  },
  {
   "cell_type": "markdown",
   "id": "8ee39f1c-e6c1-4e9d-8c80-df9068cb2f2c",
   "metadata": {},
   "source": [
    "## Les variables"
   ]
  },
  {
   "cell_type": "markdown",
   "id": "3c98827b-5ac5-4e74-8976-5ff460263d0e",
   "metadata": {},
   "source": [
    "### Variable quantitative\n",
    "\n",
    "Variable avec une <b>valeur numérique</b> à condition que ces valeurs expriment une quantité et qu'il est possible d'effectuer une opération arithmétique.\n",
    "\n",
    "\n",
    "Une variable quantitative est soit discrète (valeur précise 1,2,3,4...) , soit continue (variable float ).\n",
    "\n",
    "### Variable qualitative\n",
    "\n",
    "Variable avec une valeur qui représente une <b>modalité</b> (catégorie).\n",
    "\n",
    "Une variable est dite <b>ordinale</b>, si ses modalités peuvent être ordonées. A l'inverse elle est dite <b>nominale</b> \n",
    "\n",
    "### Variable dichotomique\n",
    "\n",
    "Variable qualitative qui ne prend que deux modalités (0/1, true/false). Aussi appelée variable binaire, booléenne.\n",
    "\n"
   ]
  },
  {
   "cell_type": "markdown",
   "id": "3731b62f-d48c-4663-8f18-bf548b341e64",
   "metadata": {},
   "source": [
    "## Type d'erreurs\n",
    "\n",
    "- Valeur manquante : Cellule vide.\n",
    "- Erreur lexicale : La cellule attend un nom mais possède un chiffre.\n",
    "- Erreur d'irrégularité : La cellule attend une valeur en cm mais elle possède une valeur en mètre.\n",
    "- Erreur de formatage : La cellule ne possède pas le bon format de date par exemple.\n",
    "- Doublon : Présence de plus d'une fois d'un individu.\n",
    "- Outlier : Valeur abérente/atypique d'une variable, par exemple avoir une taille de 3.5 pour une femme.\n",
    "\n"
   ]
  },
  {
   "cell_type": "code",
   "execution_count": 2,
   "id": "167ef00e-dd70-4b01-b64e-8ed3f9cbcca1",
   "metadata": {},
   "outputs": [
    {
     "data": {
      "text/html": [
       "<div>\n",
       "<style scoped>\n",
       "    .dataframe tbody tr th:only-of-type {\n",
       "        vertical-align: middle;\n",
       "    }\n",
       "\n",
       "    .dataframe tbody tr th {\n",
       "        vertical-align: top;\n",
       "    }\n",
       "\n",
       "    .dataframe thead th {\n",
       "        text-align: right;\n",
       "    }\n",
       "</style>\n",
       "<table border=\"1\" class=\"dataframe\">\n",
       "  <thead>\n",
       "    <tr style=\"text-align: right;\">\n",
       "      <th></th>\n",
       "      <th>prenom</th>\n",
       "      <th>email</th>\n",
       "      <th>date_naissance</th>\n",
       "      <th>pays</th>\n",
       "      <th>taille</th>\n",
       "    </tr>\n",
       "  </thead>\n",
       "  <tbody>\n",
       "    <tr>\n",
       "      <th>0</th>\n",
       "      <td>Leila</td>\n",
       "      <td>leila@example.com</td>\n",
       "      <td>23/01/1990</td>\n",
       "      <td>France</td>\n",
       "      <td>1.49m</td>\n",
       "    </tr>\n",
       "    <tr>\n",
       "      <th>1</th>\n",
       "      <td>Samuel</td>\n",
       "      <td>samuel_329@example.com</td>\n",
       "      <td>20/09/2001</td>\n",
       "      <td>NaN</td>\n",
       "      <td>1.67m</td>\n",
       "    </tr>\n",
       "    <tr>\n",
       "      <th>2</th>\n",
       "      <td>Radia</td>\n",
       "      <td>choupipoune@supermail.eu</td>\n",
       "      <td>12 sept. 1984</td>\n",
       "      <td>Côte d'ivoire</td>\n",
       "      <td>153cm</td>\n",
       "    </tr>\n",
       "    <tr>\n",
       "      <th>3</th>\n",
       "      <td>Marc</td>\n",
       "      <td>marco23@example.com, mc23@supermail.eu</td>\n",
       "      <td>10/02/1978</td>\n",
       "      <td>France</td>\n",
       "      <td>1.65m</td>\n",
       "    </tr>\n",
       "    <tr>\n",
       "      <th>4</th>\n",
       "      <td>Heri</td>\n",
       "      <td>helloworld@supermail.eu</td>\n",
       "      <td>05/03/2008</td>\n",
       "      <td>Madagascar</td>\n",
       "      <td>1.34m</td>\n",
       "    </tr>\n",
       "    <tr>\n",
       "      <th>5</th>\n",
       "      <td>Hanna</td>\n",
       "      <td>hanna2019@supermail.eu</td>\n",
       "      <td>01/01/1970</td>\n",
       "      <td>24</td>\n",
       "      <td>3.45m</td>\n",
       "    </tr>\n",
       "    <tr>\n",
       "      <th>6</th>\n",
       "      <td>samuël</td>\n",
       "      <td>samuel_329@example.com</td>\n",
       "      <td>NaN</td>\n",
       "      <td>Bénin</td>\n",
       "      <td>1.45m</td>\n",
       "    </tr>\n",
       "  </tbody>\n",
       "</table>\n",
       "</div>"
      ],
      "text/plain": [
       "   prenom                                   email date_naissance  \\\n",
       "0   Leila                       leila@example.com     23/01/1990   \n",
       "1  Samuel                  samuel_329@example.com     20/09/2001   \n",
       "2   Radia                choupipoune@supermail.eu  12 sept. 1984   \n",
       "3    Marc  marco23@example.com, mc23@supermail.eu     10/02/1978   \n",
       "4    Heri                 helloworld@supermail.eu     05/03/2008   \n",
       "5   Hanna                  hanna2019@supermail.eu     01/01/1970   \n",
       "6  samuël                  samuel_329@example.com            NaN   \n",
       "\n",
       "            pays taille  \n",
       "0         France  1.49m  \n",
       "1            NaN  1.67m  \n",
       "2  Côte d'ivoire  153cm  \n",
       "3         France  1.65m  \n",
       "4     Madagascar  1.34m  \n",
       "5             24  3.45m  \n",
       "6          Bénin  1.45m  "
      ]
     },
     "execution_count": 2,
     "metadata": {},
     "output_type": "execute_result"
    }
   ],
   "source": [
    "data = pd.read_csv('./resources/personnes.csv')\n",
    "data"
   ]
  },
  {
   "cell_type": "markdown",
   "id": "c7d2f03b-2b1e-4f94-8fa2-cf0e14a73ee7",
   "metadata": {},
   "source": [
    "## Détecter les erreurs"
   ]
  },
  {
   "cell_type": "code",
   "execution_count": 3,
   "id": "0d9bacfb-2bf8-44e0-8613-cad80f4f265e",
   "metadata": {},
   "outputs": [
    {
     "name": "stdout",
     "output_type": "stream",
     "text": [
      "   prenom  email  date_naissance   pays  taille\n",
      "0   False  False           False  False   False\n",
      "1   False  False           False   True   False\n",
      "2   False  False           False  False   False\n",
      "3   False  False           False  False   False\n",
      "4   False  False           False  False   False\n",
      "5   False  False           False  False   False\n",
      "6   False  False            True  False   False\n"
     ]
    }
   ],
   "source": [
    "# Les valeurs manquantes\n",
    "print(data.isnull())"
   ]
  },
  {
   "cell_type": "code",
   "execution_count": 4,
   "id": "3a838fbb-145f-4a1e-9620-0dccb12aecd0",
   "metadata": {},
   "outputs": [
    {
     "name": "stdout",
     "output_type": "stream",
     "text": [
      "prenom            0\n",
      "email             0\n",
      "date_naissance    1\n",
      "pays              1\n",
      "taille            0\n",
      "dtype: int64\n"
     ]
    }
   ],
   "source": [
    "# Le nombre de valeur manquante par variable\n",
    "print(data.isnull().sum())"
   ]
  },
  {
   "cell_type": "code",
   "execution_count": 5,
   "id": "565d5bab-2145-4ed1-98da-619c0b37ade6",
   "metadata": {},
   "outputs": [
    {
     "name": "stdout",
     "output_type": "stream",
     "text": [
      "   prenom                   email date_naissance   pays taille\n",
      "1  Samuel  samuel_329@example.com     20/09/2001    NaN  1.67m\n",
      "6  samuël  samuel_329@example.com            NaN  Bénin  1.45m\n"
     ]
    }
   ],
   "source": [
    "## Les doublons - Dans le cas où l'identifiant des personnes est l'adresse email\n",
    "print(data.loc[ data['email'].duplicated(keep=False), : ])"
   ]
  },
  {
   "cell_type": "code",
   "execution_count": 6,
   "id": "a8809eec-5d2a-43da-bfec-adb06ed5bafa",
   "metadata": {},
   "outputs": [
    {
     "data": {
      "text/plain": [
       "1    NaN\n",
       "5     24\n",
       "Name: pays, dtype: object"
      ]
     },
     "execution_count": 6,
     "metadata": {},
     "output_type": "execute_result"
    }
   ],
   "source": [
    "# Traitement des pays inconnus\n",
    "VALID_COUNTRIES = [ 'France', 'Côte d\\'ivoire', 'Madagascar', 'Bénin', 'Allemagne', 'USA' ]\n",
    "\n",
    "# Tous les pays qui ne sont pas dans la liste des pays VALID_COUNTRIES ( ~ tilde utilisé pour la négation ) \n",
    "mask = ~data['pays'].isin(VALID_COUNTRIES)\n",
    "# On vérifie que l'on a bien le masque d'appliqué\n",
    "data.loc[mask, 'pays']"
   ]
  },
  {
   "cell_type": "code",
   "execution_count": 7,
   "id": "08fd8107-ae42-43c0-b6a4-6c0d9dec3147",
   "metadata": {},
   "outputs": [
    {
     "data": {
      "text/plain": [
       "0           France\n",
       "1              NaN\n",
       "2    Côte d'ivoire\n",
       "3           France\n",
       "4       Madagascar\n",
       "5              NaN\n",
       "6            Bénin\n",
       "Name: pays, dtype: object"
      ]
     },
     "execution_count": 7,
     "metadata": {},
     "output_type": "execute_result"
    }
   ],
   "source": [
    "# On modifie les valeurs erronées par une valeur inconnue\n",
    "data.loc[mask, 'pays'] = np.NaN\n",
    "data['pays']"
   ]
  },
  {
   "cell_type": "code",
   "execution_count": 8,
   "id": "a490bbf3-51f6-43af-a6c2-0ebc35ad0166",
   "metadata": {},
   "outputs": [
    {
     "data": {
      "text/html": [
       "<div>\n",
       "<style scoped>\n",
       "    .dataframe tbody tr th:only-of-type {\n",
       "        vertical-align: middle;\n",
       "    }\n",
       "\n",
       "    .dataframe tbody tr th {\n",
       "        vertical-align: top;\n",
       "    }\n",
       "\n",
       "    .dataframe thead th {\n",
       "        text-align: right;\n",
       "    }\n",
       "</style>\n",
       "<table border=\"1\" class=\"dataframe\">\n",
       "  <thead>\n",
       "    <tr style=\"text-align: right;\">\n",
       "      <th></th>\n",
       "      <th>prenom</th>\n",
       "      <th>email</th>\n",
       "      <th>date_naissance</th>\n",
       "      <th>pays</th>\n",
       "      <th>taille</th>\n",
       "    </tr>\n",
       "  </thead>\n",
       "  <tbody>\n",
       "    <tr>\n",
       "      <th>0</th>\n",
       "      <td>Leila</td>\n",
       "      <td>leila@example.com</td>\n",
       "      <td>23/01/1990</td>\n",
       "      <td>France</td>\n",
       "      <td>1.49m</td>\n",
       "    </tr>\n",
       "    <tr>\n",
       "      <th>1</th>\n",
       "      <td>Samuel</td>\n",
       "      <td>samuel_329@example.com</td>\n",
       "      <td>20/09/2001</td>\n",
       "      <td>NaN</td>\n",
       "      <td>1.67m</td>\n",
       "    </tr>\n",
       "    <tr>\n",
       "      <th>2</th>\n",
       "      <td>Radia</td>\n",
       "      <td>choupipoune@supermail.eu</td>\n",
       "      <td>12 sept. 1984</td>\n",
       "      <td>Côte d'ivoire</td>\n",
       "      <td>153cm</td>\n",
       "    </tr>\n",
       "    <tr>\n",
       "      <th>3</th>\n",
       "      <td>Marc</td>\n",
       "      <td>marco23@example.com, mc23@supermail.eu</td>\n",
       "      <td>10/02/1978</td>\n",
       "      <td>France</td>\n",
       "      <td>1.65m</td>\n",
       "    </tr>\n",
       "    <tr>\n",
       "      <th>4</th>\n",
       "      <td>Heri</td>\n",
       "      <td>helloworld@supermail.eu</td>\n",
       "      <td>05/03/2008</td>\n",
       "      <td>Madagascar</td>\n",
       "      <td>1.34m</td>\n",
       "    </tr>\n",
       "    <tr>\n",
       "      <th>5</th>\n",
       "      <td>Hanna</td>\n",
       "      <td>hanna2019@supermail.eu</td>\n",
       "      <td>01/01/1970</td>\n",
       "      <td>NaN</td>\n",
       "      <td>3.45m</td>\n",
       "    </tr>\n",
       "    <tr>\n",
       "      <th>6</th>\n",
       "      <td>samuël</td>\n",
       "      <td>samuel_329@example.com</td>\n",
       "      <td>NaN</td>\n",
       "      <td>Bénin</td>\n",
       "      <td>1.45m</td>\n",
       "    </tr>\n",
       "  </tbody>\n",
       "</table>\n",
       "</div>"
      ],
      "text/plain": [
       "   prenom                                   email date_naissance  \\\n",
       "0   Leila                       leila@example.com     23/01/1990   \n",
       "1  Samuel                  samuel_329@example.com     20/09/2001   \n",
       "2   Radia                choupipoune@supermail.eu  12 sept. 1984   \n",
       "3    Marc  marco23@example.com, mc23@supermail.eu     10/02/1978   \n",
       "4    Heri                 helloworld@supermail.eu     05/03/2008   \n",
       "5   Hanna                  hanna2019@supermail.eu     01/01/1970   \n",
       "6  samuël                  samuel_329@example.com            NaN   \n",
       "\n",
       "            pays taille  \n",
       "0         France  1.49m  \n",
       "1            NaN  1.67m  \n",
       "2  Côte d'ivoire  153cm  \n",
       "3         France  1.65m  \n",
       "4     Madagascar  1.34m  \n",
       "5            NaN  3.45m  \n",
       "6          Bénin  1.45m  "
      ]
     },
     "execution_count": 8,
     "metadata": {},
     "output_type": "execute_result"
    }
   ],
   "source": [
    "data"
   ]
  },
  {
   "cell_type": "code",
   "execution_count": 9,
   "id": "0550888b-3f5d-4a03-b4a2-b22e16ba5041",
   "metadata": {},
   "outputs": [
    {
     "data": {
      "text/html": [
       "<div>\n",
       "<style scoped>\n",
       "    .dataframe tbody tr th:only-of-type {\n",
       "        vertical-align: middle;\n",
       "    }\n",
       "\n",
       "    .dataframe tbody tr th {\n",
       "        vertical-align: top;\n",
       "    }\n",
       "\n",
       "    .dataframe thead th {\n",
       "        text-align: right;\n",
       "    }\n",
       "</style>\n",
       "<table border=\"1\" class=\"dataframe\">\n",
       "  <thead>\n",
       "    <tr style=\"text-align: right;\">\n",
       "      <th></th>\n",
       "      <th>0</th>\n",
       "      <th>1</th>\n",
       "    </tr>\n",
       "  </thead>\n",
       "  <tbody>\n",
       "    <tr>\n",
       "      <th>0</th>\n",
       "      <td>leila@example.com</td>\n",
       "      <td>None</td>\n",
       "    </tr>\n",
       "    <tr>\n",
       "      <th>1</th>\n",
       "      <td>samuel_329@example.com</td>\n",
       "      <td>None</td>\n",
       "    </tr>\n",
       "    <tr>\n",
       "      <th>2</th>\n",
       "      <td>choupipoune@supermail.eu</td>\n",
       "      <td>None</td>\n",
       "    </tr>\n",
       "    <tr>\n",
       "      <th>3</th>\n",
       "      <td>marco23@example.com</td>\n",
       "      <td>mc23@supermail.eu</td>\n",
       "    </tr>\n",
       "    <tr>\n",
       "      <th>4</th>\n",
       "      <td>helloworld@supermail.eu</td>\n",
       "      <td>None</td>\n",
       "    </tr>\n",
       "    <tr>\n",
       "      <th>5</th>\n",
       "      <td>hanna2019@supermail.eu</td>\n",
       "      <td>None</td>\n",
       "    </tr>\n",
       "    <tr>\n",
       "      <th>6</th>\n",
       "      <td>samuel_329@example.com</td>\n",
       "      <td>None</td>\n",
       "    </tr>\n",
       "  </tbody>\n",
       "</table>\n",
       "</div>"
      ],
      "text/plain": [
       "                          0                   1\n",
       "0         leila@example.com                None\n",
       "1    samuel_329@example.com                None\n",
       "2  choupipoune@supermail.eu                None\n",
       "3       marco23@example.com   mc23@supermail.eu\n",
       "4   helloworld@supermail.eu                None\n",
       "5    hanna2019@supermail.eu                None\n",
       "6    samuel_329@example.com                None"
      ]
     },
     "execution_count": 9,
     "metadata": {},
     "output_type": "execute_result"
    }
   ],
   "source": [
    "# Le cas des deux emails pour un individu\n",
    "# On utlise la méthode split sur la variable email du df avec le paramètre expand=True\n",
    "# afin d'obtenir une tableau à deux dimensions.\n",
    "data['email'].str.split(',', expand=True)"
   ]
  },
  {
   "cell_type": "code",
   "execution_count": 10,
   "id": "5833ba04-2bae-426c-9a1d-9462727da40b",
   "metadata": {},
   "outputs": [
    {
     "data": {
      "text/html": [
       "<div>\n",
       "<style scoped>\n",
       "    .dataframe tbody tr th:only-of-type {\n",
       "        vertical-align: middle;\n",
       "    }\n",
       "\n",
       "    .dataframe tbody tr th {\n",
       "        vertical-align: top;\n",
       "    }\n",
       "\n",
       "    .dataframe thead th {\n",
       "        text-align: right;\n",
       "    }\n",
       "</style>\n",
       "<table border=\"1\" class=\"dataframe\">\n",
       "  <thead>\n",
       "    <tr style=\"text-align: right;\">\n",
       "      <th></th>\n",
       "      <th>prenom</th>\n",
       "      <th>email</th>\n",
       "      <th>date_naissance</th>\n",
       "      <th>pays</th>\n",
       "      <th>taille</th>\n",
       "    </tr>\n",
       "  </thead>\n",
       "  <tbody>\n",
       "    <tr>\n",
       "      <th>0</th>\n",
       "      <td>Leila</td>\n",
       "      <td>leila@example.com</td>\n",
       "      <td>23/01/1990</td>\n",
       "      <td>France</td>\n",
       "      <td>1.49m</td>\n",
       "    </tr>\n",
       "    <tr>\n",
       "      <th>1</th>\n",
       "      <td>Samuel</td>\n",
       "      <td>samuel_329@example.com</td>\n",
       "      <td>20/09/2001</td>\n",
       "      <td>NaN</td>\n",
       "      <td>1.67m</td>\n",
       "    </tr>\n",
       "    <tr>\n",
       "      <th>2</th>\n",
       "      <td>Radia</td>\n",
       "      <td>choupipoune@supermail.eu</td>\n",
       "      <td>12 sept. 1984</td>\n",
       "      <td>Côte d'ivoire</td>\n",
       "      <td>153cm</td>\n",
       "    </tr>\n",
       "    <tr>\n",
       "      <th>3</th>\n",
       "      <td>Marc</td>\n",
       "      <td>marco23@example.com</td>\n",
       "      <td>10/02/1978</td>\n",
       "      <td>France</td>\n",
       "      <td>1.65m</td>\n",
       "    </tr>\n",
       "    <tr>\n",
       "      <th>4</th>\n",
       "      <td>Heri</td>\n",
       "      <td>helloworld@supermail.eu</td>\n",
       "      <td>05/03/2008</td>\n",
       "      <td>Madagascar</td>\n",
       "      <td>1.34m</td>\n",
       "    </tr>\n",
       "    <tr>\n",
       "      <th>5</th>\n",
       "      <td>Hanna</td>\n",
       "      <td>hanna2019@supermail.eu</td>\n",
       "      <td>01/01/1970</td>\n",
       "      <td>NaN</td>\n",
       "      <td>3.45m</td>\n",
       "    </tr>\n",
       "    <tr>\n",
       "      <th>6</th>\n",
       "      <td>samuël</td>\n",
       "      <td>samuel_329@example.com</td>\n",
       "      <td>NaN</td>\n",
       "      <td>Bénin</td>\n",
       "      <td>1.45m</td>\n",
       "    </tr>\n",
       "  </tbody>\n",
       "</table>\n",
       "</div>"
      ],
      "text/plain": [
       "   prenom                     email date_naissance           pays taille\n",
       "0   Leila         leila@example.com     23/01/1990         France  1.49m\n",
       "1  Samuel    samuel_329@example.com     20/09/2001            NaN  1.67m\n",
       "2   Radia  choupipoune@supermail.eu  12 sept. 1984  Côte d'ivoire  153cm\n",
       "3    Marc       marco23@example.com     10/02/1978         France  1.65m\n",
       "4    Heri   helloworld@supermail.eu     05/03/2008     Madagascar  1.34m\n",
       "5   Hanna    hanna2019@supermail.eu     01/01/1970            NaN  3.45m\n",
       "6  samuël    samuel_329@example.com            NaN          Bénin  1.45m"
      ]
     },
     "execution_count": 10,
     "metadata": {},
     "output_type": "execute_result"
    }
   ],
   "source": [
    "# Ici on modifie la colonne email avec la première adresse email de chaque individu\n",
    "data['email'] = data['email'].str.split(',', expand=True)[0]\n",
    "data"
   ]
  },
  {
   "cell_type": "code",
   "execution_count": 11,
   "id": "d7bf045c-8bb8-4f35-9aa0-c72d2199210f",
   "metadata": {},
   "outputs": [
    {
     "data": {
      "text/html": [
       "<div>\n",
       "<style scoped>\n",
       "    .dataframe tbody tr th:only-of-type {\n",
       "        vertical-align: middle;\n",
       "    }\n",
       "\n",
       "    .dataframe tbody tr th {\n",
       "        vertical-align: top;\n",
       "    }\n",
       "\n",
       "    .dataframe thead th {\n",
       "        text-align: right;\n",
       "    }\n",
       "</style>\n",
       "<table border=\"1\" class=\"dataframe\">\n",
       "  <thead>\n",
       "    <tr style=\"text-align: right;\">\n",
       "      <th></th>\n",
       "      <th>prenom</th>\n",
       "      <th>email</th>\n",
       "      <th>date_naissance</th>\n",
       "      <th>pays</th>\n",
       "      <th>taille</th>\n",
       "    </tr>\n",
       "  </thead>\n",
       "  <tbody>\n",
       "    <tr>\n",
       "      <th>0</th>\n",
       "      <td>Leila</td>\n",
       "      <td>leila@example.com</td>\n",
       "      <td>23/01/1990</td>\n",
       "      <td>France</td>\n",
       "      <td>1.49</td>\n",
       "    </tr>\n",
       "    <tr>\n",
       "      <th>1</th>\n",
       "      <td>Samuel</td>\n",
       "      <td>samuel_329@example.com</td>\n",
       "      <td>20/09/2001</td>\n",
       "      <td>NaN</td>\n",
       "      <td>1.67</td>\n",
       "    </tr>\n",
       "    <tr>\n",
       "      <th>2</th>\n",
       "      <td>Radia</td>\n",
       "      <td>choupipoune@supermail.eu</td>\n",
       "      <td>12 sept. 1984</td>\n",
       "      <td>Côte d'ivoire</td>\n",
       "      <td>153c</td>\n",
       "    </tr>\n",
       "    <tr>\n",
       "      <th>3</th>\n",
       "      <td>Marc</td>\n",
       "      <td>marco23@example.com</td>\n",
       "      <td>10/02/1978</td>\n",
       "      <td>France</td>\n",
       "      <td>1.65</td>\n",
       "    </tr>\n",
       "    <tr>\n",
       "      <th>4</th>\n",
       "      <td>Heri</td>\n",
       "      <td>helloworld@supermail.eu</td>\n",
       "      <td>05/03/2008</td>\n",
       "      <td>Madagascar</td>\n",
       "      <td>1.34</td>\n",
       "    </tr>\n",
       "    <tr>\n",
       "      <th>5</th>\n",
       "      <td>Hanna</td>\n",
       "      <td>hanna2019@supermail.eu</td>\n",
       "      <td>01/01/1970</td>\n",
       "      <td>NaN</td>\n",
       "      <td>3.45</td>\n",
       "    </tr>\n",
       "    <tr>\n",
       "      <th>6</th>\n",
       "      <td>samuël</td>\n",
       "      <td>samuel_329@example.com</td>\n",
       "      <td>NaN</td>\n",
       "      <td>Bénin</td>\n",
       "      <td>1.45</td>\n",
       "    </tr>\n",
       "  </tbody>\n",
       "</table>\n",
       "</div>"
      ],
      "text/plain": [
       "   prenom                     email date_naissance           pays taille\n",
       "0   Leila         leila@example.com     23/01/1990         France   1.49\n",
       "1  Samuel    samuel_329@example.com     20/09/2001            NaN   1.67\n",
       "2   Radia  choupipoune@supermail.eu  12 sept. 1984  Côte d'ivoire   153c\n",
       "3    Marc       marco23@example.com     10/02/1978         France   1.65\n",
       "4    Heri   helloworld@supermail.eu     05/03/2008     Madagascar   1.34\n",
       "5   Hanna    hanna2019@supermail.eu     01/01/1970            NaN   3.45\n",
       "6  samuël    samuel_329@example.com            NaN          Bénin   1.45"
      ]
     },
     "execution_count": 11,
     "metadata": {},
     "output_type": "execute_result"
    }
   ],
   "source": [
    "# Vu que pour les tailles toutes la valeurs se terminent par m on va retirer ds un premier temps le dernier caractère.\n",
    "data_tmp = data.copy()\n",
    "data_tmp['taille'] = data_tmp['taille'].str[:-1]\n",
    "data_tmp"
   ]
  },
  {
   "cell_type": "code",
   "execution_count": 12,
   "id": "bc805ead-81a2-411d-8a41-0c7a9d3d4c74",
   "metadata": {},
   "outputs": [
    {
     "data": {
      "text/html": [
       "<div>\n",
       "<style scoped>\n",
       "    .dataframe tbody tr th:only-of-type {\n",
       "        vertical-align: middle;\n",
       "    }\n",
       "\n",
       "    .dataframe tbody tr th {\n",
       "        vertical-align: top;\n",
       "    }\n",
       "\n",
       "    .dataframe thead th {\n",
       "        text-align: right;\n",
       "    }\n",
       "</style>\n",
       "<table border=\"1\" class=\"dataframe\">\n",
       "  <thead>\n",
       "    <tr style=\"text-align: right;\">\n",
       "      <th></th>\n",
       "      <th>prenom</th>\n",
       "      <th>email</th>\n",
       "      <th>date_naissance</th>\n",
       "      <th>pays</th>\n",
       "      <th>taille</th>\n",
       "    </tr>\n",
       "  </thead>\n",
       "  <tbody>\n",
       "    <tr>\n",
       "      <th>0</th>\n",
       "      <td>Leila</td>\n",
       "      <td>leila@example.com</td>\n",
       "      <td>23/01/1990</td>\n",
       "      <td>France</td>\n",
       "      <td>1.49</td>\n",
       "    </tr>\n",
       "    <tr>\n",
       "      <th>1</th>\n",
       "      <td>Samuel</td>\n",
       "      <td>samuel_329@example.com</td>\n",
       "      <td>20/09/2001</td>\n",
       "      <td>NaN</td>\n",
       "      <td>1.67</td>\n",
       "    </tr>\n",
       "    <tr>\n",
       "      <th>2</th>\n",
       "      <td>Radia</td>\n",
       "      <td>choupipoune@supermail.eu</td>\n",
       "      <td>12 sept. 1984</td>\n",
       "      <td>Côte d'ivoire</td>\n",
       "      <td>NaN</td>\n",
       "    </tr>\n",
       "    <tr>\n",
       "      <th>3</th>\n",
       "      <td>Marc</td>\n",
       "      <td>marco23@example.com</td>\n",
       "      <td>10/02/1978</td>\n",
       "      <td>France</td>\n",
       "      <td>1.65</td>\n",
       "    </tr>\n",
       "    <tr>\n",
       "      <th>4</th>\n",
       "      <td>Heri</td>\n",
       "      <td>helloworld@supermail.eu</td>\n",
       "      <td>05/03/2008</td>\n",
       "      <td>Madagascar</td>\n",
       "      <td>1.34</td>\n",
       "    </tr>\n",
       "    <tr>\n",
       "      <th>5</th>\n",
       "      <td>Hanna</td>\n",
       "      <td>hanna2019@supermail.eu</td>\n",
       "      <td>01/01/1970</td>\n",
       "      <td>NaN</td>\n",
       "      <td>3.45</td>\n",
       "    </tr>\n",
       "    <tr>\n",
       "      <th>6</th>\n",
       "      <td>samuël</td>\n",
       "      <td>samuel_329@example.com</td>\n",
       "      <td>NaN</td>\n",
       "      <td>Bénin</td>\n",
       "      <td>1.45</td>\n",
       "    </tr>\n",
       "  </tbody>\n",
       "</table>\n",
       "</div>"
      ],
      "text/plain": [
       "   prenom                     email date_naissance           pays  taille\n",
       "0   Leila         leila@example.com     23/01/1990         France    1.49\n",
       "1  Samuel    samuel_329@example.com     20/09/2001            NaN    1.67\n",
       "2   Radia  choupipoune@supermail.eu  12 sept. 1984  Côte d'ivoire     NaN\n",
       "3    Marc       marco23@example.com     10/02/1978         France    1.65\n",
       "4    Heri   helloworld@supermail.eu     05/03/2008     Madagascar    1.34\n",
       "5   Hanna    hanna2019@supermail.eu     01/01/1970            NaN    3.45\n",
       "6  samuël    samuel_329@example.com            NaN          Bénin    1.45"
      ]
     },
     "execution_count": 12,
     "metadata": {},
     "output_type": "execute_result"
    }
   ],
   "source": [
    "# Ensuite on effectue une convertion numérique aux valeurs et si la convertion est impossible alors on set une valeur par défaut NaN\n",
    "# Ici 153c va être converti en Nan vu qu'il n'est pas possible de convertir une chaîne alphanumeric en numeric\n",
    "data_tmp['taille'] = pd.to_numeric(data_tmp['taille'], errors='coerce')\n",
    "data_tmp"
   ]
  },
  {
   "cell_type": "code",
   "execution_count": 13,
   "id": "40f4ffc0-6acb-4592-a10d-17fd190f3ea9",
   "metadata": {},
   "outputs": [
    {
     "data": {
      "text/html": [
       "<div>\n",
       "<style scoped>\n",
       "    .dataframe tbody tr th:only-of-type {\n",
       "        vertical-align: middle;\n",
       "    }\n",
       "\n",
       "    .dataframe tbody tr th {\n",
       "        vertical-align: top;\n",
       "    }\n",
       "\n",
       "    .dataframe thead th {\n",
       "        text-align: right;\n",
       "    }\n",
       "</style>\n",
       "<table border=\"1\" class=\"dataframe\">\n",
       "  <thead>\n",
       "    <tr style=\"text-align: right;\">\n",
       "      <th></th>\n",
       "      <th>prenom</th>\n",
       "      <th>email</th>\n",
       "      <th>date_naissance</th>\n",
       "      <th>pays</th>\n",
       "      <th>taille</th>\n",
       "    </tr>\n",
       "  </thead>\n",
       "  <tbody>\n",
       "    <tr>\n",
       "      <th>0</th>\n",
       "      <td>Leila</td>\n",
       "      <td>leila@example.com</td>\n",
       "      <td>23/01/1990</td>\n",
       "      <td>France</td>\n",
       "      <td>1.49</td>\n",
       "    </tr>\n",
       "    <tr>\n",
       "      <th>1</th>\n",
       "      <td>Samuel</td>\n",
       "      <td>samuel_329@example.com</td>\n",
       "      <td>20/09/2001</td>\n",
       "      <td>NaN</td>\n",
       "      <td>1.67</td>\n",
       "    </tr>\n",
       "    <tr>\n",
       "      <th>2</th>\n",
       "      <td>Radia</td>\n",
       "      <td>choupipoune@supermail.eu</td>\n",
       "      <td>12 sept. 1984</td>\n",
       "      <td>Côte d'ivoire</td>\n",
       "      <td>1.84</td>\n",
       "    </tr>\n",
       "    <tr>\n",
       "      <th>3</th>\n",
       "      <td>Marc</td>\n",
       "      <td>marco23@example.com</td>\n",
       "      <td>10/02/1978</td>\n",
       "      <td>France</td>\n",
       "      <td>1.65</td>\n",
       "    </tr>\n",
       "    <tr>\n",
       "      <th>4</th>\n",
       "      <td>Heri</td>\n",
       "      <td>helloworld@supermail.eu</td>\n",
       "      <td>05/03/2008</td>\n",
       "      <td>Madagascar</td>\n",
       "      <td>1.34</td>\n",
       "    </tr>\n",
       "    <tr>\n",
       "      <th>5</th>\n",
       "      <td>Hanna</td>\n",
       "      <td>hanna2019@supermail.eu</td>\n",
       "      <td>01/01/1970</td>\n",
       "      <td>NaN</td>\n",
       "      <td>3.45</td>\n",
       "    </tr>\n",
       "    <tr>\n",
       "      <th>6</th>\n",
       "      <td>samuël</td>\n",
       "      <td>samuel_329@example.com</td>\n",
       "      <td>NaN</td>\n",
       "      <td>Bénin</td>\n",
       "      <td>1.45</td>\n",
       "    </tr>\n",
       "  </tbody>\n",
       "</table>\n",
       "</div>"
      ],
      "text/plain": [
       "   prenom                     email date_naissance           pays  taille\n",
       "0   Leila         leila@example.com     23/01/1990         France    1.49\n",
       "1  Samuel    samuel_329@example.com     20/09/2001            NaN    1.67\n",
       "2   Radia  choupipoune@supermail.eu  12 sept. 1984  Côte d'ivoire    1.84\n",
       "3    Marc       marco23@example.com     10/02/1978         France    1.65\n",
       "4    Heri   helloworld@supermail.eu     05/03/2008     Madagascar    1.34\n",
       "5   Hanna    hanna2019@supermail.eu     01/01/1970            NaN    3.45\n",
       "6  samuël    samuel_329@example.com            NaN          Bénin    1.45"
      ]
     },
     "execution_count": 13,
     "metadata": {},
     "output_type": "execute_result"
    }
   ],
   "source": [
    "# Et ensuite on affecte les valeurs manquante de taille par une valeur moyenne\n",
    "data_tmp.loc[ data_tmp['taille'].isnull(), 'taille' ] = round(data_tmp['taille'].mean(), 2)\n",
    "data_tmp"
   ]
  },
  {
   "cell_type": "code",
   "execution_count": 14,
   "id": "6a79e475-4510-4711-9ee6-ebbe4849b0b7",
   "metadata": {},
   "outputs": [
    {
     "data": {
      "text/html": [
       "<div>\n",
       "<style scoped>\n",
       "    .dataframe tbody tr th:only-of-type {\n",
       "        vertical-align: middle;\n",
       "    }\n",
       "\n",
       "    .dataframe tbody tr th {\n",
       "        vertical-align: top;\n",
       "    }\n",
       "\n",
       "    .dataframe thead th {\n",
       "        text-align: right;\n",
       "    }\n",
       "</style>\n",
       "<table border=\"1\" class=\"dataframe\">\n",
       "  <thead>\n",
       "    <tr style=\"text-align: right;\">\n",
       "      <th></th>\n",
       "      <th>prenom</th>\n",
       "      <th>email</th>\n",
       "      <th>date_naissance</th>\n",
       "      <th>pays</th>\n",
       "      <th>taille</th>\n",
       "    </tr>\n",
       "  </thead>\n",
       "  <tbody>\n",
       "    <tr>\n",
       "      <th>0</th>\n",
       "      <td>Leila</td>\n",
       "      <td>leila@example.com</td>\n",
       "      <td>23/01/1990</td>\n",
       "      <td>France</td>\n",
       "      <td>1.49m</td>\n",
       "    </tr>\n",
       "    <tr>\n",
       "      <th>1</th>\n",
       "      <td>Samuel</td>\n",
       "      <td>samuel_329@example.com</td>\n",
       "      <td>20/09/2001</td>\n",
       "      <td>NaN</td>\n",
       "      <td>1.67m</td>\n",
       "    </tr>\n",
       "    <tr>\n",
       "      <th>2</th>\n",
       "      <td>Radia</td>\n",
       "      <td>choupipoune@supermail.eu</td>\n",
       "      <td>12 sept. 1984</td>\n",
       "      <td>Côte d'ivoire</td>\n",
       "      <td>153cm</td>\n",
       "    </tr>\n",
       "    <tr>\n",
       "      <th>3</th>\n",
       "      <td>Marc</td>\n",
       "      <td>marco23@example.com</td>\n",
       "      <td>10/02/1978</td>\n",
       "      <td>France</td>\n",
       "      <td>1.65m</td>\n",
       "    </tr>\n",
       "    <tr>\n",
       "      <th>4</th>\n",
       "      <td>Heri</td>\n",
       "      <td>helloworld@supermail.eu</td>\n",
       "      <td>05/03/2008</td>\n",
       "      <td>Madagascar</td>\n",
       "      <td>1.34m</td>\n",
       "    </tr>\n",
       "    <tr>\n",
       "      <th>5</th>\n",
       "      <td>Hanna</td>\n",
       "      <td>hanna2019@supermail.eu</td>\n",
       "      <td>01/01/1970</td>\n",
       "      <td>NaN</td>\n",
       "      <td>3.45m</td>\n",
       "    </tr>\n",
       "    <tr>\n",
       "      <th>6</th>\n",
       "      <td>samuël</td>\n",
       "      <td>samuel_329@example.com</td>\n",
       "      <td>NaN</td>\n",
       "      <td>Bénin</td>\n",
       "      <td>1.45m</td>\n",
       "    </tr>\n",
       "  </tbody>\n",
       "</table>\n",
       "</div>"
      ],
      "text/plain": [
       "   prenom                     email date_naissance           pays taille\n",
       "0   Leila         leila@example.com     23/01/1990         France  1.49m\n",
       "1  Samuel    samuel_329@example.com     20/09/2001            NaN  1.67m\n",
       "2   Radia  choupipoune@supermail.eu  12 sept. 1984  Côte d'ivoire  153cm\n",
       "3    Marc       marco23@example.com     10/02/1978         France  1.65m\n",
       "4    Heri   helloworld@supermail.eu     05/03/2008     Madagascar  1.34m\n",
       "5   Hanna    hanna2019@supermail.eu     01/01/1970            NaN  3.45m\n",
       "6  samuël    samuel_329@example.com            NaN          Bénin  1.45m"
      ]
     },
     "execution_count": 14,
     "metadata": {},
     "output_type": "execute_result"
    }
   ],
   "source": [
    "# Mais en ayant une valeur outlier pour Hanna au niveau de la taille, la moyenne appliqué à la taille de Radia ne reflète pas la réalité\n",
    "# En effet à la base on avait 153cm et mainteant on a 1.84m\n",
    "data"
   ]
  },
  {
   "cell_type": "code",
   "execution_count": 15,
   "id": "b59eeb8c-a1c1-4761-9083-0cc418adb5f6",
   "metadata": {},
   "outputs": [
    {
     "data": {
      "text/html": [
       "<div>\n",
       "<style scoped>\n",
       "    .dataframe tbody tr th:only-of-type {\n",
       "        vertical-align: middle;\n",
       "    }\n",
       "\n",
       "    .dataframe tbody tr th {\n",
       "        vertical-align: top;\n",
       "    }\n",
       "\n",
       "    .dataframe thead th {\n",
       "        text-align: right;\n",
       "    }\n",
       "</style>\n",
       "<table border=\"1\" class=\"dataframe\">\n",
       "  <thead>\n",
       "    <tr style=\"text-align: right;\">\n",
       "      <th></th>\n",
       "      <th>prenom</th>\n",
       "      <th>email</th>\n",
       "      <th>date_naissance</th>\n",
       "      <th>pays</th>\n",
       "      <th>taille</th>\n",
       "    </tr>\n",
       "  </thead>\n",
       "  <tbody>\n",
       "    <tr>\n",
       "      <th>0</th>\n",
       "      <td>Leila</td>\n",
       "      <td>leila@example.com</td>\n",
       "      <td>23/01/1990</td>\n",
       "      <td>France</td>\n",
       "      <td>1.49</td>\n",
       "    </tr>\n",
       "    <tr>\n",
       "      <th>1</th>\n",
       "      <td>Samuel</td>\n",
       "      <td>samuel_329@example.com</td>\n",
       "      <td>20/09/2001</td>\n",
       "      <td>NaN</td>\n",
       "      <td>1.67</td>\n",
       "    </tr>\n",
       "    <tr>\n",
       "      <th>2</th>\n",
       "      <td>Radia</td>\n",
       "      <td>choupipoune@supermail.eu</td>\n",
       "      <td>12 sept. 1984</td>\n",
       "      <td>Côte d'ivoire</td>\n",
       "      <td>1.53</td>\n",
       "    </tr>\n",
       "    <tr>\n",
       "      <th>3</th>\n",
       "      <td>Marc</td>\n",
       "      <td>marco23@example.com</td>\n",
       "      <td>10/02/1978</td>\n",
       "      <td>France</td>\n",
       "      <td>1.65</td>\n",
       "    </tr>\n",
       "    <tr>\n",
       "      <th>4</th>\n",
       "      <td>Heri</td>\n",
       "      <td>helloworld@supermail.eu</td>\n",
       "      <td>05/03/2008</td>\n",
       "      <td>Madagascar</td>\n",
       "      <td>1.34</td>\n",
       "    </tr>\n",
       "    <tr>\n",
       "      <th>5</th>\n",
       "      <td>Hanna</td>\n",
       "      <td>hanna2019@supermail.eu</td>\n",
       "      <td>01/01/1970</td>\n",
       "      <td>NaN</td>\n",
       "      <td>3.45</td>\n",
       "    </tr>\n",
       "    <tr>\n",
       "      <th>6</th>\n",
       "      <td>samuël</td>\n",
       "      <td>samuel_329@example.com</td>\n",
       "      <td>NaN</td>\n",
       "      <td>Bénin</td>\n",
       "      <td>1.45</td>\n",
       "    </tr>\n",
       "  </tbody>\n",
       "</table>\n",
       "</div>"
      ],
      "text/plain": [
       "   prenom                     email date_naissance           pays taille\n",
       "0   Leila         leila@example.com     23/01/1990         France   1.49\n",
       "1  Samuel    samuel_329@example.com     20/09/2001            NaN   1.67\n",
       "2   Radia  choupipoune@supermail.eu  12 sept. 1984  Côte d'ivoire   1.53\n",
       "3    Marc       marco23@example.com     10/02/1978         France   1.65\n",
       "4    Heri   helloworld@supermail.eu     05/03/2008     Madagascar   1.34\n",
       "5   Hanna    hanna2019@supermail.eu     01/01/1970            NaN   3.45\n",
       "6  samuël    samuel_329@example.com            NaN          Bénin   1.45"
      ]
     },
     "execution_count": 15,
     "metadata": {},
     "output_type": "execute_result"
    }
   ],
   "source": [
    "# Dans le cas où notre jeu de données actuel ne possède que l'unité cm et m\n",
    "# La variable value correspond à la valeur de la cellule\n",
    "def convert_cm_to_m(value):\n",
    "    # Si l'unité est le cm alors on effectue la convertion\n",
    "    if value[-2:] == 'cm':\n",
    "        return str( int(value[:-2]) / 100)\n",
    "    #sinon on retourne la valeur numérique sans l'unité\n",
    "    else:\n",
    "        return value[:-1]\n",
    "\n",
    "# On applique uniquement sur la colonne taille la fonction de convertion cm en m\n",
    "data['taille'] = data['taille'].apply(convert_cm_to_m)\n",
    "data"
   ]
  },
  {
   "cell_type": "code",
   "execution_count": 16,
   "id": "2b8ee1fb-8f1e-4088-8bd7-9be3d76332d9",
   "metadata": {},
   "outputs": [
    {
     "data": {
      "text/html": [
       "<div>\n",
       "<style scoped>\n",
       "    .dataframe tbody tr th:only-of-type {\n",
       "        vertical-align: middle;\n",
       "    }\n",
       "\n",
       "    .dataframe tbody tr th {\n",
       "        vertical-align: top;\n",
       "    }\n",
       "\n",
       "    .dataframe thead th {\n",
       "        text-align: right;\n",
       "    }\n",
       "</style>\n",
       "<table border=\"1\" class=\"dataframe\">\n",
       "  <thead>\n",
       "    <tr style=\"text-align: right;\">\n",
       "      <th></th>\n",
       "      <th>prenom</th>\n",
       "      <th>email</th>\n",
       "      <th>date_naissance</th>\n",
       "      <th>pays</th>\n",
       "      <th>taille</th>\n",
       "    </tr>\n",
       "  </thead>\n",
       "  <tbody>\n",
       "    <tr>\n",
       "      <th>0</th>\n",
       "      <td>Leila</td>\n",
       "      <td>leila@example.com</td>\n",
       "      <td>1990-01-23</td>\n",
       "      <td>France</td>\n",
       "      <td>1.49</td>\n",
       "    </tr>\n",
       "    <tr>\n",
       "      <th>1</th>\n",
       "      <td>Samuel</td>\n",
       "      <td>samuel_329@example.com</td>\n",
       "      <td>2001-09-20</td>\n",
       "      <td>NaN</td>\n",
       "      <td>1.67</td>\n",
       "    </tr>\n",
       "    <tr>\n",
       "      <th>2</th>\n",
       "      <td>Radia</td>\n",
       "      <td>choupipoune@supermail.eu</td>\n",
       "      <td>NaT</td>\n",
       "      <td>Côte d'ivoire</td>\n",
       "      <td>1.53</td>\n",
       "    </tr>\n",
       "    <tr>\n",
       "      <th>3</th>\n",
       "      <td>Marc</td>\n",
       "      <td>marco23@example.com</td>\n",
       "      <td>1978-02-10</td>\n",
       "      <td>France</td>\n",
       "      <td>1.65</td>\n",
       "    </tr>\n",
       "    <tr>\n",
       "      <th>4</th>\n",
       "      <td>Heri</td>\n",
       "      <td>helloworld@supermail.eu</td>\n",
       "      <td>2008-03-05</td>\n",
       "      <td>Madagascar</td>\n",
       "      <td>1.34</td>\n",
       "    </tr>\n",
       "    <tr>\n",
       "      <th>5</th>\n",
       "      <td>Hanna</td>\n",
       "      <td>hanna2019@supermail.eu</td>\n",
       "      <td>1970-01-01</td>\n",
       "      <td>NaN</td>\n",
       "      <td>3.45</td>\n",
       "    </tr>\n",
       "    <tr>\n",
       "      <th>6</th>\n",
       "      <td>samuël</td>\n",
       "      <td>samuel_329@example.com</td>\n",
       "      <td>NaT</td>\n",
       "      <td>Bénin</td>\n",
       "      <td>1.45</td>\n",
       "    </tr>\n",
       "  </tbody>\n",
       "</table>\n",
       "</div>"
      ],
      "text/plain": [
       "   prenom                     email date_naissance           pays taille\n",
       "0   Leila         leila@example.com     1990-01-23         France   1.49\n",
       "1  Samuel    samuel_329@example.com     2001-09-20            NaN   1.67\n",
       "2   Radia  choupipoune@supermail.eu            NaT  Côte d'ivoire   1.53\n",
       "3    Marc       marco23@example.com     1978-02-10         France   1.65\n",
       "4    Heri   helloworld@supermail.eu     2008-03-05     Madagascar   1.34\n",
       "5   Hanna    hanna2019@supermail.eu     1970-01-01            NaN   3.45\n",
       "6  samuël    samuel_329@example.com            NaT          Bénin   1.45"
      ]
     },
     "execution_count": 16,
     "metadata": {},
     "output_type": "execute_result"
    }
   ],
   "source": [
    "# Pour la date on unifie les formats\n",
    "# Sinon on fonction de l'importance de la donnée on devrait écrire une fonction de convertion\n",
    "data['date_naissance'] = pd.to_datetime( data['date_naissance'], format=\"%d/%m/%Y\", errors='coerce')\n",
    "data"
   ]
  },
  {
   "cell_type": "code",
   "execution_count": 17,
   "id": "c202f107-36e0-494e-bb76-3520b2c4abcd",
   "metadata": {},
   "outputs": [
    {
     "data": {
      "text/html": [
       "<div>\n",
       "<style scoped>\n",
       "    .dataframe tbody tr th:only-of-type {\n",
       "        vertical-align: middle;\n",
       "    }\n",
       "\n",
       "    .dataframe tbody tr th {\n",
       "        vertical-align: top;\n",
       "    }\n",
       "\n",
       "    .dataframe thead th {\n",
       "        text-align: right;\n",
       "    }\n",
       "</style>\n",
       "<table border=\"1\" class=\"dataframe\">\n",
       "  <thead>\n",
       "    <tr style=\"text-align: right;\">\n",
       "      <th></th>\n",
       "      <th>date_operation</th>\n",
       "      <th>libelle</th>\n",
       "      <th>montant</th>\n",
       "      <th>solde_avt_ope</th>\n",
       "      <th>categ</th>\n",
       "    </tr>\n",
       "  </thead>\n",
       "  <tbody>\n",
       "    <tr>\n",
       "      <th>0</th>\n",
       "      <td>2023-03-31</td>\n",
       "      <td>DON XX XX XX XX XX XX XX</td>\n",
       "      <td>-1.44</td>\n",
       "      <td>1515.25</td>\n",
       "      <td>AUTRE</td>\n",
       "    </tr>\n",
       "    <tr>\n",
       "      <th>1</th>\n",
       "      <td>2023-04-03</td>\n",
       "      <td>CARTE XX XX RAPT XX</td>\n",
       "      <td>-24.00</td>\n",
       "      <td>1513.81</td>\n",
       "      <td>TRANSPORT</td>\n",
       "    </tr>\n",
       "    <tr>\n",
       "      <th>2</th>\n",
       "      <td>2023-04-03</td>\n",
       "      <td>CARTE XX XX RAPT XX</td>\n",
       "      <td>-73.00</td>\n",
       "      <td>1489.81</td>\n",
       "      <td>TRANSPORT</td>\n",
       "    </tr>\n",
       "    <tr>\n",
       "      <th>3</th>\n",
       "      <td>2023-04-03</td>\n",
       "      <td>VIREMENT XX XX XX XX XX XX XX XX XX XX XX XX</td>\n",
       "      <td>676.00</td>\n",
       "      <td>1416.81</td>\n",
       "      <td>AUTRE</td>\n",
       "    </tr>\n",
       "    <tr>\n",
       "      <th>4</th>\n",
       "      <td>2023-04-03</td>\n",
       "      <td>VIREMENT XX XX XX XX XX XX</td>\n",
       "      <td>4.80</td>\n",
       "      <td>2092.81</td>\n",
       "      <td>AUTRE</td>\n",
       "    </tr>\n",
       "    <tr>\n",
       "      <th>...</th>\n",
       "      <td>...</td>\n",
       "      <td>...</td>\n",
       "      <td>...</td>\n",
       "      <td>...</td>\n",
       "      <td>...</td>\n",
       "    </tr>\n",
       "    <tr>\n",
       "      <th>303</th>\n",
       "      <td>2023-10-05</td>\n",
       "      <td>CARTE XX XX XX XX XX XX</td>\n",
       "      <td>-10.64</td>\n",
       "      <td>2440.94</td>\n",
       "      <td>AUTRE</td>\n",
       "    </tr>\n",
       "    <tr>\n",
       "      <th>304</th>\n",
       "      <td>2023-10-05</td>\n",
       "      <td>CARTE XX XX XX XX</td>\n",
       "      <td>-4.80</td>\n",
       "      <td>2430.30</td>\n",
       "      <td>AUTRE</td>\n",
       "    </tr>\n",
       "    <tr>\n",
       "      <th>305</th>\n",
       "      <td>2023-10-06</td>\n",
       "      <td>FORFAIT COMPTE SUPERBANK XX XX XX XX</td>\n",
       "      <td>-1.92</td>\n",
       "      <td>2425.50</td>\n",
       "      <td>COTISATION BANCAIRE</td>\n",
       "    </tr>\n",
       "    <tr>\n",
       "      <th>306</th>\n",
       "      <td>2023-10-06</td>\n",
       "      <td>CARTE XX XX CHEZ LUC XX</td>\n",
       "      <td>-10.00</td>\n",
       "      <td>2423.58</td>\n",
       "      <td>RESTAURANT</td>\n",
       "    </tr>\n",
       "    <tr>\n",
       "      <th>307</th>\n",
       "      <td>2023-10-06</td>\n",
       "      <td>PRELEVEMENT XX TELEPHONE XX XX</td>\n",
       "      <td>-13.58</td>\n",
       "      <td>2413.58</td>\n",
       "      <td>FACTURE TELEPHONE</td>\n",
       "    </tr>\n",
       "  </tbody>\n",
       "</table>\n",
       "<p>308 rows × 5 columns</p>\n",
       "</div>"
      ],
      "text/plain": [
       "    date_operation                                       libelle  montant  \\\n",
       "0       2023-03-31                      DON XX XX XX XX XX XX XX    -1.44   \n",
       "1       2023-04-03                           CARTE XX XX RAPT XX   -24.00   \n",
       "2       2023-04-03                           CARTE XX XX RAPT XX   -73.00   \n",
       "3       2023-04-03  VIREMENT XX XX XX XX XX XX XX XX XX XX XX XX   676.00   \n",
       "4       2023-04-03                    VIREMENT XX XX XX XX XX XX     4.80   \n",
       "..             ...                                           ...      ...   \n",
       "303     2023-10-05                       CARTE XX XX XX XX XX XX   -10.64   \n",
       "304     2023-10-05                             CARTE XX XX XX XX    -4.80   \n",
       "305     2023-10-06          FORFAIT COMPTE SUPERBANK XX XX XX XX    -1.92   \n",
       "306     2023-10-06                       CARTE XX XX CHEZ LUC XX   -10.00   \n",
       "307     2023-10-06                PRELEVEMENT XX TELEPHONE XX XX   -13.58   \n",
       "\n",
       "     solde_avt_ope                categ  \n",
       "0          1515.25                AUTRE  \n",
       "1          1513.81            TRANSPORT  \n",
       "2          1489.81            TRANSPORT  \n",
       "3          1416.81                AUTRE  \n",
       "4          2092.81                AUTRE  \n",
       "..             ...                  ...  \n",
       "303        2440.94                AUTRE  \n",
       "304        2430.30                AUTRE  \n",
       "305        2425.50  COTISATION BANCAIRE  \n",
       "306        2423.58           RESTAURANT  \n",
       "307        2413.58    FACTURE TELEPHONE  \n",
       "\n",
       "[308 rows x 5 columns]"
      ]
     },
     "execution_count": 17,
     "metadata": {},
     "output_type": "execute_result"
    }
   ],
   "source": [
    "data = pd.read_csv('./resources/operations-cleaned.csv')\n",
    "data"
   ]
  },
  {
   "cell_type": "markdown",
   "id": "f9126600-8200-4be3-9786-a247c4672e46",
   "metadata": {},
   "source": [
    "## Distribuation empirique"
   ]
  },
  {
   "cell_type": "markdown",
   "id": "6fd6ab7d-7d52-4430-8372-fff21b8a15d0",
   "metadata": {},
   "source": [
    "La distribution empirique d'une variable, c'est l’ensemble des valeurs (ou modalités) prises par cette variable, ainsi que leurs effectifs / fréquences associés."
   ]
  },
  {
   "cell_type": "code",
   "execution_count": 18,
   "id": "08f398e5-8668-4acf-8994-d2722c56e658",
   "metadata": {},
   "outputs": [
    {
     "data": {
      "image/png": "[encoded data removed]",
      "text/plain": [
       "<Figure size 640x480 with 1 Axes>"
      ]
     },
     "metadata": {},
     "output_type": "display_data"
    }
   ],
   "source": [
    "# Pour obtenir un tableau numéric du nombre de fois qu'apparaît une valeur dans la colonne (effectif de la variable) on utilise \n",
    "# la méthode .value_counts(), pour obtenir la fréquence on utilise le paramètre normalize = True\n",
    "data['categ'].value_counts(normalize=True).plot(kind=\"pie\")\n",
    "plt.show()"
   ]
  },
  {
   "cell_type": "code",
   "execution_count": 19,
   "id": "fb443cf9-07de-47ce-b94a-68f5a2c5f1c5",
   "metadata": {},
   "outputs": [
    {
     "data": {
      "image/png": "[encoded data removed]",
      "text/plain": [
       "<Figure size 640x480 with 1 Axes>"
      ]
     },
     "metadata": {},
     "output_type": "display_data"
    }
   ],
   "source": [
    "data['categ'].value_counts(normalize=False).plot(kind=\"bar\")\n",
    "plt.show()\n"
   ]
  },
  {
   "cell_type": "code",
   "execution_count": 20,
   "id": "9907bfd0-a663-4ba7-93a5-1e67b0b17de6",
   "metadata": {},
   "outputs": [
    {
     "data": {
      "image/png": "[encoded data removed]",
      "text/plain": [
       "<Figure size 640x480 with 1 Axes>"
      ]
     },
     "metadata": {},
     "output_type": "display_data"
    }
   ],
   "source": [
    "# La version native avec plt.bar()\n",
    "t = data['categ'].value_counts(normalize=False).reset_index()\n",
    "\n",
    "plt.bar(height=t['count'], x=t['categ'])\n",
    "plt.show()"
   ]
  },
  {
   "cell_type": "markdown",
   "id": "dcfd91f7-0402-4715-b296-65807cde1d43",
   "metadata": {},
   "source": [
    "Il est clair qu'il est plus simple d'utiliser la méthode .plot() sur une variable pour en avoir une représentation graphique."
   ]
  },
  {
   "cell_type": "markdown",
   "id": "eae76a95-7797-474e-99dc-67397ff1f78a",
   "metadata": {},
   "source": [
    "### Variable quantitative"
   ]
  },
  {
   "cell_type": "code",
   "execution_count": 21,
   "id": "fbb1a53b-8864-4a8d-a629-26c315521149",
   "metadata": {},
   "outputs": [
    {
     "data": {
      "image/png": "[encoded data removed]",
      "text/plain": [
       "<Figure size 640x480 with 1 Axes>"
      ]
     },
     "metadata": {},
     "output_type": "display_data"
    }
   ],
   "source": [
    "# On crée un nouvelle variable pour indiqué l'avancée dans le mois\n",
    "data['date_operation'] = pd.to_datetime(data['date_operation'], errors='coerce')\n",
    "data['quart_mois'] = [int((jour-1)*4/31)+1 for jour in data[\"date_operation\"].dt.day]\n",
    "\n",
    "# Diagramme en bâtons fin pour les variables discrètes (valeur précise)\n",
    "data[\"quart_mois\"].value_counts(normalize=True).plot(kind='bar',width=0.1)\n",
    "plt.grid(axis=\"y\")\n",
    "plt.show()"
   ]
  },
  {
   "cell_type": "code",
   "execution_count": 22,
   "id": "408e5ca4-d297-4b96-a346-7c71e5f70e2d",
   "metadata": {},
   "outputs": [
    {
     "data": {
      "image/png": "[encoded data removed]",
      "text/plain": [
       "<Figure size 640x480 with 1 Axes>"
      ]
     },
     "metadata": {},
     "output_type": "display_data"
    }
   ],
   "source": [
    "# Représente une variable continue (float compris dans un intervalle)\n",
    "# Ici on agrège les valeurs en classes. Il y a une classe importante de montant autour de zero. Grosso modo [-80:80]\n",
    "data['montant'].hist(density=True)\n",
    "plt.show()"
   ]
  },
  {
   "cell_type": "code",
   "execution_count": 23,
   "id": "141253f5-dc53-4637-b5ae-bb44b6d57f0e",
   "metadata": {},
   "outputs": [
    {
     "data": {
      "image/png": "[encoded data removed]",
      "text/plain": [
       "<Figure size 640x480 with 1 Axes>"
      ]
     },
     "metadata": {},
     "output_type": "display_data"
    }
   ],
   "source": [
    "# On affine le graphique en montrant que les montants inférieur à un débit/crédit de 100\n",
    "# bins correspond au nombre de classe que l'on souhaite avoir\n",
    "data[data.montant.abs() < 100][\"montant\"].hist(density=True,bins=50)\n",
    "plt.show()"
   ]
  },
  {
   "cell_type": "code",
   "execution_count": 24,
   "id": "a7850b54-3d50-4c6b-8016-9894af7407d8",
   "metadata": {},
   "outputs": [
    {
     "data": {
      "text/plain": [
       "categ\n",
       "AUTRE                  212\n",
       "COURSES                 39\n",
       "TRANSPORT               21\n",
       "RESTAURANT              16\n",
       "FACTURE TELEPHONE        7\n",
       "COTISATION BANCAIRE      7\n",
       "LOYER                    6\n",
       "Name: count, dtype: int64"
      ]
     },
     "execution_count": 24,
     "metadata": {},
     "output_type": "execute_result"
    }
   ],
   "source": [
    "# présentation sous forme de tableau de la distribution empirique d'une variable\n",
    "\n",
    "effectifs = data['categ'].value_counts()\n",
    "effectifs"
   ]
  },
  {
   "cell_type": "code",
   "execution_count": 25,
   "id": "73431510-4a0e-425f-94cf-d98c0e0b4171",
   "metadata": {},
   "outputs": [
    {
     "data": {
      "text/plain": [
       "Index(['AUTRE', 'COURSES', 'TRANSPORT', 'RESTAURANT', 'FACTURE TELEPHONE',\n",
       "       'COTISATION BANCAIRE', 'LOYER'],\n",
       "      dtype='object', name='categ')"
      ]
     },
     "execution_count": 25,
     "metadata": {},
     "output_type": "execute_result"
    }
   ],
   "source": [
    "modalites = effectifs.index\n",
    "modalites"
   ]
  },
  {
   "cell_type": "code",
   "execution_count": 26,
   "id": "198f5ade-e250-40fd-b61d-313e1210dcb7",
   "metadata": {},
   "outputs": [
    {
     "data": {
      "text/html": [
       "<div>\n",
       "<style scoped>\n",
       "    .dataframe tbody tr th:only-of-type {\n",
       "        vertical-align: middle;\n",
       "    }\n",
       "\n",
       "    .dataframe tbody tr th {\n",
       "        vertical-align: top;\n",
       "    }\n",
       "\n",
       "    .dataframe thead th {\n",
       "        text-align: right;\n",
       "    }\n",
       "</style>\n",
       "<table border=\"1\" class=\"dataframe\">\n",
       "  <thead>\n",
       "    <tr style=\"text-align: right;\">\n",
       "      <th></th>\n",
       "      <th>categ</th>\n",
       "    </tr>\n",
       "  </thead>\n",
       "  <tbody>\n",
       "    <tr>\n",
       "      <th>0</th>\n",
       "      <td>AUTRE</td>\n",
       "    </tr>\n",
       "    <tr>\n",
       "      <th>1</th>\n",
       "      <td>COURSES</td>\n",
       "    </tr>\n",
       "    <tr>\n",
       "      <th>2</th>\n",
       "      <td>TRANSPORT</td>\n",
       "    </tr>\n",
       "    <tr>\n",
       "      <th>3</th>\n",
       "      <td>RESTAURANT</td>\n",
       "    </tr>\n",
       "    <tr>\n",
       "      <th>4</th>\n",
       "      <td>FACTURE TELEPHONE</td>\n",
       "    </tr>\n",
       "    <tr>\n",
       "      <th>5</th>\n",
       "      <td>COTISATION BANCAIRE</td>\n",
       "    </tr>\n",
       "    <tr>\n",
       "      <th>6</th>\n",
       "      <td>LOYER</td>\n",
       "    </tr>\n",
       "  </tbody>\n",
       "</table>\n",
       "</div>"
      ],
      "text/plain": [
       "                 categ\n",
       "0                AUTRE\n",
       "1              COURSES\n",
       "2            TRANSPORT\n",
       "3           RESTAURANT\n",
       "4    FACTURE TELEPHONE\n",
       "5  COTISATION BANCAIRE\n",
       "6                LOYER"
      ]
     },
     "execution_count": 26,
     "metadata": {},
     "output_type": "execute_result"
    }
   ],
   "source": [
    "# On initialise notre df avec les modalités\n",
    "tab = pd.DataFrame(modalites, columns=['categ'])\n",
    "tab"
   ]
  },
  {
   "cell_type": "code",
   "execution_count": 27,
   "id": "ff22acba-7aad-4b73-a177-4070b9f2858e",
   "metadata": {},
   "outputs": [
    {
     "data": {
      "text/html": [
       "<div>\n",
       "<style scoped>\n",
       "    .dataframe tbody tr th:only-of-type {\n",
       "        vertical-align: middle;\n",
       "    }\n",
       "\n",
       "    .dataframe tbody tr th {\n",
       "        vertical-align: top;\n",
       "    }\n",
       "\n",
       "    .dataframe thead th {\n",
       "        text-align: right;\n",
       "    }\n",
       "</style>\n",
       "<table border=\"1\" class=\"dataframe\">\n",
       "  <thead>\n",
       "    <tr style=\"text-align: right;\">\n",
       "      <th></th>\n",
       "      <th>categ</th>\n",
       "      <th>n</th>\n",
       "    </tr>\n",
       "  </thead>\n",
       "  <tbody>\n",
       "    <tr>\n",
       "      <th>0</th>\n",
       "      <td>AUTRE</td>\n",
       "      <td>212</td>\n",
       "    </tr>\n",
       "    <tr>\n",
       "      <th>1</th>\n",
       "      <td>COURSES</td>\n",
       "      <td>39</td>\n",
       "    </tr>\n",
       "    <tr>\n",
       "      <th>2</th>\n",
       "      <td>TRANSPORT</td>\n",
       "      <td>21</td>\n",
       "    </tr>\n",
       "    <tr>\n",
       "      <th>3</th>\n",
       "      <td>RESTAURANT</td>\n",
       "      <td>16</td>\n",
       "    </tr>\n",
       "    <tr>\n",
       "      <th>4</th>\n",
       "      <td>FACTURE TELEPHONE</td>\n",
       "      <td>7</td>\n",
       "    </tr>\n",
       "    <tr>\n",
       "      <th>5</th>\n",
       "      <td>COTISATION BANCAIRE</td>\n",
       "      <td>7</td>\n",
       "    </tr>\n",
       "    <tr>\n",
       "      <th>6</th>\n",
       "      <td>LOYER</td>\n",
       "      <td>6</td>\n",
       "    </tr>\n",
       "  </tbody>\n",
       "</table>\n",
       "</div>"
      ],
      "text/plain": [
       "                 categ    n\n",
       "0                AUTRE  212\n",
       "1              COURSES   39\n",
       "2            TRANSPORT   21\n",
       "3           RESTAURANT   16\n",
       "4    FACTURE TELEPHONE    7\n",
       "5  COTISATION BANCAIRE    7\n",
       "6                LOYER    6"
      ]
     },
     "execution_count": 27,
     "metadata": {},
     "output_type": "execute_result"
    }
   ],
   "source": [
    "# On récupère la valeur de l'effectif pour chaque catégorie\n",
    "tab['n'] = effectifs.values\n",
    "tab"
   ]
  },
  {
   "cell_type": "code",
   "execution_count": 28,
   "id": "5ef4a2fc-c914-48f1-85d3-a28ed3effae6",
   "metadata": {},
   "outputs": [
    {
     "data": {
      "text/html": [
       "<div>\n",
       "<style scoped>\n",
       "    .dataframe tbody tr th:only-of-type {\n",
       "        vertical-align: middle;\n",
       "    }\n",
       "\n",
       "    .dataframe tbody tr th {\n",
       "        vertical-align: top;\n",
       "    }\n",
       "\n",
       "    .dataframe thead th {\n",
       "        text-align: right;\n",
       "    }\n",
       "</style>\n",
       "<table border=\"1\" class=\"dataframe\">\n",
       "  <thead>\n",
       "    <tr style=\"text-align: right;\">\n",
       "      <th></th>\n",
       "      <th>categ</th>\n",
       "      <th>n</th>\n",
       "      <th>f</th>\n",
       "    </tr>\n",
       "  </thead>\n",
       "  <tbody>\n",
       "    <tr>\n",
       "      <th>0</th>\n",
       "      <td>AUTRE</td>\n",
       "      <td>212</td>\n",
       "      <td>0.688312</td>\n",
       "    </tr>\n",
       "    <tr>\n",
       "      <th>1</th>\n",
       "      <td>COURSES</td>\n",
       "      <td>39</td>\n",
       "      <td>0.126623</td>\n",
       "    </tr>\n",
       "    <tr>\n",
       "      <th>2</th>\n",
       "      <td>TRANSPORT</td>\n",
       "      <td>21</td>\n",
       "      <td>0.068182</td>\n",
       "    </tr>\n",
       "    <tr>\n",
       "      <th>3</th>\n",
       "      <td>RESTAURANT</td>\n",
       "      <td>16</td>\n",
       "      <td>0.051948</td>\n",
       "    </tr>\n",
       "    <tr>\n",
       "      <th>4</th>\n",
       "      <td>FACTURE TELEPHONE</td>\n",
       "      <td>7</td>\n",
       "      <td>0.022727</td>\n",
       "    </tr>\n",
       "    <tr>\n",
       "      <th>5</th>\n",
       "      <td>COTISATION BANCAIRE</td>\n",
       "      <td>7</td>\n",
       "      <td>0.022727</td>\n",
       "    </tr>\n",
       "    <tr>\n",
       "      <th>6</th>\n",
       "      <td>LOYER</td>\n",
       "      <td>6</td>\n",
       "      <td>0.019481</td>\n",
       "    </tr>\n",
       "  </tbody>\n",
       "</table>\n",
       "</div>"
      ],
      "text/plain": [
       "                 categ    n         f\n",
       "0                AUTRE  212  0.688312\n",
       "1              COURSES   39  0.126623\n",
       "2            TRANSPORT   21  0.068182\n",
       "3           RESTAURANT   16  0.051948\n",
       "4    FACTURE TELEPHONE    7  0.022727\n",
       "5  COTISATION BANCAIRE    7  0.022727\n",
       "6                LOYER    6  0.019481"
      ]
     },
     "execution_count": 28,
     "metadata": {},
     "output_type": "execute_result"
    }
   ],
   "source": [
    "# On calcule la fréquence nombre d'occurence / le nombre total d'enregistrement\n",
    "tab['f'] = tab['n'] / len(data)\n",
    "tab"
   ]
  },
  {
   "cell_type": "code",
   "execution_count": 29,
   "id": "385db65b-a91f-4977-8fed-d335dada7e13",
   "metadata": {},
   "outputs": [
    {
     "data": {
      "text/html": [
       "<div>\n",
       "<style scoped>\n",
       "    .dataframe tbody tr th:only-of-type {\n",
       "        vertical-align: middle;\n",
       "    }\n",
       "\n",
       "    .dataframe tbody tr th {\n",
       "        vertical-align: top;\n",
       "    }\n",
       "\n",
       "    .dataframe thead th {\n",
       "        text-align: right;\n",
       "    }\n",
       "</style>\n",
       "<table border=\"1\" class=\"dataframe\">\n",
       "  <thead>\n",
       "    <tr style=\"text-align: right;\">\n",
       "      <th></th>\n",
       "      <th>categ</th>\n",
       "      <th>n</th>\n",
       "      <th>f</th>\n",
       "      <th>F</th>\n",
       "    </tr>\n",
       "  </thead>\n",
       "  <tbody>\n",
       "    <tr>\n",
       "      <th>0</th>\n",
       "      <td>AUTRE</td>\n",
       "      <td>212</td>\n",
       "      <td>0.688312</td>\n",
       "      <td>0.688312</td>\n",
       "    </tr>\n",
       "    <tr>\n",
       "      <th>5</th>\n",
       "      <td>COTISATION BANCAIRE</td>\n",
       "      <td>7</td>\n",
       "      <td>0.022727</td>\n",
       "      <td>0.711039</td>\n",
       "    </tr>\n",
       "    <tr>\n",
       "      <th>1</th>\n",
       "      <td>COURSES</td>\n",
       "      <td>39</td>\n",
       "      <td>0.126623</td>\n",
       "      <td>0.837662</td>\n",
       "    </tr>\n",
       "    <tr>\n",
       "      <th>4</th>\n",
       "      <td>FACTURE TELEPHONE</td>\n",
       "      <td>7</td>\n",
       "      <td>0.022727</td>\n",
       "      <td>0.860390</td>\n",
       "    </tr>\n",
       "    <tr>\n",
       "      <th>6</th>\n",
       "      <td>LOYER</td>\n",
       "      <td>6</td>\n",
       "      <td>0.019481</td>\n",
       "      <td>0.879870</td>\n",
       "    </tr>\n",
       "    <tr>\n",
       "      <th>3</th>\n",
       "      <td>RESTAURANT</td>\n",
       "      <td>16</td>\n",
       "      <td>0.051948</td>\n",
       "      <td>0.931818</td>\n",
       "    </tr>\n",
       "    <tr>\n",
       "      <th>2</th>\n",
       "      <td>TRANSPORT</td>\n",
       "      <td>21</td>\n",
       "      <td>0.068182</td>\n",
       "      <td>1.000000</td>\n",
       "    </tr>\n",
       "  </tbody>\n",
       "</table>\n",
       "</div>"
      ],
      "text/plain": [
       "                 categ    n         f         F\n",
       "0                AUTRE  212  0.688312  0.688312\n",
       "5  COTISATION BANCAIRE    7  0.022727  0.711039\n",
       "1              COURSES   39  0.126623  0.837662\n",
       "4    FACTURE TELEPHONE    7  0.022727  0.860390\n",
       "6                LOYER    6  0.019481  0.879870\n",
       "3           RESTAURANT   16  0.051948  0.931818\n",
       "2            TRANSPORT   21  0.068182  1.000000"
      ]
     },
     "execution_count": 29,
     "metadata": {},
     "output_type": "execute_result"
    }
   ],
   "source": [
    "# On calcule la fréquence cumulé\n",
    "tab = tab.sort_values('categ')\n",
    "tab['F'] = tab['f'].cumsum()\n",
    "tab"
   ]
  },
  {
   "cell_type": "markdown",
   "id": "79c9bf16-8783-4ad0-ab3b-b33e33750444",
   "metadata": {},
   "source": [
    "## Mesure de tendance centrale"
   ]
  },
  {
   "cell_type": "code",
   "execution_count": 30,
   "id": "1d5c1072-a019-4178-b94d-c472e841a40f",
   "metadata": {},
   "outputs": [
    {
     "data": {
      "text/plain": [
       "0    AUTRE\n",
       "Name: categ, dtype: object"
      ]
     },
     "execution_count": 30,
     "metadata": {},
     "output_type": "execute_result"
    }
   ],
   "source": [
    "# Le mode : Correspond à la classe qui apparaît le plus de fois\n",
    "data['categ'].mode()"
   ]
  },
  {
   "cell_type": "code",
   "execution_count": 31,
   "id": "bece987b-361b-4b63-8347-3b896be4fca3",
   "metadata": {},
   "outputs": [
    {
     "data": {
      "text/plain": [
       "2.8725649350649354"
      ]
     },
     "execution_count": 31,
     "metadata": {},
     "output_type": "execute_result"
    }
   ],
   "source": [
    "# La moyenne - Note : Sujet aux outliers, si un extrême est présent la moyenne en sera affectée.\n",
    "data['montant'].mean()"
   ]
  },
  {
   "cell_type": "code",
   "execution_count": 32,
   "id": "233f416e-7f28-46cc-938e-91fd5a1e565c",
   "metadata": {},
   "outputs": [
    {
     "data": {
      "text/plain": [
       "-9.6"
      ]
     },
     "execution_count": 32,
     "metadata": {},
     "output_type": "execute_result"
    }
   ],
   "source": [
    "# La médiane\n",
    "data['montant'].median()"
   ]
  },
  {
   "cell_type": "code",
   "execution_count": 33,
   "id": "fca80c20-ea6a-4f13-9ee1-b63c3ca15886",
   "metadata": {},
   "outputs": [
    {
     "data": {
      "text/html": [
       "<div>\n",
       "<style scoped>\n",
       "    .dataframe tbody tr th:only-of-type {\n",
       "        vertical-align: middle;\n",
       "    }\n",
       "\n",
       "    .dataframe tbody tr th {\n",
       "        vertical-align: top;\n",
       "    }\n",
       "\n",
       "    .dataframe thead th {\n",
       "        text-align: right;\n",
       "    }\n",
       "</style>\n",
       "<table border=\"1\" class=\"dataframe\">\n",
       "  <thead>\n",
       "    <tr style=\"text-align: right;\">\n",
       "      <th></th>\n",
       "      <th>0</th>\n",
       "    </tr>\n",
       "  </thead>\n",
       "  <tbody>\n",
       "    <tr>\n",
       "      <th>0</th>\n",
       "      <td>24.1</td>\n",
       "    </tr>\n",
       "    <tr>\n",
       "      <th>1</th>\n",
       "      <td>25.0</td>\n",
       "    </tr>\n",
       "    <tr>\n",
       "      <th>2</th>\n",
       "      <td>25.2</td>\n",
       "    </tr>\n",
       "    <tr>\n",
       "      <th>3</th>\n",
       "      <td>25.6</td>\n",
       "    </tr>\n",
       "    <tr>\n",
       "      <th>4</th>\n",
       "      <td>25.7</td>\n",
       "    </tr>\n",
       "    <tr>\n",
       "      <th>5</th>\n",
       "      <td>26.1</td>\n",
       "    </tr>\n",
       "    <tr>\n",
       "      <th>6</th>\n",
       "      <td>27.8</td>\n",
       "    </tr>\n",
       "  </tbody>\n",
       "</table>\n",
       "</div>"
      ],
      "text/plain": [
       "      0\n",
       "0  24.1\n",
       "1  25.0\n",
       "2  25.2\n",
       "3  25.6\n",
       "4  25.7\n",
       "5  26.1\n",
       "6  27.8"
      ]
     },
     "execution_count": 33,
     "metadata": {},
     "output_type": "execute_result"
    }
   ],
   "source": [
    "# Exemple pour comprendre comment fonctionne la médiane\n",
    "rangs = pd.DataFrame([24.1,25.0,25.2,25.6,25.7,26.1,27.8])\n",
    "rangs"
   ]
  },
  {
   "cell_type": "code",
   "execution_count": 34,
   "id": "021bf4b7-e727-4422-9e4e-b3ec79b2dbed",
   "metadata": {},
   "outputs": [
    {
     "data": {
      "text/plain": [
       "0    25.6\n",
       "dtype: float64"
      ]
     },
     "execution_count": 34,
     "metadata": {},
     "output_type": "execute_result"
    }
   ],
   "source": [
    "# Il y a n = 7 valeurs, un nombre impair. La médiane correspondra donc à la valeur de rang\n",
    "# (n+1) ÷ 2 = (7 +1) ÷ 2 = 4\n",
    "# Le temps médian est de 25,6 secondes.\n",
    "rangs.median()"
   ]
  },
  {
   "cell_type": "code",
   "execution_count": 35,
   "id": "a7f1704c-f11e-4d1b-8e33-4d145fd0f2c6",
   "metadata": {},
   "outputs": [
    {
     "data": {
      "text/html": [
       "<div>\n",
       "<style scoped>\n",
       "    .dataframe tbody tr th:only-of-type {\n",
       "        vertical-align: middle;\n",
       "    }\n",
       "\n",
       "    .dataframe tbody tr th {\n",
       "        vertical-align: top;\n",
       "    }\n",
       "\n",
       "    .dataframe thead th {\n",
       "        text-align: right;\n",
       "    }\n",
       "</style>\n",
       "<table border=\"1\" class=\"dataframe\">\n",
       "  <thead>\n",
       "    <tr style=\"text-align: right;\">\n",
       "      <th></th>\n",
       "      <th>0</th>\n",
       "    </tr>\n",
       "  </thead>\n",
       "  <tbody>\n",
       "    <tr>\n",
       "      <th>0</th>\n",
       "      <td>24.1</td>\n",
       "    </tr>\n",
       "    <tr>\n",
       "      <th>1</th>\n",
       "      <td>24.7</td>\n",
       "    </tr>\n",
       "    <tr>\n",
       "      <th>2</th>\n",
       "      <td>25.0</td>\n",
       "    </tr>\n",
       "    <tr>\n",
       "      <th>3</th>\n",
       "      <td>25.2</td>\n",
       "    </tr>\n",
       "    <tr>\n",
       "      <th>4</th>\n",
       "      <td>25.6</td>\n",
       "    </tr>\n",
       "    <tr>\n",
       "      <th>5</th>\n",
       "      <td>25.7</td>\n",
       "    </tr>\n",
       "    <tr>\n",
       "      <th>6</th>\n",
       "      <td>26.1</td>\n",
       "    </tr>\n",
       "    <tr>\n",
       "      <th>7</th>\n",
       "      <td>27.8</td>\n",
       "    </tr>\n",
       "  </tbody>\n",
       "</table>\n",
       "</div>"
      ],
      "text/plain": [
       "      0\n",
       "0  24.1\n",
       "1  24.7\n",
       "2  25.0\n",
       "3  25.2\n",
       "4  25.6\n",
       "5  25.7\n",
       "6  26.1\n",
       "7  27.8"
      ]
     },
     "execution_count": 35,
     "metadata": {},
     "output_type": "execute_result"
    }
   ],
   "source": [
    "rangs = pd.DataFrame([24.1,24.7,25.0,25.2,25.6,25.7,26.1,27.8])\n",
    "rangs"
   ]
  },
  {
   "cell_type": "code",
   "execution_count": 36,
   "id": "b6a3b64d-2345-413b-b7c9-c03910d61cea",
   "metadata": {},
   "outputs": [
    {
     "data": {
      "text/plain": [
       "0    25.4\n",
       "dtype: float64"
      ]
     },
     "execution_count": 36,
     "metadata": {},
     "output_type": "execute_result"
    }
   ],
   "source": [
    "# Il y a maintenant n = 8 valeurs, un nombre pair. La médiane correspondra à la moyenne entre la valeur de rang\n",
    "# (n ÷ 2 = 8 ÷ 2 = 4 )\n",
    "# et la valeur de rang\n",
    "# (n ÷ 2) + 1 = (8 ÷ 2) +1 = 5\n",
    "# Le temps médian est donc de (25,2 + 25,6) ÷ 2 = 25,4 secondes.\n",
    "rangs.median()"
   ]
  },
  {
   "cell_type": "code",
   "execution_count": 37,
   "id": "c591c7fd-a214-442d-a262-d318bd5612f7",
   "metadata": {
    "scrolled": true
   },
   "outputs": [
    {
     "data": {
      "text/html": [
       "<div>\n",
       "<style scoped>\n",
       "    .dataframe tbody tr th:only-of-type {\n",
       "        vertical-align: middle;\n",
       "    }\n",
       "\n",
       "    .dataframe tbody tr th {\n",
       "        vertical-align: top;\n",
       "    }\n",
       "\n",
       "    .dataframe thead th {\n",
       "        text-align: right;\n",
       "    }\n",
       "</style>\n",
       "<table border=\"1\" class=\"dataframe\">\n",
       "  <thead>\n",
       "    <tr style=\"text-align: right;\">\n",
       "      <th></th>\n",
       "      <th>taille</th>\n",
       "      <th>f</th>\n",
       "      <th>f-relative</th>\n",
       "      <th>f-cum</th>\n",
       "      <th>f-cum-relative</th>\n",
       "    </tr>\n",
       "  </thead>\n",
       "  <tbody>\n",
       "    <tr>\n",
       "      <th>0</th>\n",
       "      <td>2</td>\n",
       "      <td>3</td>\n",
       "      <td>10.0</td>\n",
       "      <td>3</td>\n",
       "      <td>10.0</td>\n",
       "    </tr>\n",
       "    <tr>\n",
       "      <th>1</th>\n",
       "      <td>3</td>\n",
       "      <td>4</td>\n",
       "      <td>13.3</td>\n",
       "      <td>7</td>\n",
       "      <td>23.3</td>\n",
       "    </tr>\n",
       "    <tr>\n",
       "      <th>2</th>\n",
       "      <td>4</td>\n",
       "      <td>10</td>\n",
       "      <td>33.3</td>\n",
       "      <td>17</td>\n",
       "      <td>56.7</td>\n",
       "    </tr>\n",
       "    <tr>\n",
       "      <th>3</th>\n",
       "      <td>5</td>\n",
       "      <td>4</td>\n",
       "      <td>13.3</td>\n",
       "      <td>21</td>\n",
       "      <td>70.0</td>\n",
       "    </tr>\n",
       "    <tr>\n",
       "      <th>4</th>\n",
       "      <td>6</td>\n",
       "      <td>2</td>\n",
       "      <td>6.7</td>\n",
       "      <td>23</td>\n",
       "      <td>76.7</td>\n",
       "    </tr>\n",
       "    <tr>\n",
       "      <th>5</th>\n",
       "      <td>7</td>\n",
       "      <td>3</td>\n",
       "      <td>10.0</td>\n",
       "      <td>26</td>\n",
       "      <td>86.7</td>\n",
       "    </tr>\n",
       "    <tr>\n",
       "      <th>6</th>\n",
       "      <td>8</td>\n",
       "      <td>1</td>\n",
       "      <td>3.3</td>\n",
       "      <td>27</td>\n",
       "      <td>90.0</td>\n",
       "    </tr>\n",
       "    <tr>\n",
       "      <th>7</th>\n",
       "      <td>9</td>\n",
       "      <td>2</td>\n",
       "      <td>6.7</td>\n",
       "      <td>29</td>\n",
       "      <td>96.7</td>\n",
       "    </tr>\n",
       "    <tr>\n",
       "      <th>8</th>\n",
       "      <td>10</td>\n",
       "      <td>1</td>\n",
       "      <td>3.3</td>\n",
       "      <td>30</td>\n",
       "      <td>100.0</td>\n",
       "    </tr>\n",
       "  </tbody>\n",
       "</table>\n",
       "</div>"
      ],
      "text/plain": [
       "   taille   f  f-relative  f-cum  f-cum-relative\n",
       "0       2   3        10.0      3            10.0\n",
       "1       3   4        13.3      7            23.3\n",
       "2       4  10        33.3     17            56.7\n",
       "3       5   4        13.3     21            70.0\n",
       "4       6   2         6.7     23            76.7\n",
       "5       7   3        10.0     26            86.7\n",
       "6       8   1         3.3     27            90.0\n",
       "7       9   2         6.7     29            96.7\n",
       "8      10   1         3.3     30           100.0"
      ]
     },
     "execution_count": 37,
     "metadata": {},
     "output_type": "execute_result"
    }
   ],
   "source": [
    "# Pour les ensembles de données plus grands, il est possible d’utiliser la distribution de fréquence \n",
    "# relative cumulée pour aider à identifier la médiane. La médiane sera la plus petite valeur \n",
    "# pour laquelle la fréquence relative cumulée atteint au moins 50 %. \n",
    "\n",
    "menages = pd.DataFrame([])\n",
    "menages['taille'] = [2,3,4,5,6,7,8,9,10]\n",
    "menages['f'] = [3,4,10,4,2,3,1,2,1]\n",
    "menages['f-relative'] = [10.0,13.3,33.3,13.3,6.7,10.0,3.3,6.7,3.3]\n",
    "menages['f-cum'] = [3,7,17,21,23,26,27,29,30]\n",
    "menages['f-cum-relative'] = [10,23.3,56.7,70.0,76.7,86.7,90.0,96.7,100]\n",
    "menages"
   ]
  },
  {
   "cell_type": "code",
   "execution_count": 38,
   "id": "b7709d73-dcee-4fe4-b158-95c1c68be923",
   "metadata": {},
   "outputs": [
    {
     "data": {
      "text/plain": [
       "taille             4.0\n",
       "f                 10.0\n",
       "f-relative        33.3\n",
       "f-cum             17.0\n",
       "f-cum-relative    56.7\n",
       "Name: 2, dtype: float64"
      ]
     },
     "execution_count": 38,
     "metadata": {},
     "output_type": "execute_result"
    }
   ],
   "source": [
    "# La médiane sera égale à taille = 4, car c’est la plus petite valeur \n",
    "# pour laquelle la fréquence cumulée dépasse 50 %.\n",
    "menages.loc[ (menages['f-cum-relative'] > 50), : ].iloc[0]"
   ]
  },
  {
   "cell_type": "markdown",
   "id": "c2d4d664-64b0-4698-b11b-b6e189f9b0d2",
   "metadata": {},
   "source": [
    "Sur un histogramme, le mode est le \"point le plus haut\" de la distribution, la médiane est la valeur qui divise la surface en deux et la moyenne est le centre de gravité de la distribution"
   ]
  },
  {
   "cell_type": "markdown",
   "id": "9f44d200-f63b-4ac1-9562-100757a1fa3d",
   "metadata": {},
   "source": [
    "## Mesure de dispersion"
   ]
  },
  {
   "cell_type": "markdown",
   "id": "d2101f36-b93f-4cce-a6b8-35e9c85591ec",
   "metadata": {},
   "source": [
    "#### Variance Empirique"
   ]
  },
  {
   "cell_type": "code",
   "execution_count": 39,
   "id": "81718a87-040c-469b-8a31-08674d1600cd",
   "metadata": {},
   "outputs": [
    {
     "data": {
      "text/plain": [
       "31007.638040630954"
      ]
     },
     "execution_count": 39,
     "metadata": {},
     "output_type": "execute_result"
    }
   ],
   "source": [
    "# Variance empirique\n",
    "# Il s'agit de la somme des (xi - x-bar)² / n\n",
    "# Par exemple pour la variable montant, \n",
    "# xi correspond à la valeur ponctuelle du montant, \n",
    "# x-bar correspond à la moyenne du montant \n",
    "# n correspond au nombre total d'occurence\n",
    "# Soit : ( (x1 - x-bar)² + (x2 - x-bar)² + ... + (xn - x-bar)² ) / n\n",
    "\n",
    "data['montant'].var()"
   ]
  },
  {
   "cell_type": "code",
   "execution_count": 40,
   "id": "04bde525-e5ee-4e27-80bb-ad808a741ff3",
   "metadata": {},
   "outputs": [
    {
     "data": {
      "text/plain": [
       "30906.963891148385"
      ]
     },
     "execution_count": 40,
     "metadata": {},
     "output_type": "execute_result"
    }
   ],
   "source": [
    "# Variance empirique corrigé est la version où le biais de l'estimateur est corrigé\n",
    "data['montant'].var(ddof=0)"
   ]
  },
  {
   "cell_type": "markdown",
   "id": "18c3cb3e-b1f0-422a-902f-65765efa7f49",
   "metadata": {},
   "source": [
    "### Ecart-type"
   ]
  },
  {
   "cell_type": "code",
   "execution_count": 41,
   "id": "2468f8e6-003d-4aa1-9619-9bb86926c109",
   "metadata": {},
   "outputs": [
    {
     "data": {
      "text/plain": [
       "176.08985785851198"
      ]
     },
     "execution_count": 41,
     "metadata": {},
     "output_type": "execute_result"
    }
   ],
   "source": [
    "# Racine carré de la variance\n",
    "data['montant'].std()"
   ]
  },
  {
   "cell_type": "markdown",
   "id": "b4e4e52a-78a9-4daa-afce-5ea004747cf0",
   "metadata": {},
   "source": [
    "### Coefficient de variation"
   ]
  },
  {
   "cell_type": "code",
   "execution_count": 42,
   "id": "e3066d77-c424-4e4d-9be1-3426c92fab19",
   "metadata": {},
   "outputs": [
    {
     "data": {
      "text/plain": [
       "61.30056651079026"
      ]
     },
     "execution_count": 42,
     "metadata": {},
     "output_type": "execute_result"
    }
   ],
   "source": [
    "# l'écart-type empirique divisé par la moyenne\n",
    "data['montant'].std() / data['montant'].mean()"
   ]
  },
  {
   "cell_type": "markdown",
   "id": "62898b22-dee9-4eaf-9497-ad9989711bde",
   "metadata": {},
   "source": [
    "### Ecart interquartile\n",
    "\n",
    "Les quantiles servent à calculer les intervalles interquantiles, qui sont les caractéristiques indicatrices de dispersion. Interquartile on divise cette dispersion en quart.\n",
    "\n",
    "L'écart interquartile est la différence entre le 3e quartile et le 1er quartile :\n",
    "\n",
    "    IQ=Q3−Q1\n",
    "\n",
    "Cet intervalle va mesurer l’écart des valeurs autour de la valeur médiane qui réunit 50% de la population."
   ]
  },
  {
   "cell_type": "code",
   "execution_count": 43,
   "id": "075b07b3-9b9a-4719-98b8-1c127f9b2bff",
   "metadata": {},
   "outputs": [
    {
     "data": {
      "image/png": "[encoded data removed]",
      "text/plain": [
       "<Figure size 640x480 with 1 Axes>"
      ]
     },
     "metadata": {},
     "output_type": "display_data"
    }
   ],
   "source": [
    "# la boite à moustache (boxplot) représente schématiquement une distribution, \n",
    "# en incluant sa dispersion. La boîte est délimitée par Q1 et Q3, et \n",
    "# on représente souvent la médiane à l’intérieur de la boîte.\n",
    "\n",
    "# Si certaines valeurs sont au-dessous de  Q1−1.5IQ ou au-dessus de Q3+1.5IQ, \n",
    "# alors on les considère comme des outliers, et on ne les inclut pas dans la moustache\n",
    "\n",
    "data.boxplot(column=\"montant\", vert=False)\n",
    "plt.show()"
   ]
  },
  {
   "cell_type": "markdown",
   "id": "2bbbd5ec-3d88-40d1-b276-8f429f4bc5f4",
   "metadata": {},
   "source": [
    "### Ecart Mean Absolute - EMA\n",
    "\n",
    "Est la moyenne arithmétique des valeurs absolues des écarts à un indicateur de tendance centrale, en général la moyenne ou la médiane.\n",
    "\n",
    "Par exemple avec la médiane:\n",
    "EMA=(∑ni=1|xi−Med|) / 2"
   ]
  },
  {
   "cell_type": "markdown",
   "id": "939654da-e9bf-40c0-af8f-2278850a199a",
   "metadata": {},
   "source": [
    "## Mesure de forme"
   ]
  },
  {
   "cell_type": "code",
   "execution_count": 44,
   "id": "b984d94f-2366-46a5-b52e-445247dc5399",
   "metadata": {},
   "outputs": [
    {
     "name": "stdout",
     "output_type": "stream",
     "text": [
      "-1.6\n",
      "-9.6\n",
      "2.8725649350649354\n",
      "3.3618450105098843\n"
     ]
    }
   ],
   "source": [
    "# skewness empirique\n",
    "\n",
    "print(data['montant'].mode().loc[0])\n",
    "print(data['montant'].median())\n",
    "print(data['montant'].mean())\n",
    "\n",
    "print(data['montant'].skew())"
   ]
  },
  {
   "cell_type": "code",
   "execution_count": 45,
   "id": "b8dbc97a-b6f9-4f71-92fe-1f36bebe2333",
   "metadata": {},
   "outputs": [
    {
     "data": {
      "text/plain": [
       "17.2719048282677"
      ]
     },
     "execution_count": 45,
     "metadata": {},
     "output_type": "execute_result"
    }
   ],
   "source": [
    "# kurtosis empirique\n",
    "data['montant'].kurtosis()"
   ]
  },
  {
   "cell_type": "markdown",
   "id": "2e62c7a3-636b-4570-99da-cfbae4b1abac",
   "metadata": {},
   "source": [
    "## Mesure de concentration"
   ]
  },
  {
   "cell_type": "code",
   "execution_count": 46,
   "id": "bbcc22bf-2690-466b-93e0-4c4ddbbeb473",
   "metadata": {},
   "outputs": [
    {
     "data": {
      "image/png": "[encoded data removed]",
      "text/plain": [
       "<Figure size 640x480 with 1 Axes>"
      ]
     },
     "metadata": {},
     "output_type": "display_data"
    }
   ],
   "source": [
    "# Courbe de Lorenz\n",
    "depenses = data[data['montant'] < 0]\n",
    "# On rend les valeurs positives\n",
    "dep = -depenses['montant'].values\n",
    "\n",
    "n = len(dep)\n",
    "lorenz = np.cumsum(np.sort(dep)) / dep.sum()\n",
    "lorenz = np.append([0],lorenz) # La courbe de Lorenz commence à 0\n",
    "\n",
    "# Pour avoir un axe des abscisses entre 0 et 1\n",
    "#Il y a un segment de taille n pour chaque individu, plus 1 segment supplémentaire d'ordonnée 0. \n",
    "# Le premier segment commence à 0-1/n, et le dernier termine à 1+1/n.\n",
    "xaxis = np.linspace(0-1/n,1+1/n,n+1) \n",
    "\n",
    "plt.plot(xaxis,lorenz,drawstyle='steps-post')\n",
    "plt.show()"
   ]
  },
  {
   "cell_type": "code",
   "execution_count": 47,
   "id": "b226100c-d82f-4fa7-b974-f1244e6adf80",
   "metadata": {},
   "outputs": [
    {
     "data": {
      "text/plain": [
       "0.7204386813739185"
      ]
     },
     "execution_count": 47,
     "metadata": {},
     "output_type": "execute_result"
    }
   ],
   "source": [
    "# Indice de Gini\n",
    "# Surface sous la courbe de Lorenz. Le premier segment (lorenz[0]) est à moitié en dessous de 0, \n",
    "# on le coupe donc en 2, on fait de même pour le dernier segment lorenz[-1] \n",
    "# qui est à moitié au dessus de 1.\n",
    "AUC = (lorenz.sum() -lorenz[-1]/2 -lorenz[0]/2)/n \n",
    "\n",
    "# surface entre la première bissectrice et le courbe de Lorenz\n",
    "S = 0.5 - AUC \n",
    "gini = 2*S\n",
    "gini"
   ]
  },
  {
   "cell_type": "markdown",
   "id": "2dfa80f8-5509-4ed6-a063-b0e05cc7747b",
   "metadata": {},
   "source": [
    "### Analyse de la corrélation entre 2 variables quantitatives"
   ]
  },
  {
   "cell_type": "code",
   "execution_count": 48,
   "id": "68ec028b-18cb-4bc7-b250-11be3689b13f",
   "metadata": {},
   "outputs": [
    {
     "data": {
      "text/plain": [
       "Text(0, 0.5, 'Montant des dépenses')"
      ]
     },
     "execution_count": 48,
     "metadata": {},
     "output_type": "execute_result"
    },
    {
     "data": {
      "image/png": "[encoded data removed]",
      "text/plain": [
       "<Figure size 640x480 with 1 Axes>"
      ]
     },
     "metadata": {},
     "output_type": "display_data"
    }
   ],
   "source": [
    "## Diagramme de dispersion (2 variables quantitatives)\n",
    "\n",
    "plt.scatter(x=depenses['solde_avt_ope'], y=-depenses['montant'])\n",
    "plt.xlabel(\"Solde avant  opération\")\n",
    "plt.ylabel(\"Montant des dépenses\")"
   ]
  },
  {
   "cell_type": "markdown",
   "id": "08ed3d70-b378-44b9-8fdd-6697aea66fb6",
   "metadata": {},
   "source": [
    "Pas très lisible. Une alternative consiste à découper l'axe des abscisses en différentes classes."
   ]
  },
  {
   "cell_type": "code",
   "execution_count": 49,
   "id": "42b3573a-9228-41f4-a3da-2c6197b12125",
   "metadata": {},
   "outputs": [
    {
     "data": {
      "text/plain": [
       "array([1500., 2000., 2500., 3000., 3500., 4000., 4500.])"
      ]
     },
     "execution_count": 49,
     "metadata": {},
     "output_type": "execute_result"
    }
   ],
   "source": [
    "# Taille de chaque classe\n",
    "taille = 500\n",
    "classes = []\n",
    "\n",
    "tranches = np.arange(1500, max(depenses['solde_avt_ope']), taille )\n",
    "# On décale d'une demi taille pour se caller au niveau de l'axe des abscisses avec la représentation\n",
    "# scatter faite précedemment\n",
    "# tranches += taille/2\n",
    "tranches"
   ]
  },
  {
   "cell_type": "code",
   "execution_count": 50,
   "id": "6e69277d-9843-4b35-b206-4853af869be1",
   "metadata": {},
   "outputs": [
    {
     "data": {
      "text/plain": [
       "array([1, 1, 0, 2, 2, 2, 2, 2, 2, 4, 4, 3, 3, 3, 3, 3, 3, 5, 7, 6, 6, 6,\n",
       "       6, 6, 6, 5, 5, 5, 5, 5, 5, 5, 5, 5, 5, 5, 5, 5, 5, 5, 5, 5, 5, 5,\n",
       "       5, 5, 5, 5, 4, 4, 6, 6, 6, 6, 6, 6, 6, 6, 6, 5, 5, 5, 5, 5, 5, 5,\n",
       "       5, 5, 5, 5, 5, 5, 6, 6, 6, 6, 6, 6, 6, 6, 6, 6, 6, 6, 6, 6, 6, 6,\n",
       "       6, 7, 7, 7, 7, 7, 7, 7, 7, 7, 7, 7, 7, 6, 6, 6, 6, 6, 6, 6, 6, 6,\n",
       "       6, 6, 6, 6, 6, 6, 6, 6, 6, 6, 6, 5, 5, 5, 5, 5, 5, 5, 5, 5, 5, 5,\n",
       "       5, 5, 4, 4, 4, 4, 4, 4, 4, 4, 4, 4, 4, 4, 4, 4, 4, 4, 4, 4, 4, 4,\n",
       "       3, 3, 3, 3, 2, 2, 2, 2, 2, 2, 2, 2, 2, 2, 4, 4, 4, 4, 4, 4, 4, 4,\n",
       "       4, 4, 4, 4, 4, 4, 4, 4, 5, 5, 5, 5, 5, 5, 5, 5, 5, 5, 5, 5, 5, 5,\n",
       "       5, 5, 5, 5, 5, 5, 5, 5, 5, 4, 4, 4, 4, 4, 4, 4, 4, 4, 4, 4, 4, 4,\n",
       "       4, 4, 4, 4, 4, 4, 4, 4, 4, 4, 4, 3, 3, 3, 3, 3, 3, 3, 5, 4, 4, 4,\n",
       "       4, 4, 4, 4, 4, 4, 4, 4, 4, 4, 4, 4, 4, 4, 4, 4, 4, 4, 4, 3, 3, 3,\n",
       "       3, 3, 3, 3, 3, 3, 3, 3, 3, 2, 2, 2, 2, 2, 2, 2, 2, 2, 1, 1, 1, 3,\n",
       "       2, 2, 2, 2, 2])"
      ]
     },
     "execution_count": 50,
     "metadata": {},
     "output_type": "execute_result"
    }
   ],
   "source": [
    "# On associe la valeur du solde à sa tranche\n",
    "indices = np.digitize(depenses['solde_avt_ope'], tranches)\n",
    "indices"
   ]
  },
  {
   "cell_type": "code",
   "execution_count": 51,
   "id": "4d40a6d9-6d74-46b9-9ff1-4e886ec24165",
   "metadata": {},
   "outputs": [
    {
     "data": {
      "text/plain": [
       "0       1.44\n",
       "1      24.00\n",
       "2      73.00\n",
       "5      14.39\n",
       "6      15.20\n",
       "       ...  \n",
       "303    10.64\n",
       "304     4.80\n",
       "305     1.92\n",
       "306    10.00\n",
       "307    13.58\n",
       "Name: montant, Length: 291, dtype: float64"
      ]
     },
     "execution_count": 51,
     "metadata": {},
     "output_type": "execute_result"
    }
   ],
   "source": [
    "# Liste des montants des dépenses\n",
    "-depenses.loc[ :, \"montant\" ]"
   ]
  },
  {
   "cell_type": "code",
   "execution_count": 52,
   "id": "60fa15b7-da8a-4a28-9d22-85530532daaa",
   "metadata": {},
   "outputs": [
    {
     "data": {
      "image/png": "[encoded data removed]",
      "text/plain": [
       "<Figure size 1000x700 with 1 Axes>"
      ]
     },
     "metadata": {},
     "output_type": "display_data"
    }
   ],
   "source": [
    "for i, tranche in enumerate(tranches):\n",
    "    # Ici on récupère les montants des dépenses pour notre tranche en fonction de la liste \"indices\"\n",
    "    montants = -depenses.loc[ indices == i, \"montant\" ]\n",
    "    if len(montants) > 0:\n",
    "        c = {\n",
    "            'valeurs' : montants,\n",
    "            'centre_classe' : tranche, #(tranches - (taille/2)) # On annule notre décalage sur l'axe x\n",
    "            'taille' : len(montants),\n",
    "            'quartiles' : [np.percentile(montants, p) for p in [25,50,75]]\n",
    "        }        \n",
    "        classes.append(c)\n",
    "plt.figure(figsize=(10,7))\n",
    "\n",
    "valeurs = [c[\"valeurs\"] for c in classes]\n",
    "positions = [c[\"centre_classe\"] for c in classes]\n",
    "\n",
    "# affichage des boxplots\n",
    "# showfliers= False -> n'affiche pas les outliers\n",
    "plt.boxplot(valeurs, \n",
    "            positions= positions,\n",
    "            showfliers= True, \n",
    "            widths= taille*0.7)\n",
    "\n",
    "# affichage des effectifs de chaque classe\n",
    "for c in classes:\n",
    "    plt.text(\n",
    "        c[\"centre_classe\"],0,\"(n={})\".format(c[\"taille\"]),\n",
    "        horizontalalignment='center',\n",
    "        verticalalignment='top'\n",
    "    )     \n",
    "plt.show()"
   ]
  },
  {
   "cell_type": "markdown",
   "id": "5c5d6310-b1ca-4d18-852a-fbd2a6f21c09",
   "metadata": {},
   "source": [
    "On rend le visuel plus clair en retirant les outliers"
   ]
  },
  {
   "cell_type": "code",
   "execution_count": 53,
   "id": "ff1eb2a2-c3c3-4c84-b210-cf9c5066a74c",
   "metadata": {},
   "outputs": [
    {
     "data": {
      "image/png": "[encoded data removed]",
      "text/plain": [
       "<Figure size 1000x700 with 1 Axes>"
      ]
     },
     "metadata": {},
     "output_type": "display_data"
    }
   ],
   "source": [
    "plt.figure(figsize=(10,7))\n",
    "# affichage des boxplots\n",
    "# showfliers= False -> n'affiche pas les outliers\n",
    "plt.boxplot(valeurs, \n",
    "            positions= positions,\n",
    "            showfliers= False, \n",
    "            widths= taille*0.7)\n",
    "\n",
    "# affichage des effectifs de chaque classe\n",
    "for c in classes:\n",
    "    plt.text(\n",
    "        c[\"centre_classe\"],0,\"(n={})\".format(c[\"taille\"]),\n",
    "        horizontalalignment='center',\n",
    "        verticalalignment='top'\n",
    "    )     \n",
    "plt.show()"
   ]
  },
  {
   "cell_type": "markdown",
   "id": "a6c8d0e5-4d33-4dd7-8257-f2829622b04c",
   "metadata": {},
   "source": [
    "### Coefficient de corrélation linéaire\n",
    "\n",
    "Le coefficient de corrélation de Pearson ou coefficient de corrélation linéaire permet de compléter numériquement l'analyse de la corrélation.\n",
    "\n",
    "Ce dernier n'est pertinent que pour évaluer une relation linéaire. Il prend des valeurs entre -1 et 1, et le signe du coefficient indique le sens de la relation."
   ]
  },
  {
   "cell_type": "code",
   "execution_count": 54,
   "id": "078bfd3f-8f42-443f-940c-5fa520f53b79",
   "metadata": {},
   "outputs": [
    {
     "name": "stdout",
     "output_type": "stream",
     "text": [
      "PearsonRResult(statistic=0.010068819133759201, pvalue=0.8642031213774031)\n",
      "0.010068819133759201\n"
     ]
    }
   ],
   "source": [
    "# Coefficient de Pearson, corrélation linéaire\n",
    "print(st.pearsonr(depenses[\"solde_avt_ope\"],-depenses[\"montant\"]))\n",
    "print(st.pearsonr(depenses[\"solde_avt_ope\"],-depenses[\"montant\"])[0])\n"
   ]
  },
  {
   "cell_type": "markdown",
   "id": "80e10cdb-443c-44b6-8a1d-ac48a813a6b5",
   "metadata": {},
   "source": [
    "### Coefficient de covariance"
   ]
  },
  {
   "cell_type": "code",
   "execution_count": 55,
   "id": "111861ca-6f6a-40d3-9024-fa631ca15de3",
   "metadata": {},
   "outputs": [
    {
     "name": "stdout",
     "output_type": "stream",
     "text": [
      "[[422791.93532421    484.95954155]\n",
      " [   484.95954155   5486.90249853]]\n",
      "484.95954154532853\n"
     ]
    }
   ],
   "source": [
    "# Coefficient de covariance\n",
    "print(np.cov(depenses[\"solde_avt_ope\"],-depenses[\"montant\"],ddof=0))\n",
    "print(np.cov(depenses[\"solde_avt_ope\"],-depenses[\"montant\"],ddof=0)[1,0])"
   ]
  },
  {
   "cell_type": "markdown",
   "id": "deec18db-bf17-4c37-9589-a7efc924b5bc",
   "metadata": {},
   "source": [
    "### Analyse de 2 variables quantitatives par régression linéaire"
   ]
  },
  {
   "cell_type": "code",
   "execution_count": 56,
   "id": "f4211840-120d-46a3-a2e4-35bb72e346c8",
   "metadata": {},
   "outputs": [
    {
     "data": {
      "text/html": [
       "<div>\n",
       "<style scoped>\n",
       "    .dataframe tbody tr th:only-of-type {\n",
       "        vertical-align: middle;\n",
       "    }\n",
       "\n",
       "    .dataframe tbody tr th {\n",
       "        vertical-align: top;\n",
       "    }\n",
       "\n",
       "    .dataframe thead th {\n",
       "        text-align: right;\n",
       "    }\n",
       "</style>\n",
       "<table border=\"1\" class=\"dataframe\">\n",
       "  <thead>\n",
       "    <tr style=\"text-align: right;\">\n",
       "      <th></th>\n",
       "      <th>montant</th>\n",
       "      <th>attente</th>\n",
       "    </tr>\n",
       "    <tr>\n",
       "      <th>date_operation</th>\n",
       "      <th></th>\n",
       "      <th></th>\n",
       "    </tr>\n",
       "  </thead>\n",
       "  <tbody>\n",
       "    <tr>\n",
       "      <th>2023-04-10</th>\n",
       "      <td>42.42</td>\n",
       "      <td>5</td>\n",
       "    </tr>\n",
       "    <tr>\n",
       "      <th>2023-04-25</th>\n",
       "      <td>32.67</td>\n",
       "      <td>15</td>\n",
       "    </tr>\n",
       "    <tr>\n",
       "      <th>2023-04-26</th>\n",
       "      <td>1.90</td>\n",
       "      <td>1</td>\n",
       "    </tr>\n",
       "    <tr>\n",
       "      <th>2023-04-28</th>\n",
       "      <td>9.11</td>\n",
       "      <td>2</td>\n",
       "    </tr>\n",
       "    <tr>\n",
       "      <th>2023-05-02</th>\n",
       "      <td>12.24</td>\n",
       "      <td>4</td>\n",
       "    </tr>\n",
       "    <tr>\n",
       "      <th>2023-05-04</th>\n",
       "      <td>17.16</td>\n",
       "      <td>2</td>\n",
       "    </tr>\n",
       "    <tr>\n",
       "      <th>2023-05-05</th>\n",
       "      <td>3.48</td>\n",
       "      <td>1</td>\n",
       "    </tr>\n",
       "    <tr>\n",
       "      <th>2023-05-10</th>\n",
       "      <td>42.45</td>\n",
       "      <td>5</td>\n",
       "    </tr>\n",
       "    <tr>\n",
       "      <th>2023-05-15</th>\n",
       "      <td>46.51</td>\n",
       "      <td>5</td>\n",
       "    </tr>\n",
       "    <tr>\n",
       "      <th>2023-05-23</th>\n",
       "      <td>4.41</td>\n",
       "      <td>8</td>\n",
       "    </tr>\n",
       "    <tr>\n",
       "      <th>2023-05-29</th>\n",
       "      <td>22.59</td>\n",
       "      <td>6</td>\n",
       "    </tr>\n",
       "    <tr>\n",
       "      <th>2023-05-31</th>\n",
       "      <td>6.89</td>\n",
       "      <td>2</td>\n",
       "    </tr>\n",
       "    <tr>\n",
       "      <th>2023-06-12</th>\n",
       "      <td>39.60</td>\n",
       "      <td>12</td>\n",
       "    </tr>\n",
       "    <tr>\n",
       "      <th>2023-06-16</th>\n",
       "      <td>4.39</td>\n",
       "      <td>4</td>\n",
       "    </tr>\n",
       "    <tr>\n",
       "      <th>2023-06-19</th>\n",
       "      <td>27.76</td>\n",
       "      <td>3</td>\n",
       "    </tr>\n",
       "    <tr>\n",
       "      <th>2023-06-26</th>\n",
       "      <td>34.28</td>\n",
       "      <td>7</td>\n",
       "    </tr>\n",
       "    <tr>\n",
       "      <th>2023-06-28</th>\n",
       "      <td>12.49</td>\n",
       "      <td>2</td>\n",
       "    </tr>\n",
       "    <tr>\n",
       "      <th>2023-07-13</th>\n",
       "      <td>9.88</td>\n",
       "      <td>15</td>\n",
       "    </tr>\n",
       "    <tr>\n",
       "      <th>2023-07-25</th>\n",
       "      <td>60.16</td>\n",
       "      <td>12</td>\n",
       "    </tr>\n",
       "    <tr>\n",
       "      <th>2023-07-31</th>\n",
       "      <td>24.37</td>\n",
       "      <td>6</td>\n",
       "    </tr>\n",
       "    <tr>\n",
       "      <th>2023-08-07</th>\n",
       "      <td>21.73</td>\n",
       "      <td>7</td>\n",
       "    </tr>\n",
       "    <tr>\n",
       "      <th>2023-08-17</th>\n",
       "      <td>28.11</td>\n",
       "      <td>10</td>\n",
       "    </tr>\n",
       "    <tr>\n",
       "      <th>2023-08-22</th>\n",
       "      <td>10.91</td>\n",
       "      <td>5</td>\n",
       "    </tr>\n",
       "    <tr>\n",
       "      <th>2023-08-28</th>\n",
       "      <td>29.18</td>\n",
       "      <td>6</td>\n",
       "    </tr>\n",
       "    <tr>\n",
       "      <th>2023-08-31</th>\n",
       "      <td>26.19</td>\n",
       "      <td>3</td>\n",
       "    </tr>\n",
       "    <tr>\n",
       "      <th>2023-09-04</th>\n",
       "      <td>13.59</td>\n",
       "      <td>4</td>\n",
       "    </tr>\n",
       "    <tr>\n",
       "      <th>2023-09-11</th>\n",
       "      <td>9.60</td>\n",
       "      <td>7</td>\n",
       "    </tr>\n",
       "    <tr>\n",
       "      <th>2023-09-18</th>\n",
       "      <td>20.59</td>\n",
       "      <td>7</td>\n",
       "    </tr>\n",
       "    <tr>\n",
       "      <th>2023-09-20</th>\n",
       "      <td>2.56</td>\n",
       "      <td>2</td>\n",
       "    </tr>\n",
       "    <tr>\n",
       "      <th>2023-09-26</th>\n",
       "      <td>13.29</td>\n",
       "      <td>6</td>\n",
       "    </tr>\n",
       "  </tbody>\n",
       "</table>\n",
       "</div>"
      ],
      "text/plain": [
       "                montant  attente\n",
       "date_operation                  \n",
       "2023-04-10        42.42        5\n",
       "2023-04-25        32.67       15\n",
       "2023-04-26         1.90        1\n",
       "2023-04-28         9.11        2\n",
       "2023-05-02        12.24        4\n",
       "2023-05-04        17.16        2\n",
       "2023-05-05         3.48        1\n",
       "2023-05-10        42.45        5\n",
       "2023-05-15        46.51        5\n",
       "2023-05-23         4.41        8\n",
       "2023-05-29        22.59        6\n",
       "2023-05-31         6.89        2\n",
       "2023-06-12        39.60       12\n",
       "2023-06-16         4.39        4\n",
       "2023-06-19        27.76        3\n",
       "2023-06-26        34.28        7\n",
       "2023-06-28        12.49        2\n",
       "2023-07-13         9.88       15\n",
       "2023-07-25        60.16       12\n",
       "2023-07-31        24.37        6\n",
       "2023-08-07        21.73        7\n",
       "2023-08-17        28.11       10\n",
       "2023-08-22        10.91        5\n",
       "2023-08-28        29.18        6\n",
       "2023-08-31        26.19        3\n",
       "2023-09-04        13.59        4\n",
       "2023-09-11         9.60        7\n",
       "2023-09-18        20.59        7\n",
       "2023-09-20         2.56        2\n",
       "2023-09-26        13.29        6"
      ]
     },
     "execution_count": 56,
     "metadata": {},
     "output_type": "execute_result"
    }
   ],
   "source": [
    "# Selection du sous-échantillon\n",
    "courses = data[data.categ == \"COURSES\"]\n",
    "\n",
    "# On trie les opérations par date\n",
    "courses = courses.sort_values(\"date_operation\")\n",
    "\n",
    "# On ramène les montants en positif\n",
    "courses[\"montant\"] = -courses[\"montant\"]\n",
    "\n",
    "# calcul de la variable attente\n",
    "r = []\n",
    "last_date = dt.datetime.now()\n",
    "for i,row in courses.iterrows():\n",
    "    days = (row[\"date_operation\"]-last_date).days\n",
    "    if days == 0:\n",
    "        r.append(r[-1])\n",
    "    else:\n",
    "        r.append(days)\n",
    "    last_date = row[\"date_operation\"]\n",
    "    \n",
    "courses[\"attente\"] = r\n",
    "courses = courses.iloc[1:,]\n",
    "\n",
    "# on regroupe les opérations qui ont été effectués à la même date\n",
    "# (courses réalisées le même jour mais dans 2 magasins différents)\n",
    "a = courses.groupby(\"date_operation\")[\"montant\"].sum()\n",
    "b = courses.groupby(\"date_operation\")[\"attente\"].first()\n",
    "courses = pd.DataFrame({\"montant\":a, \"attente\":b})\n",
    "\n",
    "courses"
   ]
  },
  {
   "cell_type": "code",
   "execution_count": 57,
   "id": "26f1824b-aef5-4660-be8b-9597330515df",
   "metadata": {},
   "outputs": [],
   "source": [
    "Y = courses['montant']\n",
    "X = courses[['attente']]\n",
    "X = X.copy() # On modifiera X, on en crée donc une copie\n",
    "X['intercept'] = 1.\n",
    "result = sm.OLS(Y, X).fit() # OLS = Ordinary Least Square (Moindres Carrés Ordinaire)\n",
    "a,b = result.params['attente'],result.params['intercept']\n"
   ]
  },
  {
   "cell_type": "code",
   "execution_count": 58,
   "id": "763cd2fe-dc1b-4077-9951-ae6a53cdf5e6",
   "metadata": {},
   "outputs": [
    {
     "data": {
      "image/png": "[encoded data removed]",
      "text/plain": [
       "<Figure size 640x480 with 1 Axes>"
      ]
     },
     "metadata": {},
     "output_type": "display_data"
    }
   ],
   "source": [
    "x_n = int(courses['attente'].max()) + 1 \n",
    "\n",
    "plt.plot(courses.attente,courses.montant, \"o\")\n",
    "plt.plot(np.arange( x_n ), [a*x+b for x in np.arange(x_n)])\n",
    "plt.xlabel(\"attente\")\n",
    "plt.ylabel(\"montant\")\n",
    "plt.show()"
   ]
  },
  {
   "cell_type": "markdown",
   "id": "c29d5e10-d482-4971-a55f-6772810626ea",
   "metadata": {},
   "source": [
    "## Analyse entre une variable quantitative et qualitative"
   ]
  },
  {
   "cell_type": "code",
   "execution_count": 59,
   "id": "0a9d9dbe-20e2-4871-9f4f-6385ea7de7dc",
   "metadata": {},
   "outputs": [],
   "source": [
    "# Visuel\n",
    "\n",
    "X = \"categ\" # qualitative\n",
    "Y = \"montant\" # quantitative\n",
    "\n",
    "# On ne garde que les dépenses\n",
    "sous_echantillon = data[data[\"montant\"] < 0].copy()\n",
    "# On remet les dépenses en positif\n",
    "sous_echantillon[\"montant\"] = -sous_echantillon[\"montant\"]\n",
    "# On n'étudie pas les loyers car trop gros:\n",
    "sous_echantillon = sous_echantillon[sous_echantillon[\"categ\"] != \"LOYER\"] \n"
   ]
  },
  {
   "cell_type": "code",
   "execution_count": 61,
   "id": "01d970be-726e-4fcd-8b8b-e2b862c1938f",
   "metadata": {},
   "outputs": [
    {
     "data": {
      "image/png": "[encoded data removed]",
      "text/plain": [
       "<Figure size 640x480 with 1 Axes>"
      ]
     },
     "metadata": {},
     "output_type": "display_data"
    }
   ],
   "source": [
    "modalites = sous_echantillon[X].unique()\n",
    "groupes = []\n",
    "for m in modalites:\n",
    "    groupes.append(sous_echantillon[sous_echantillon[X]==m][Y])\n",
    "\n",
    "# Propriétés graphiques (pas très importantes)    \n",
    "medianprops = {'color':\"black\"}\n",
    "meanprops = {'marker':'o', 'markeredgecolor':'black',\n",
    "            'markerfacecolor':'firebrick'}\n",
    "    \n",
    "plt.boxplot(groupes, labels=modalites, showfliers=False, medianprops=medianprops, \n",
    "            vert=False, patch_artist=True, showmeans=True, meanprops=meanprops)\n",
    "plt.show()"
   ]
  },
  {
   "cell_type": "code",
   "execution_count": 64,
   "id": "becfb5a2-60f1-4aff-ae2e-f0c99d9ef5b7",
   "metadata": {},
   "outputs": [
    {
     "data": {
      "text/plain": [
       "0.39841890401094926"
      ]
     },
     "execution_count": 64,
     "metadata": {},
     "output_type": "execute_result"
    }
   ],
   "source": [
    "# Calcul du rapport de corrélation\n",
    "# Si == 0 aucune corrélation\n",
    "\n",
    "X = \"categ\" # qualitative\n",
    "Y = \"montant\" # quantitative\n",
    "\n",
    "sous_echantillon = data[data[\"montant\"] < 0] # On ne garde que les dépenses\n",
    "\n",
    "def eta_squared(x,y):\n",
    "    moyenne_y = y.mean()\n",
    "    classes = []\n",
    "    for classe in x.unique():\n",
    "        yi_classe = y[x==classe]\n",
    "        classes.append({'ni': len(yi_classe),\n",
    "                        'moyenne_classe': yi_classe.mean()})\n",
    "    SCT = sum([(yj-moyenne_y)**2 for yj in y])\n",
    "    SCE = sum([c['ni']*(c['moyenne_classe']-moyenne_y)**2 for c in classes])\n",
    "    return SCE/SCT\n",
    "\n",
    "# ICI 0.4 = Laisse à penser une présence de corrélation\n",
    "eta_squared(sous_echantillon[X],sous_echantillon[Y])"
   ]
  },
  {
   "cell_type": "markdown",
   "id": "d3e7500d-a20b-4e4a-8d88-fb4c6803682c",
   "metadata": {},
   "source": [
    "## Analyse de 2 variables qualitatives"
   ]
  },
  {
   "cell_type": "code",
   "execution_count": 66,
   "id": "78e48f1e-8400-4024-a865-122c66e0de61",
   "metadata": {},
   "outputs": [
    {
     "data": {
      "text/html": [
       "<div>\n",
       "<style scoped>\n",
       "    .dataframe tbody tr th:only-of-type {\n",
       "        vertical-align: middle;\n",
       "    }\n",
       "\n",
       "    .dataframe tbody tr th {\n",
       "        vertical-align: top;\n",
       "    }\n",
       "\n",
       "    .dataframe thead th {\n",
       "        text-align: right;\n",
       "    }\n",
       "</style>\n",
       "<table border=\"1\" class=\"dataframe\">\n",
       "  <thead>\n",
       "    <tr style=\"text-align: right;\">\n",
       "      <th>categ</th>\n",
       "      <th>AUTRE</th>\n",
       "      <th>COTISATION BANCAIRE</th>\n",
       "      <th>COURSES</th>\n",
       "      <th>FACTURE TELEPHONE</th>\n",
       "      <th>LOYER</th>\n",
       "      <th>RESTAURANT</th>\n",
       "      <th>TRANSPORT</th>\n",
       "      <th>Total</th>\n",
       "    </tr>\n",
       "    <tr>\n",
       "      <th>quart_mois</th>\n",
       "      <th></th>\n",
       "      <th></th>\n",
       "      <th></th>\n",
       "      <th></th>\n",
       "      <th></th>\n",
       "      <th></th>\n",
       "      <th></th>\n",
       "      <th></th>\n",
       "    </tr>\n",
       "  </thead>\n",
       "  <tbody>\n",
       "    <tr>\n",
       "      <th>1</th>\n",
       "      <td>55.0</td>\n",
       "      <td>7.0</td>\n",
       "      <td>6.0</td>\n",
       "      <td>6.0</td>\n",
       "      <td>NaN</td>\n",
       "      <td>3.0</td>\n",
       "      <td>9.0</td>\n",
       "      <td>86</td>\n",
       "    </tr>\n",
       "    <tr>\n",
       "      <th>2</th>\n",
       "      <td>45.0</td>\n",
       "      <td>NaN</td>\n",
       "      <td>11.0</td>\n",
       "      <td>1.0</td>\n",
       "      <td>6.0</td>\n",
       "      <td>7.0</td>\n",
       "      <td>6.0</td>\n",
       "      <td>76</td>\n",
       "    </tr>\n",
       "    <tr>\n",
       "      <th>3</th>\n",
       "      <td>60.0</td>\n",
       "      <td>NaN</td>\n",
       "      <td>7.0</td>\n",
       "      <td>NaN</td>\n",
       "      <td>NaN</td>\n",
       "      <td>4.0</td>\n",
       "      <td>4.0</td>\n",
       "      <td>75</td>\n",
       "    </tr>\n",
       "    <tr>\n",
       "      <th>4</th>\n",
       "      <td>52.0</td>\n",
       "      <td>NaN</td>\n",
       "      <td>15.0</td>\n",
       "      <td>NaN</td>\n",
       "      <td>NaN</td>\n",
       "      <td>2.0</td>\n",
       "      <td>2.0</td>\n",
       "      <td>71</td>\n",
       "    </tr>\n",
       "    <tr>\n",
       "      <th>Total</th>\n",
       "      <td>212.0</td>\n",
       "      <td>7.0</td>\n",
       "      <td>39.0</td>\n",
       "      <td>7.0</td>\n",
       "      <td>6.0</td>\n",
       "      <td>16.0</td>\n",
       "      <td>21.0</td>\n",
       "      <td>308</td>\n",
       "    </tr>\n",
       "  </tbody>\n",
       "</table>\n",
       "</div>"
      ],
      "text/plain": [
       "categ       AUTRE  COTISATION BANCAIRE  COURSES  FACTURE TELEPHONE  LOYER  \\\n",
       "quart_mois                                                                  \n",
       "1            55.0                  7.0      6.0                6.0    NaN   \n",
       "2            45.0                  NaN     11.0                1.0    6.0   \n",
       "3            60.0                  NaN      7.0                NaN    NaN   \n",
       "4            52.0                  NaN     15.0                NaN    NaN   \n",
       "Total       212.0                  7.0     39.0                7.0    6.0   \n",
       "\n",
       "categ       RESTAURANT  TRANSPORT  Total  \n",
       "quart_mois                                \n",
       "1                  3.0        9.0     86  \n",
       "2                  7.0        6.0     76  \n",
       "3                  4.0        4.0     75  \n",
       "4                  2.0        2.0     71  \n",
       "Total             16.0       21.0    308  "
      ]
     },
     "execution_count": 66,
     "metadata": {},
     "output_type": "execute_result"
    }
   ],
   "source": [
    "X = \"quart_mois\"\n",
    "Y = \"categ\"\n",
    "# Tableau de contingence\n",
    "cont = data[[X,Y]].pivot_table(index=X,columns=Y,aggfunc=len,margins=True,margins_name=\"Total\")\n",
    "cont\n"
   ]
  },
  {
   "cell_type": "code",
   "execution_count": 71,
   "id": "e0d82193-e4f5-4891-b0ea-367d204f8332",
   "metadata": {},
   "outputs": [
    {
     "data": {
      "image/png": "[encoded data removed]",
      "text/plain": [
       "<Figure size 640x480 with 2 Axes>"
      ]
     },
     "metadata": {},
     "output_type": "display_data"
    }
   ],
   "source": [
    "# Mesure de contribution à la non-indépendance\n",
    " \n",
    "tx = cont.loc[:,[\"Total\"]]\n",
    "ty = cont.loc[[\"Total\"],:]\n",
    "n = len(data)\n",
    "indep = tx.dot(ty) / n\n",
    "\n",
    "c = cont.fillna(0) # On remplace les valeurs nulles par 0\n",
    "measure = (c-indep)**2/indep\n",
    "xi_n = measure.sum().sum()\n",
    "table = measure/xi_n\n",
    "sns.heatmap(table.iloc[:-1,:-1],annot=c.iloc[:-1,:-1])\n",
    "plt.show()"
   ]
  },
  {
   "cell_type": "code",
   "execution_count": 72,
   "id": "0c93aa3d-4b4d-4625-b574-46dfbfd21b1a",
   "metadata": {},
   "outputs": [
    {
     "data": {
      "text/html": [
       "<div>\n",
       "<style scoped>\n",
       "    .dataframe tbody tr th:only-of-type {\n",
       "        vertical-align: middle;\n",
       "    }\n",
       "\n",
       "    .dataframe tbody tr th {\n",
       "        vertical-align: top;\n",
       "    }\n",
       "\n",
       "    .dataframe thead th {\n",
       "        text-align: right;\n",
       "    }\n",
       "</style>\n",
       "<table border=\"1\" class=\"dataframe\">\n",
       "  <thead>\n",
       "    <tr style=\"text-align: right;\">\n",
       "      <th></th>\n",
       "      <th>Position</th>\n",
       "      <th>Sexe</th>\n",
       "      <th>Temps</th>\n",
       "      <th>Dept</th>\n",
       "      <th>Temps_secondes</th>\n",
       "      <th>Age</th>\n",
       "    </tr>\n",
       "  </thead>\n",
       "  <tbody>\n",
       "    <tr>\n",
       "      <th>0</th>\n",
       "      <td>1</td>\n",
       "      <td>M</td>\n",
       "      <td>00:32:23</td>\n",
       "      <td>76</td>\n",
       "      <td>1643543</td>\n",
       "      <td>40</td>\n",
       "    </tr>\n",
       "    <tr>\n",
       "      <th>1</th>\n",
       "      <td>2</td>\n",
       "      <td>M</td>\n",
       "      <td>00:32:40</td>\n",
       "      <td>27</td>\n",
       "      <td>1643560</td>\n",
       "      <td>34</td>\n",
       "    </tr>\n",
       "    <tr>\n",
       "      <th>2</th>\n",
       "      <td>3</td>\n",
       "      <td>M</td>\n",
       "      <td>00:33:15</td>\n",
       "      <td>76</td>\n",
       "      <td>1643595</td>\n",
       "      <td>44</td>\n",
       "    </tr>\n",
       "    <tr>\n",
       "      <th>3</th>\n",
       "      <td>4</td>\n",
       "      <td>M</td>\n",
       "      <td>00:33:23</td>\n",
       "      <td>76</td>\n",
       "      <td>1643603</td>\n",
       "      <td>46</td>\n",
       "    </tr>\n",
       "    <tr>\n",
       "      <th>4</th>\n",
       "      <td>5</td>\n",
       "      <td>M</td>\n",
       "      <td>00:33:29</td>\n",
       "      <td>76</td>\n",
       "      <td>1643609</td>\n",
       "      <td>26</td>\n",
       "    </tr>\n",
       "  </tbody>\n",
       "</table>\n",
       "</div>"
      ],
      "text/plain": [
       "   Position Sexe     Temps  Dept  Temps_secondes  Age\n",
       "0         1    M  00:32:23    76         1643543   40\n",
       "1         2    M  00:32:40    27         1643560   34\n",
       "2         3    M  00:33:15    76         1643595   44\n",
       "3         4    M  00:33:23    76         1643603   46\n",
       "4         5    M  00:33:29    76         1643609   26"
      ]
     },
     "execution_count": 72,
     "metadata": {},
     "output_type": "execute_result"
    }
   ],
   "source": [
    "data = pd.read_csv('./resources/quizz.csv')\n",
    "data.head()"
   ]
  },
  {
   "cell_type": "code",
   "execution_count": 88,
   "id": "5c38cff5-2f93-4a99-8012-85f52ef293fb",
   "metadata": {},
   "outputs": [
    {
     "data": {
      "image/png": "[encoded data removed]",
      "text/plain": [
       "<Figure size 1000x700 with 1 Axes>"
      ]
     },
     "metadata": {},
     "output_type": "display_data"
    }
   ],
   "source": [
    "# Discrétion\n",
    "\n",
    "taille = 10\n",
    "classes = []\n",
    "\n",
    "tranches = np.arange(0, max(data['Age']), taille )\n",
    "indices = np.digitize(data['Age'], tranches)\n",
    "\n",
    "for i, tranche in enumerate(tranches):    \n",
    "    montants = data.loc[ indices == i, \"Position\" ]\n",
    "    if len(montants) > 0:\n",
    "        c = {\n",
    "            'valeurs' : montants,\n",
    "            'centre_classe' : tranche,\n",
    "            'taille' : len(montants),\n",
    "            'quartiles' : [np.percentile(montants, p) for p in [25,50,75]]\n",
    "        }        \n",
    "        classes.append(c)\n",
    "plt.figure(figsize=(10,7))\n",
    "\n",
    "valeurs = [c[\"valeurs\"] for c in classes]\n",
    "positions = [c[\"centre_classe\"] for c in classes]\n",
    "\n",
    "# affichage des boxplots\n",
    "# showfliers= False -> n'affiche pas les outliers\n",
    "plt.boxplot(valeurs, \n",
    "            positions= positions,\n",
    "            showfliers= True, \n",
    "            widths= taille*0.7)\n",
    "\n",
    "# affichage des effectifs de chaque classe\n",
    "for c in classes:\n",
    "    plt.text(\n",
    "        c[\"centre_classe\"],0,\"(n={})\".format(c[\"taille\"]),\n",
    "        horizontalalignment='center',\n",
    "        verticalalignment='top'\n",
    "    )     \n",
    "plt.show()"
   ]
  },
  {
   "cell_type": "code",
   "execution_count": 101,
   "id": "f4522641-4024-440e-a9d6-8285039e3cb8",
   "metadata": {},
   "outputs": [
    {
     "data": {
      "text/plain": [
       "0.20400517398334017"
      ]
     },
     "execution_count": 101,
     "metadata": {},
     "output_type": "execute_result"
    }
   ],
   "source": [
    "# Calcul du rapport de corrélation\n",
    "# Si == 0 aucune corrélation\n",
    "\n",
    "X = \"Sexe\" # qualitative\n",
    "Y = \"Temps_secondes\" # quantitative\n",
    "\n",
    "def eta_squared(x,y):\n",
    "    moyenne_y = y.mean()\n",
    "    classes = []\n",
    "    for classe in x.unique():\n",
    "        yi_classe = y[x==classe]\n",
    "        classes.append({'ni': len(yi_classe),\n",
    "                        'moyenne_classe': yi_classe.mean()})\n",
    "    SCT = sum([(yj-moyenne_y)**2 for yj in y])\n",
    "    SCE = sum([c['ni']*(c['moyenne_classe']-moyenne_y)**2 for c in classes])\n",
    "    return SCE/SCT\n",
    "\n",
    "eta_squared(data[X],data[Y])"
   ]
  },
  {
   "cell_type": "code",
   "execution_count": 100,
   "id": "ccb58f13-8d68-4e74-97f9-29f39f63c9fb",
   "metadata": {},
   "outputs": [
    {
     "name": "stdout",
     "output_type": "stream",
     "text": [
      "0.8621766194622954 134.33169081355675 0.011249764860875588\n"
     ]
    }
   ],
   "source": [
    "# R au carré\n",
    "Y = data['Position']\n",
    "X = data[[\"Age\"]].copy()\n",
    "X['intercept'] = 1\n",
    "result = sm.OLS(Y, X).fit()\n",
    "\n",
    "a,b = result.params\n",
    "print(a, b, result.rsquared)"
   ]
  },
  {
   "cell_type": "markdown",
   "id": "54cdb68c-10ae-42a8-b28c-2d432786a8e4",
   "metadata": {},
   "source": [
    "### Méthode de sélection de variable\n",
    "\n",
    "Les méthodes de filtrages sont généralement utilisées comme étape de pré-traitement. Ici, la sélection des variables est indépendante de tout algorithme du machine learning. Au lieu de cela, les variables sont sélectionnées sur la base de leur score dans divers tests\n",
    "statistiques pour leur corrélation avec la variable à prédire. La corrélation ici est un terme subjectif, les variables avec la corrélation la plus élevé sont les meilleurs.\n",
    "\n",
    "- Continue / Continue : correlation de Pearson ou la correlation de Spearman\n",
    "- Continue / catégorielle : La régression logistique\n",
    "- Catégorielle / Continue : Anova\n",
    "- Catégorielle / Catégorielle : Chi-carré"
   ]
  }
 ],
 "metadata": {
  "kernelspec": {
   "display_name": "Python 3 (ipykernel)",
   "language": "python",
   "name": "python3"
  },
  "language_info": {
   "codemirror_mode": {
    "name": "ipython",
    "version": 3
   },
   "file_extension": ".py",
   "mimetype": "text/x-python",
   "name": "python",
   "nbconvert_exporter": "python",
   "pygments_lexer": "ipython3",
   "version": "3.10.13"
  }
 },
 "nbformat": 4,
 "nbformat_minor": 5
}
