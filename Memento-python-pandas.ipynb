{
 "cells": [
  {
   "cell_type": "markdown",
   "id": "2cf18a9b-9234-49c7-ab32-b7be2e2b8f94",
   "metadata": {},
   "source": [
    "# Memento librairie Pandas"
   ]
  },
  {
   "cell_type": "code",
   "execution_count": 1,
   "id": "639ec70f-1afb-40f8-88b0-f4ae050e4e58",
   "metadata": {},
   "outputs": [],
   "source": [
    "import pandas as pd\n",
    "import os\n",
    "import numpy as np"
   ]
  },
  {
   "cell_type": "markdown",
   "id": "5681f165-48c0-467a-8549-4dfad6d2abd6",
   "metadata": {},
   "source": [
    "## Ouvrir un fichier CSV, JSON, Excel"
   ]
  },
  {
   "cell_type": "code",
   "execution_count": 2,
   "id": "7eb11cf3-3108-48b5-8927-de37fc94ed85",
   "metadata": {},
   "outputs": [],
   "source": [
    "file_csv = os.path.join('resources') + '/clients.csv'\n",
    "data_csv = pd.read_csv(file_csv)\n",
    "\n",
    "file_json = os.path.join('resources') + '/clients.json'\n",
    "data_json = pd.read_json(file_json)\n",
    "\n",
    "file_excel = os.path.join('resources') + '/clients.xlsx'\n",
    "data_excel = pd.read_excel(file_excel)"
   ]
  },
  {
   "cell_type": "markdown",
   "id": "5bc23e56-c4ad-4c49-885a-a73d47e1960e",
   "metadata": {},
   "source": [
    "## Aperçu des datas\n",
    "\n",
    "- .head(n) : pour afficher par défaut les 5 premières lignes du dataframe, où n est le nombre de ligne à afficher\n",
    "- .tail(n) : pour afficher par défaut les 5 dernières lignes du dataframe, où n est le nombre de ligne à afficher\n",
    "\n"
   ]
  },
  {
   "cell_type": "code",
   "execution_count": 3,
   "id": "3e3b3d3b-3509-4f29-9467-ee124b5f9fd4",
   "metadata": {},
   "outputs": [
    {
     "data": {
      "text/html": [
       "<div>\n",
       "<style scoped>\n",
       "    .dataframe tbody tr th:only-of-type {\n",
       "        vertical-align: middle;\n",
       "    }\n",
       "\n",
       "    .dataframe tbody tr th {\n",
       "        vertical-align: top;\n",
       "    }\n",
       "\n",
       "    .dataframe thead th {\n",
       "        text-align: right;\n",
       "    }\n",
       "</style>\n",
       "<table border=\"1\" class=\"dataframe\">\n",
       "  <thead>\n",
       "    <tr style=\"text-align: right;\">\n",
       "      <th></th>\n",
       "      <th>identifiant</th>\n",
       "      <th>email</th>\n",
       "      <th>nom</th>\n",
       "      <th>genre</th>\n",
       "    </tr>\n",
       "  </thead>\n",
       "  <tbody>\n",
       "    <tr>\n",
       "      <th>0</th>\n",
       "      <td>0</td>\n",
       "      <td>LaurentDagenais@rhyta.com</td>\n",
       "      <td>Laurent Dagenais</td>\n",
       "      <td>M</td>\n",
       "    </tr>\n",
       "    <tr>\n",
       "      <th>1</th>\n",
       "      <td>1</td>\n",
       "      <td>GuyMarois@fleckens.hu</td>\n",
       "      <td>Guy Marois</td>\n",
       "      <td>M</td>\n",
       "    </tr>\n",
       "  </tbody>\n",
       "</table>\n",
       "</div>"
      ],
      "text/plain": [
       "   identifiant                      email               nom genre\n",
       "0            0  LaurentDagenais@rhyta.com  Laurent Dagenais     M\n",
       "1            1      GuyMarois@fleckens.hu        Guy Marois     M"
      ]
     },
     "execution_count": 3,
     "metadata": {},
     "output_type": "execute_result"
    }
   ],
   "source": [
    "# On affiche les deux premières lignes\n",
    "data_csv.head(2)"
   ]
  },
  {
   "cell_type": "code",
   "execution_count": 4,
   "id": "7816658f-b29b-4f10-8232-b50d81510072",
   "metadata": {},
   "outputs": [
    {
     "data": {
      "text/html": [
       "<div>\n",
       "<style scoped>\n",
       "    .dataframe tbody tr th:only-of-type {\n",
       "        vertical-align: middle;\n",
       "    }\n",
       "\n",
       "    .dataframe tbody tr th {\n",
       "        vertical-align: top;\n",
       "    }\n",
       "\n",
       "    .dataframe thead th {\n",
       "        text-align: right;\n",
       "    }\n",
       "</style>\n",
       "<table border=\"1\" class=\"dataframe\">\n",
       "  <thead>\n",
       "    <tr style=\"text-align: right;\">\n",
       "      <th></th>\n",
       "      <th>identifiant</th>\n",
       "      <th>email</th>\n",
       "      <th>nom</th>\n",
       "      <th>genre</th>\n",
       "    </tr>\n",
       "  </thead>\n",
       "  <tbody>\n",
       "    <tr>\n",
       "      <th>223</th>\n",
       "      <td>223</td>\n",
       "      <td>ClaudeDandonneau@jourrapide.com</td>\n",
       "      <td>Claude Dandonneau</td>\n",
       "      <td>F</td>\n",
       "    </tr>\n",
       "    <tr>\n",
       "      <th>224</th>\n",
       "      <td>224</td>\n",
       "      <td>ApollineMichaud@superrito.com</td>\n",
       "      <td>Apolline Michaud</td>\n",
       "      <td>F</td>\n",
       "    </tr>\n",
       "    <tr>\n",
       "      <th>225</th>\n",
       "      <td>225</td>\n",
       "      <td>PascalineBeaudry@rhyta.com</td>\n",
       "      <td>Pascaline Beaudry</td>\n",
       "      <td>F</td>\n",
       "    </tr>\n",
       "    <tr>\n",
       "      <th>226</th>\n",
       "      <td>226</td>\n",
       "      <td>FleurCaouette@jourrapide.com</td>\n",
       "      <td>Fleur Caouette</td>\n",
       "      <td>F</td>\n",
       "    </tr>\n",
       "    <tr>\n",
       "      <th>227</th>\n",
       "      <td>227</td>\n",
       "      <td>FrancisMasse@jourrapide.com</td>\n",
       "      <td>Francis Masse</td>\n",
       "      <td>M</td>\n",
       "    </tr>\n",
       "  </tbody>\n",
       "</table>\n",
       "</div>"
      ],
      "text/plain": [
       "     identifiant                            email                nom genre\n",
       "223          223  ClaudeDandonneau@jourrapide.com  Claude Dandonneau     F\n",
       "224          224    ApollineMichaud@superrito.com   Apolline Michaud     F\n",
       "225          225       PascalineBeaudry@rhyta.com  Pascaline Beaudry     F\n",
       "226          226     FleurCaouette@jourrapide.com     Fleur Caouette     F\n",
       "227          227      FrancisMasse@jourrapide.com      Francis Masse     M"
      ]
     },
     "execution_count": 4,
     "metadata": {},
     "output_type": "execute_result"
    }
   ],
   "source": [
    "# On affiche par défaut les 5 dernières lignes\n",
    "data_csv.tail()"
   ]
  },
  {
   "cell_type": "code",
   "execution_count": 5,
   "id": "2f3acd90-4dd9-43dd-83a3-df7583b8a6f7",
   "metadata": {},
   "outputs": [
    {
     "data": {
      "text/html": [
       "<div>\n",
       "<style scoped>\n",
       "    .dataframe tbody tr th:only-of-type {\n",
       "        vertical-align: middle;\n",
       "    }\n",
       "\n",
       "    .dataframe tbody tr th {\n",
       "        vertical-align: top;\n",
       "    }\n",
       "\n",
       "    .dataframe thead th {\n",
       "        text-align: right;\n",
       "    }\n",
       "</style>\n",
       "<table border=\"1\" class=\"dataframe\">\n",
       "  <thead>\n",
       "    <tr style=\"text-align: right;\">\n",
       "      <th></th>\n",
       "      <th>identifiant</th>\n",
       "      <th>email</th>\n",
       "      <th>nom</th>\n",
       "      <th>genre</th>\n",
       "    </tr>\n",
       "  </thead>\n",
       "  <tbody>\n",
       "    <tr>\n",
       "      <th>0</th>\n",
       "      <td>0</td>\n",
       "      <td>LaurentDagenais@rhyta.com</td>\n",
       "      <td>Laurent Dagenais</td>\n",
       "      <td>M</td>\n",
       "    </tr>\n",
       "    <tr>\n",
       "      <th>1</th>\n",
       "      <td>1</td>\n",
       "      <td>GuyMarois@fleckens.hu</td>\n",
       "      <td>Guy Marois</td>\n",
       "      <td>M</td>\n",
       "    </tr>\n",
       "    <tr>\n",
       "      <th>2</th>\n",
       "      <td>2</td>\n",
       "      <td>BeaufortLesage@einrot.com</td>\n",
       "      <td>Beaufort Lesage</td>\n",
       "      <td>M</td>\n",
       "    </tr>\n",
       "    <tr>\n",
       "      <th>3</th>\n",
       "      <td>3</td>\n",
       "      <td>RussellDurand@armyspy.com</td>\n",
       "      <td>Russell Durand</td>\n",
       "      <td>M</td>\n",
       "    </tr>\n",
       "    <tr>\n",
       "      <th>4</th>\n",
       "      <td>4</td>\n",
       "      <td>AlexisRiel@rhyta.com</td>\n",
       "      <td>Alexis Riel</td>\n",
       "      <td>M</td>\n",
       "    </tr>\n",
       "  </tbody>\n",
       "</table>\n",
       "</div>"
      ],
      "text/plain": [
       "   identifiant                      email               nom genre\n",
       "0            0  LaurentDagenais@rhyta.com  Laurent Dagenais     M\n",
       "1            1      GuyMarois@fleckens.hu        Guy Marois     M\n",
       "2            2  BeaufortLesage@einrot.com   Beaufort Lesage     M\n",
       "3            3  RussellDurand@armyspy.com    Russell Durand     M\n",
       "4            4       AlexisRiel@rhyta.com       Alexis Riel     M"
      ]
     },
     "execution_count": 5,
     "metadata": {},
     "output_type": "execute_result"
    }
   ],
   "source": [
    "# On affiche par défaut les 5 premières lignes\n",
    "data_json.head()"
   ]
  },
  {
   "cell_type": "code",
   "execution_count": 6,
   "id": "eaa63479-51ff-403d-9eb8-1fab0f7c5567",
   "metadata": {},
   "outputs": [
    {
     "data": {
      "text/html": [
       "<div>\n",
       "<style scoped>\n",
       "    .dataframe tbody tr th:only-of-type {\n",
       "        vertical-align: middle;\n",
       "    }\n",
       "\n",
       "    .dataframe tbody tr th {\n",
       "        vertical-align: top;\n",
       "    }\n",
       "\n",
       "    .dataframe thead th {\n",
       "        text-align: right;\n",
       "    }\n",
       "</style>\n",
       "<table border=\"1\" class=\"dataframe\">\n",
       "  <thead>\n",
       "    <tr style=\"text-align: right;\">\n",
       "      <th></th>\n",
       "      <th>identifiant</th>\n",
       "      <th>email</th>\n",
       "      <th>nom</th>\n",
       "      <th>genre</th>\n",
       "    </tr>\n",
       "  </thead>\n",
       "  <tbody>\n",
       "    <tr>\n",
       "      <th>218</th>\n",
       "      <td>218</td>\n",
       "      <td>MinetteRoy@fleckens.hu</td>\n",
       "      <td>Minette Roy</td>\n",
       "      <td>F</td>\n",
       "    </tr>\n",
       "    <tr>\n",
       "      <th>219</th>\n",
       "      <td>219</td>\n",
       "      <td>RoslynChalifour@cuvox.de</td>\n",
       "      <td>Roslyn Chalifour</td>\n",
       "      <td>M</td>\n",
       "    </tr>\n",
       "    <tr>\n",
       "      <th>220</th>\n",
       "      <td>220</td>\n",
       "      <td>KarelBazinet@einrot.com</td>\n",
       "      <td>Karel Bazinet</td>\n",
       "      <td>M</td>\n",
       "    </tr>\n",
       "    <tr>\n",
       "      <th>221</th>\n",
       "      <td>221</td>\n",
       "      <td>JosetteBordeleau@einrot.com</td>\n",
       "      <td>Josette Bordeleau</td>\n",
       "      <td>F</td>\n",
       "    </tr>\n",
       "    <tr>\n",
       "      <th>222</th>\n",
       "      <td>222</td>\n",
       "      <td>LangleyCaron@armyspy.com</td>\n",
       "      <td>Langley Caron</td>\n",
       "      <td>M</td>\n",
       "    </tr>\n",
       "    <tr>\n",
       "      <th>223</th>\n",
       "      <td>223</td>\n",
       "      <td>ClaudeDandonneau@jourrapide.com</td>\n",
       "      <td>Claude Dandonneau</td>\n",
       "      <td>F</td>\n",
       "    </tr>\n",
       "    <tr>\n",
       "      <th>224</th>\n",
       "      <td>224</td>\n",
       "      <td>ApollineMichaud@superrito.com</td>\n",
       "      <td>Apolline Michaud</td>\n",
       "      <td>F</td>\n",
       "    </tr>\n",
       "    <tr>\n",
       "      <th>225</th>\n",
       "      <td>225</td>\n",
       "      <td>PascalineBeaudry@rhyta.com</td>\n",
       "      <td>Pascaline Beaudry</td>\n",
       "      <td>F</td>\n",
       "    </tr>\n",
       "    <tr>\n",
       "      <th>226</th>\n",
       "      <td>226</td>\n",
       "      <td>FleurCaouette@jourrapide.com</td>\n",
       "      <td>Fleur Caouette</td>\n",
       "      <td>F</td>\n",
       "    </tr>\n",
       "    <tr>\n",
       "      <th>227</th>\n",
       "      <td>227</td>\n",
       "      <td>FrancisMasse@jourrapide.com</td>\n",
       "      <td>Francis Masse</td>\n",
       "      <td>M</td>\n",
       "    </tr>\n",
       "  </tbody>\n",
       "</table>\n",
       "</div>"
      ],
      "text/plain": [
       "     identifiant                            email                nom genre\n",
       "218          218           MinetteRoy@fleckens.hu        Minette Roy     F\n",
       "219          219         RoslynChalifour@cuvox.de   Roslyn Chalifour     M\n",
       "220          220          KarelBazinet@einrot.com      Karel Bazinet     M\n",
       "221          221      JosetteBordeleau@einrot.com  Josette Bordeleau     F\n",
       "222          222         LangleyCaron@armyspy.com      Langley Caron     M\n",
       "223          223  ClaudeDandonneau@jourrapide.com  Claude Dandonneau     F\n",
       "224          224    ApollineMichaud@superrito.com   Apolline Michaud     F\n",
       "225          225       PascalineBeaudry@rhyta.com  Pascaline Beaudry     F\n",
       "226          226     FleurCaouette@jourrapide.com     Fleur Caouette     F\n",
       "227          227      FrancisMasse@jourrapide.com      Francis Masse     M"
      ]
     },
     "execution_count": 6,
     "metadata": {},
     "output_type": "execute_result"
    }
   ],
   "source": [
    "# On affiche les 10 dernières lignes\n",
    "data_json.tail(10)"
   ]
  },
  {
   "cell_type": "code",
   "execution_count": 7,
   "id": "e5f23a3c-94c5-47e0-a1ca-633a1dd22eb3",
   "metadata": {},
   "outputs": [
    {
     "data": {
      "text/html": [
       "<div>\n",
       "<style scoped>\n",
       "    .dataframe tbody tr th:only-of-type {\n",
       "        vertical-align: middle;\n",
       "    }\n",
       "\n",
       "    .dataframe tbody tr th {\n",
       "        vertical-align: top;\n",
       "    }\n",
       "\n",
       "    .dataframe thead th {\n",
       "        text-align: right;\n",
       "    }\n",
       "</style>\n",
       "<table border=\"1\" class=\"dataframe\">\n",
       "  <thead>\n",
       "    <tr style=\"text-align: right;\">\n",
       "      <th></th>\n",
       "      <th>identifiant</th>\n",
       "      <th>email</th>\n",
       "      <th>nom</th>\n",
       "      <th>genre</th>\n",
       "    </tr>\n",
       "  </thead>\n",
       "  <tbody>\n",
       "    <tr>\n",
       "      <th>0</th>\n",
       "      <td>0</td>\n",
       "      <td>LaurentDagenais@rhyta.com</td>\n",
       "      <td>Laurent Dagenais</td>\n",
       "      <td>M</td>\n",
       "    </tr>\n",
       "    <tr>\n",
       "      <th>1</th>\n",
       "      <td>1</td>\n",
       "      <td>GuyMarois@fleckens.hu</td>\n",
       "      <td>Guy Marois</td>\n",
       "      <td>M</td>\n",
       "    </tr>\n",
       "  </tbody>\n",
       "</table>\n",
       "</div>"
      ],
      "text/plain": [
       "   identifiant                      email               nom genre\n",
       "0            0  LaurentDagenais@rhyta.com  Laurent Dagenais     M\n",
       "1            1      GuyMarois@fleckens.hu        Guy Marois     M"
      ]
     },
     "execution_count": 7,
     "metadata": {},
     "output_type": "execute_result"
    }
   ],
   "source": [
    "# On affiche les 2 premières lignes\n",
    "data_excel.head(2)"
   ]
  },
  {
   "cell_type": "code",
   "execution_count": 8,
   "id": "a043558e-b540-4cc6-a3b5-b767b4bc70fd",
   "metadata": {},
   "outputs": [
    {
     "data": {
      "text/html": [
       "<div>\n",
       "<style scoped>\n",
       "    .dataframe tbody tr th:only-of-type {\n",
       "        vertical-align: middle;\n",
       "    }\n",
       "\n",
       "    .dataframe tbody tr th {\n",
       "        vertical-align: top;\n",
       "    }\n",
       "\n",
       "    .dataframe thead th {\n",
       "        text-align: right;\n",
       "    }\n",
       "</style>\n",
       "<table border=\"1\" class=\"dataframe\">\n",
       "  <thead>\n",
       "    <tr style=\"text-align: right;\">\n",
       "      <th></th>\n",
       "      <th>identifiant</th>\n",
       "      <th>email</th>\n",
       "      <th>nom</th>\n",
       "      <th>genre</th>\n",
       "    </tr>\n",
       "  </thead>\n",
       "  <tbody>\n",
       "    <tr>\n",
       "      <th>226</th>\n",
       "      <td>226</td>\n",
       "      <td>FleurCaouette@jourrapide.com</td>\n",
       "      <td>Fleur Caouette</td>\n",
       "      <td>F</td>\n",
       "    </tr>\n",
       "    <tr>\n",
       "      <th>227</th>\n",
       "      <td>227</td>\n",
       "      <td>FrancisMasse@jourrapide.com</td>\n",
       "      <td>Francis Masse</td>\n",
       "      <td>M</td>\n",
       "    </tr>\n",
       "  </tbody>\n",
       "</table>\n",
       "</div>"
      ],
      "text/plain": [
       "     identifiant                         email             nom genre\n",
       "226          226  FleurCaouette@jourrapide.com  Fleur Caouette     F\n",
       "227          227   FrancisMasse@jourrapide.com   Francis Masse     M"
      ]
     },
     "execution_count": 8,
     "metadata": {},
     "output_type": "execute_result"
    }
   ],
   "source": [
    "# On affiche les 2 dernières lignes\n",
    "data_excel.tail(2)"
   ]
  },
  {
   "cell_type": "code",
   "execution_count": 9,
   "id": "5bd11156-b246-4081-b2e7-37e32bab27e3",
   "metadata": {},
   "outputs": [
    {
     "data": {
      "text/html": [
       "<div>\n",
       "<style scoped>\n",
       "    .dataframe tbody tr th:only-of-type {\n",
       "        vertical-align: middle;\n",
       "    }\n",
       "\n",
       "    .dataframe tbody tr th {\n",
       "        vertical-align: top;\n",
       "    }\n",
       "\n",
       "    .dataframe thead th {\n",
       "        text-align: right;\n",
       "    }\n",
       "</style>\n",
       "<table border=\"1\" class=\"dataframe\">\n",
       "  <thead>\n",
       "    <tr style=\"text-align: right;\">\n",
       "      <th></th>\n",
       "      <th>identifiant</th>\n",
       "      <th>email</th>\n",
       "      <th>nom</th>\n",
       "      <th>genre</th>\n",
       "    </tr>\n",
       "  </thead>\n",
       "  <tbody>\n",
       "    <tr>\n",
       "      <th>0</th>\n",
       "      <td>0</td>\n",
       "      <td>LaurentDagenais@rhyta.com</td>\n",
       "      <td>Laurent Dagenais</td>\n",
       "      <td>M</td>\n",
       "    </tr>\n",
       "    <tr>\n",
       "      <th>1</th>\n",
       "      <td>1</td>\n",
       "      <td>GuyMarois@fleckens.hu</td>\n",
       "      <td>Guy Marois</td>\n",
       "      <td>M</td>\n",
       "    </tr>\n",
       "    <tr>\n",
       "      <th>2</th>\n",
       "      <td>2</td>\n",
       "      <td>BeaufortLesage@einrot.com</td>\n",
       "      <td>Beaufort Lesage</td>\n",
       "      <td>M</td>\n",
       "    </tr>\n",
       "    <tr>\n",
       "      <th>3</th>\n",
       "      <td>3</td>\n",
       "      <td>RussellDurand@armyspy.com</td>\n",
       "      <td>Russell Durand</td>\n",
       "      <td>M</td>\n",
       "    </tr>\n",
       "    <tr>\n",
       "      <th>4</th>\n",
       "      <td>4</td>\n",
       "      <td>AlexisRiel@rhyta.com</td>\n",
       "      <td>Alexis Riel</td>\n",
       "      <td>M</td>\n",
       "    </tr>\n",
       "    <tr>\n",
       "      <th>...</th>\n",
       "      <td>...</td>\n",
       "      <td>...</td>\n",
       "      <td>...</td>\n",
       "      <td>...</td>\n",
       "    </tr>\n",
       "    <tr>\n",
       "      <th>223</th>\n",
       "      <td>223</td>\n",
       "      <td>ClaudeDandonneau@jourrapide.com</td>\n",
       "      <td>Claude Dandonneau</td>\n",
       "      <td>F</td>\n",
       "    </tr>\n",
       "    <tr>\n",
       "      <th>224</th>\n",
       "      <td>224</td>\n",
       "      <td>ApollineMichaud@superrito.com</td>\n",
       "      <td>Apolline Michaud</td>\n",
       "      <td>F</td>\n",
       "    </tr>\n",
       "    <tr>\n",
       "      <th>225</th>\n",
       "      <td>225</td>\n",
       "      <td>PascalineBeaudry@rhyta.com</td>\n",
       "      <td>Pascaline Beaudry</td>\n",
       "      <td>F</td>\n",
       "    </tr>\n",
       "    <tr>\n",
       "      <th>226</th>\n",
       "      <td>226</td>\n",
       "      <td>FleurCaouette@jourrapide.com</td>\n",
       "      <td>Fleur Caouette</td>\n",
       "      <td>F</td>\n",
       "    </tr>\n",
       "    <tr>\n",
       "      <th>227</th>\n",
       "      <td>227</td>\n",
       "      <td>FrancisMasse@jourrapide.com</td>\n",
       "      <td>Francis Masse</td>\n",
       "      <td>M</td>\n",
       "    </tr>\n",
       "  </tbody>\n",
       "</table>\n",
       "<p>228 rows × 4 columns</p>\n",
       "</div>"
      ],
      "text/plain": [
       "     identifiant                            email                nom genre\n",
       "0              0        LaurentDagenais@rhyta.com   Laurent Dagenais     M\n",
       "1              1            GuyMarois@fleckens.hu         Guy Marois     M\n",
       "2              2        BeaufortLesage@einrot.com    Beaufort Lesage     M\n",
       "3              3        RussellDurand@armyspy.com     Russell Durand     M\n",
       "4              4             AlexisRiel@rhyta.com        Alexis Riel     M\n",
       "..           ...                              ...                ...   ...\n",
       "223          223  ClaudeDandonneau@jourrapide.com  Claude Dandonneau     F\n",
       "224          224    ApollineMichaud@superrito.com   Apolline Michaud     F\n",
       "225          225       PascalineBeaudry@rhyta.com  Pascaline Beaudry     F\n",
       "226          226     FleurCaouette@jourrapide.com     Fleur Caouette     F\n",
       "227          227      FrancisMasse@jourrapide.com      Francis Masse     M\n",
       "\n",
       "[228 rows x 4 columns]"
      ]
     },
     "execution_count": 9,
     "metadata": {},
     "output_type": "execute_result"
    }
   ],
   "source": [
    "# On affiche par défaut les 5 premières et 5 dernières lignes du data frame\n",
    "data_excel"
   ]
  },
  {
   "cell_type": "markdown",
   "id": "748c7fcb-26e9-41b1-93b4-e2a2c7a7e89d",
   "metadata": {},
   "source": [
    "## Afficher les caractéristiques d'un dataframe"
   ]
  },
  {
   "cell_type": "code",
   "execution_count": 10,
   "id": "dd4fff21-ab48-4c41-8a75-4e31767f901a",
   "metadata": {},
   "outputs": [
    {
     "data": {
      "text/plain": [
       "(228, 4)"
      ]
     },
     "execution_count": 10,
     "metadata": {},
     "output_type": "execute_result"
    }
   ],
   "source": [
    "# Le dimensionnement\n",
    "# Nombre de ligne, Nombre de colonne\n",
    "data_csv.shape"
   ]
  },
  {
   "cell_type": "code",
   "execution_count": 11,
   "id": "fa171782-8717-4685-807e-425f6ff8ecf3",
   "metadata": {},
   "outputs": [
    {
     "data": {
      "text/plain": [
       "identifiant     int64\n",
       "email          object\n",
       "nom            object\n",
       "genre          object\n",
       "dtype: object"
      ]
     },
     "execution_count": 11,
     "metadata": {},
     "output_type": "execute_result"
    }
   ],
   "source": [
    "# Les types\n",
    "data_csv.dtypes"
   ]
  },
  {
   "cell_type": "markdown",
   "id": "b0dcee6c-9982-4d2f-b7bd-116a6461d657",
   "metadata": {},
   "source": [
    "<div class=\"alert alert-info\" >Sous pandas le type \"objet\" correspond à une colonne de type \"String\"</div>"
   ]
  },
  {
   "cell_type": "code",
   "execution_count": 12,
   "id": "d673eaa1-9fde-42e3-aac1-dfb2cdf1bf02",
   "metadata": {},
   "outputs": [
    {
     "name": "stdout",
     "output_type": "stream",
     "text": [
      "[[0 'LaurentDagenais@rhyta.com' 'Laurent Dagenais' 'M']\n",
      " [1 'GuyMarois@fleckens.hu' 'Guy Marois' 'M']\n",
      " [2 'BeaufortLesage@einrot.com' 'Beaufort Lesage' 'M']\n",
      " [3 'RussellDurand@armyspy.com' 'Russell Durand' 'M']\n",
      " [4 'AlexisRiel@rhyta.com' 'Alexis Riel' 'M']\n",
      " [5 'LeonLapresse@cuvox.de' 'Leon Lapresse' 'M']\n",
      " [6 'OrvilleRouthier@gustr.com' 'Orville Routhier' 'M']\n",
      " [7 'AgramantPepin@dayrep.com' 'Agramant Pepin' 'M']\n",
      " [8 'AiglentinaLambert@fleckens.hu' 'Aiglentina Lambert' 'F']\n",
      " [9 'TheodoreClavet@teleworm.us' 'Theodore Clavet' 'M']\n",
      " [10 'ByronLefebvre@jourrapide.com' 'Byron Lefebvre' 'M']\n",
      " [11 'FlorusDevoe@einrot.com' 'Florus Devoe' 'M']\n",
      " [12 'NormandArsenault@armyspy.com' 'Normand Arsenault' 'M']\n",
      " [13 'AcelineHughes@jourrapide.com' 'Aceline Hughes' 'F']\n",
      " [14 'GastonBrisette@superrito.com' 'Gaston Brisette' 'M']\n",
      " [15 'AgateGrandbois@gustr.com' 'Agate Grandbois' 'F']\n",
      " [16 'AgricanFoucault@jourrapide.com' 'Agrican Foucault' 'M']\n",
      " [17 'PrunellaJosseaume@armyspy.com' 'Prunella Josseaume' 'F']\n",
      " [18 'YseultCharest@armyspy.com' 'Yseult Charest' 'F']\n",
      " [19 'DorotheeAupry@cuvox.de' 'Dorothee Aupry' 'F']\n",
      " [20 'AmauryReault@teleworm.us' 'Amaury Reault' 'M']\n",
      " [21 'GillesBeauchamps@superrito.com' 'Gilles Beauchamps' 'M']\n",
      " [22 'FranckDumont@gustr.com' 'Franck Dumont' 'M']\n",
      " [23 'DelmareLHeureux@dayrep.com' 'Delmare L Heureux' 'F']\n",
      " [24 'AlphonseCantin@cuvox.de' 'Alphonse Cantin' 'M']\n",
      " [25 'BlondelleRochon@gustr.com' 'Blondelle Rochon' 'F']\n",
      " [26 'SavilleBernard@armyspy.com' 'Saville Bernard' 'M']\n",
      " [27 'AnnetteJolicoeur@armyspy.com' 'Annette Jolicoeur' 'F']\n",
      " [28 'BradamateMichel@armyspy.com' 'Bradamate Michel' 'F']\n",
      " [29 'HilaireFrappier@armyspy.com' 'Hilaire Frappier' 'F']\n",
      " [30 'MarieBriard@gustr.com' 'Marie Briard' 'F']\n",
      " [31 'MadeleineBatard@superrito.com' 'Madeleine Batard' 'F']\n",
      " [32 'ArberGarcia@dayrep.com' 'Arber Garcia' 'M']\n",
      " [33 'SaberViens@superrito.com' 'Saber Viens' 'M']\n",
      " [34 'ArnaudDubois@rhyta.com' 'Arnaud Dubois' 'M']\n",
      " [35 'PryorBeauchamp@dayrep.com' 'Pryor Beauchamp' 'M']\n",
      " [36 'AlphonsePotvin@armyspy.com' 'Alphonse Potvin' 'M']\n",
      " [37 'FitzLafontaine@dayrep.com' 'Fitz Lafontaine' 'M']\n",
      " [38 'DelmareLamothe@gustr.com' 'Delmare Lamothe' 'F']\n",
      " [39 'DaisiBoileau@jourrapide.com' 'Daisi Boileau' 'F']\n",
      " [40 'SomerPaquette@jourrapide.com' 'Somer Paquette' 'M']\n",
      " [41 'OlivieCourtemanche@armyspy.com' 'Olivie Courtemanche' 'F']\n",
      " [42 'GermainHughes@teleworm.us' 'Germain Hughes' 'M']\n",
      " [43 'MorganaBellemare@superrito.com' 'Morgana Bellemare' 'F']\n",
      " [44 'MerciMorin@gustr.com' 'Merci Morin' 'F']\n",
      " [45 'VerneyBedard@dayrep.com' 'Verney Bedard' 'M']\n",
      " [46 'IgnaceAudibert@armyspy.com' 'Ignace Audibert' 'M']\n",
      " [47 'FranckBinet@superrito.com' 'Franck Binet' 'M']\n",
      " [48 'SumnerRocheleau@einrot.com' 'Sumner Rocheleau' 'M']\n",
      " [49 'AubertPatel@armyspy.com' 'Aubert Patel' 'M']\n",
      " [50 'SumnerLaprise@superrito.com' 'Sumner Laprise' 'M']\n",
      " [51 'MadeleineLeveille@dayrep.com' 'Madeleine Leveille' 'F']\n",
      " [52 'BelisardaGuedry@dayrep.com' 'Belisarda Guedry' 'F']\n",
      " [53 'ZurieTheberge@gustr.com' 'Zurie Theberge' 'F']\n",
      " [54 'ErmengardiBousquet@dayrep.com' 'Ermengardi Bousquet' 'F']\n",
      " [55 'FlorenceBeaudoin@einrot.com' 'Florence Beaudoin' 'F']\n",
      " [56 'LeoneCrete@armyspy.com' 'Leone Crete' 'F']\n",
      " [57 'SearlaitCote@superrito.com' 'Searlait Cote' 'F']\n",
      " [58 'AlphonsineBourassa@cuvox.de' 'Alphonsine Bourassa' 'F']\n",
      " [59 'DidianeDAubigne@einrot.com' 'Didiane D Aubigne' 'F']\n",
      " [60 'EdouardLacroix@cuvox.de' 'Edouard Lacroix' 'M']\n",
      " [61 'OdeletteCharron@superrito.com' 'Odelette Charron' 'F']\n",
      " [62 'AleronBerard@rhyta.com' 'Aleron Berard' 'M']\n",
      " [63 'SylvieDuranseau@einrot.com' 'Sylvie Duranseau' 'F']\n",
      " [64 'YvetteDAvis@cuvox.de' 'Yvette D Avis' 'F']\n",
      " [65 'SolaineLecuyer@dayrep.com' 'Solaine Lecuyer' 'F']\n",
      " [66 'CourtlandDavid@cuvox.de' 'Courtland David' 'M']\n",
      " [67 'PatienceCharbonneau@jourrapide.com' 'Patience Charbonneau' 'F']\n",
      " [68 'EmmanuelLanctot@cuvox.de' 'Emmanuel Lanctot' 'M']\n",
      " [69 'MusetteProvencher@armyspy.com' 'Musette Provencher' 'F']\n",
      " [70 'MorganaMarchesseault@teleworm.us' 'Morgana Marchesseault' 'F']\n",
      " [71 'ViolletteArnoux@cuvox.de' 'Viollette Arnoux' 'F']\n",
      " [72 'SlainieGregoire@cuvox.de' 'Slainie Gregoire' 'F']\n",
      " [73 'GarlandLagueux@rhyta.com' 'Garland Lagueux' 'F']\n",
      " [74 'FerragusGrimard@cuvox.de' 'Ferragus Grimard' 'M']\n",
      " [75 'JeanTollmache@einrot.com' 'Jean Tollmache' 'M']\n",
      " [76 'LanceParent@teleworm.us' 'Lance Parent' 'M']\n",
      " [77 'CheneyChaloux@cuvox.de' 'Cheney Chaloux' 'M']\n",
      " [78 'PierpontLamarre@superrito.com' 'Pierpont Lamarre' 'M']\n",
      " [79 'ComforteQuerry@superrito.com' 'Comforte Querry' 'F']\n",
      " [80 'NadineMasson@teleworm.us' 'Nadine Masson' 'F']\n",
      " [81 'FranceLaderoute@jourrapide.com' 'France Laderoute' 'F']\n",
      " [82 'LothairBonenfant@dayrep.com' 'Lothair Bonenfant' 'M']\n",
      " [83 'OlivieNorbert@cuvox.de' 'Olivie Norbert' 'F']\n",
      " [84 'SomerMarleau@cuvox.de' 'Somer Marleau' 'M']\n",
      " [85 'AstridJolicoeur@superrito.com' 'Astrid Jolicoeur' 'F']\n",
      " [86 'OlivierGaillard@superrito.com' 'Olivier Gaillard' 'M']\n",
      " [87 'PhilipPinneau@teleworm.us' 'Philip Pinneau' 'M']\n",
      " [88 'AlexisLagrange@gustr.com' 'Alexis Lagrange' 'M']\n",
      " [89 'HeloiseGregoire@dayrep.com' 'Heloise Gregoire' 'F']\n",
      " [90 'DexterDavid@fleckens.hu' 'Dexter David' 'M']\n",
      " [91 'JacquesMethot@cuvox.de' 'Jacques Methot' 'M']\n",
      " [92 'AnceloteDesforges@cuvox.de' 'Ancelote Desforges' 'F']\n",
      " [93 'JulietteOuellet@rhyta.com' 'Juliette Ouellet' 'F']\n",
      " [94 'AvrilSylvain@superrito.com' 'Avril Sylvain' 'F']\n",
      " [95 'RachellePlaisance@armyspy.com' 'Rachelle Plaisance' 'F']\n",
      " [96 'BenjaminLabrie@fleckens.hu' 'Benjamin Labrie' 'M']\n",
      " [97 'LaureBondy@superrito.com' 'Laure Bondy' 'F']\n",
      " [98 'NatalieLeveille@rhyta.com' 'Natalie Leveille' 'F']\n",
      " [99 'SydneyGuibord@superrito.com' 'Sydney Guibord' 'F']\n",
      " [100 'ZdenekVadnais@superrito.com' 'Zdenek Vadnais' 'M']\n",
      " [101 'LoyalQuenneville@superrito.com' 'Loyal Quenneville' 'M']\n",
      " [102 'ErnestTachel@cuvox.de' 'Ernest Tachel' 'M']\n",
      " [103 'MatthieuPouchard@teleworm.us' 'Matthieu Pouchard' 'M']\n",
      " [104 'SearlasArtois@rhyta.com' 'Searlas Artois' 'M']\n",
      " [105 'ArnoLeBatelier@einrot.com' 'Arno Le Batelier' 'M']\n",
      " [106 'EstellePoisson@jourrapide.com' 'Estelle Poisson' 'F']\n",
      " [107 'HarcourtCharpentier@cuvox.de' 'Harcourt Charpentier' 'M']\n",
      " [108 'CrescentLavallee@armyspy.com' 'Crescent Lavallee' 'F']\n",
      " [109 'EugeniaVadeboncoeur@cuvox.de' 'Eugenia Vadeboncoeur' 'F']\n",
      " [110 'GenevreLabrie@cuvox.de' 'Genevre Labrie' 'F']\n",
      " [111 'NormandCote@dayrep.com' 'Normand Cote' 'M']\n",
      " [112 'ZoeLeclair@gustr.com' 'Zoe Leclair' 'F']\n",
      " [113 'PhillipaPerrault@einrot.com' 'Phillipa Perrault' 'F']\n",
      " [114 'EliseDesrosiers@jourrapide.com' 'Elise Desrosiers' 'F']\n",
      " [115 'RussellRochon@superrito.com' 'Russell Rochon' 'M']\n",
      " [116 'BeldaLauzier@armyspy.com' 'Belda Lauzier' 'F']\n",
      " [117 'AlphonsineSacre@einrot.com' 'Alphonsine Sacre' 'F']\n",
      " [118 'AubineLabelle@cuvox.de' 'Aubine Labelle' 'F']\n",
      " [119 'EmileVadnais@rhyta.com' 'Emile Vadnais' 'M']\n",
      " [120 'ArienneCantin@superrito.com' 'Arienne Cantin' 'F']\n",
      " [121 'JacquesMarcheterre@einrot.com' 'Jacques Marcheterre' 'M']\n",
      " [122 'EliotDupuis@gustr.com' 'Eliot Dupuis' 'M']\n",
      " [123 'ArthurPlante@jourrapide.com' 'Arthur Plante' 'M']\n",
      " [124 'SacripantLabrie@armyspy.com' 'Sacripant Labrie' 'M']\n",
      " [125 'SibylaLizotte@cuvox.de' 'Sibyla Lizotte' 'F']\n",
      " [126 'ChristianLaberge@armyspy.com' 'Christian Laberge' 'M']\n",
      " [127 'VickDavid@gustr.com' 'Vick David' 'M']\n",
      " [128 'ComforteCloutier@einrot.com' 'Comforte Cloutier' 'F']\n",
      " [129 'ClaudeGalarneau@armyspy.com' 'Claude Galarneau' 'M']\n",
      " [130 'ElisePerrault@superrito.com' 'Elise Perrault' 'F']\n",
      " [131 'LoringRocheleau@cuvox.de' 'Loring Rocheleau' 'M']\n",
      " [132 'MathildeSansouci@superrito.com' 'Mathilde Sansouci' 'F']\n",
      " [133 'AmaurySirois@superrito.com' 'Amaury Sirois' 'M']\n",
      " [134 'ChristelleLandry@jourrapide.com' 'Christelle Landry' 'F']\n",
      " [135 'AdelaideBrousse@gustr.com' 'Adelaide Brousse' 'F']\n",
      " [136 'BriceFaure@einrot.com' 'Brice Faure' 'M']\n",
      " [137 'AlaineHervieux@rhyta.com' 'Alaine Hervieux' 'F']\n",
      " [138 'LanceCroteau@einrot.com' 'Lance Croteau' 'M']\n",
      " [139 'AurelieBazinet@dayrep.com' 'Aurelie Bazinet' 'F']\n",
      " [140 'AstolphoVeronneau@teleworm.us' 'Astolpho Veronneau' 'M']\n",
      " [141 'JolieDeblois@armyspy.com' 'Jolie Deblois' 'F']\n",
      " [142 'MireilleParenteau@superrito.com' 'Mireille Parenteau' 'F']\n",
      " [143 'ToussaintBrodeur@rhyta.com' 'Toussaint Brodeur' 'M']\n",
      " [144 'PorterSimard@armyspy.com' 'Porter Simard' 'M']\n",
      " [145 'JeromedeLaunay@fleckens.hu' 'Jeromede Launay' 'M']\n",
      " [146 'LowellPatel@rhyta.com' 'Lowell Patel' 'M']\n",
      " [147 'GarlandMarcheterre@fleckens.hu' 'Garland Marcheterre' 'F']\n",
      " [148 'OlivierAube@armyspy.com' 'Olivier Aube' 'M']\n",
      " [149 'FrontinoBrian@einrot.com' 'Frontino Brian' 'M']\n",
      " [150 'RochMireault@gustr.com' 'Roch Mireault' 'M']\n",
      " [151 'NathalieCormier@cuvox.de' 'Nathalie Cormier' 'F']\n",
      " [152 'VallisMainville@gustr.com' 'Vallis Mainville' 'M']\n",
      " [153 'DanielleNeufville@teleworm.us' 'Danielle Neufville' 'F']\n",
      " [154 'AllyrianeRacine@gustr.com' 'Allyriane Racine' 'F']\n",
      " [155 'PierpontFlamand@fleckens.hu' 'Pierpont Flamand' 'M']\n",
      " [156 'DanielHuot@rhyta.com' 'Daniel Huot' 'M']\n",
      " [157 'HughPoisson@fleckens.hu' 'Hugh Poisson' 'M']\n",
      " [158 'YoletteMoreau@dayrep.com' 'Yolette Moreau' 'F']\n",
      " [159 'GasparReault@dayrep.com' 'Gaspar Reault' 'M']\n",
      " [160 'DelitBisaillon@teleworm.us' 'Delit Bisaillon' 'F']\n",
      " [161 'ManonDastous@armyspy.com' 'Manon Dastous' 'F']\n",
      " [162 'LoyalFouquet@armyspy.com' 'Loyal Fouquet' 'M']\n",
      " [163 'ApollineLaframboise@teleworm.us' 'Apolline Laframboise' 'F']\n",
      " [164 'OrielMiron@jourrapide.com' 'Oriel Miron' 'F']\n",
      " [165 'LianeLaGarde@cuvox.de' 'Liane La Garde' 'F']\n",
      " [166 'AnastasieCroteau@rhyta.com' 'Anastasie Croteau' 'F']\n",
      " [167 'VerneyCourse@armyspy.com' 'Verney Course' 'M']\n",
      " [168 'VoletaAdler@armyspy.com' 'Voleta Adler' 'F']\n",
      " [169 'PlattParent@jourrapide.com' 'Platt Parent' 'M']\n",
      " [170 'BlondelleAilleboust@gustr.com' 'Blondelle Ailleboust' 'F']\n",
      " [171 'AurelieDesnoyer@armyspy.com' 'Aurelie Desnoyer' 'F']\n",
      " [172 'AvelaineGadbois@dayrep.com' 'Avelaine Gadbois' 'F']\n",
      " [173 'BriceGrondin@fleckens.hu' 'Brice Grondin' 'M']\n",
      " [174 'ZacharieDuplessis@rhyta.com' 'Zacharie Duplessis' 'M']\n",
      " [175 'OgierGervais@gustr.com' 'Ogier Gervais' 'M']\n",
      " [176 'FusbertaRancourt@rhyta.com' 'Fusberta Rancourt' 'F']\n",
      " [177 'CamilleLaurent@superrito.com' 'Camille Laurent' 'F']\n",
      " [178 'CeriseMontminy@dayrep.com' 'Cerise Montminy' 'F']\n",
      " [179 'JosetteRiquier@armyspy.com' 'Josette Riquier' 'F']\n",
      " [180 'AgnesBriard@cuvox.de' 'Agnes Briard' 'F']\n",
      " [181 'AvrilRocheleau@fleckens.hu' 'Avril Rocheleau' 'F']\n",
      " [182 'BenoitGauvin@teleworm.us' 'Benoit Gauvin' 'M']\n",
      " [183 'HeloiseMarcil@fleckens.hu' 'Heloise Marcil' 'F']\n",
      " [184 'RolandDupont@einrot.com' 'Roland Dupont' 'M']\n",
      " [185 'SolaineLabrecque@fleckens.hu' 'Solaine Labrecque' 'F']\n",
      " [186 'JulieBeauchemin@teleworm.us' 'Julie Beauchemin' 'F']\n",
      " [187 'KarelDandonneau@dayrep.com' 'Karel Dandonneau' 'M']\n",
      " [188 'PaienBeauchesne@rhyta.com' 'Paien Beauchesne' 'M']\n",
      " [189 'AdeleClavette@cuvox.de' 'Adele Clavette' 'F']\n",
      " [190 'LotyeJodion@fleckens.hu' 'Lotye Jodion' 'F']\n",
      " [191 'AmaranteLacroix@fleckens.hu' 'Amarante Lacroix' 'F']\n",
      " [192 'XarlesCaisse@jourrapide.com' 'Xarles Caisse' 'M']\n",
      " [193 'LealaLemelin@dayrep.com' 'Leala Lemelin' 'F']\n",
      " [194 'ChantalLamoureux@jourrapide.com' 'Chantal Lamoureux' 'F']\n",
      " [195 'NinetteAdler@superrito.com' 'Ninette Adler' 'F']\n",
      " [196 'EmmanuelleLabrie@einrot.com' 'Emmanuelle Labrie' 'F']\n",
      " [197 'HuonDeLaRonde@rhyta.com' 'Huon De La Ronde' 'M']\n",
      " [198 'SimoneSt-Pierre@jourrapide.com' 'Simone St- Pierre' 'F']\n",
      " [199 'PeverellMazuret@dayrep.com' 'Peverell Mazuret' 'M']\n",
      " [200 'LorrainePaulet@einrot.com' 'Lorraine Paulet' 'F']\n",
      " [201 'DemiLazure@cuvox.de' 'Demi Lazure' 'F']\n",
      " [202 'AgramantGrandpre@rhyta.com' 'Agramant Grandpre' 'M']\n",
      " [203 'ClothildeBerie@teleworm.us' 'Clothilde Berie' 'F']\n",
      " [204 'AimeMarseau@dayrep.com' 'Aime Marseau' 'M']\n",
      " [205 'RogerDeLaRonde@gustr.com' 'Roger De La Ronde' 'M']\n",
      " [206 'AiglentinaMarcheterre@superrito.com' 'Aiglentina Marcheterre' 'F']\n",
      " [207 'NoemiLaisne@rhyta.com' 'Noemi Laisne' 'F']\n",
      " [208 'DenisPatenaude@einrot.com' 'Denis Patenaude' 'M']\n",
      " [209 'JulienBeriault@rhyta.com' 'Julien Beriault' 'M']\n",
      " [210 'MartheQuerry@einrot.com' 'Marthe Querry' 'F']\n",
      " [211 'ParfaitBedard@armyspy.com' 'Parfait Bedard' 'M']\n",
      " [212 'MandelBarteaux@gustr.com' 'Mandel Barteaux' 'M']\n",
      " [213 'PauletteLemaitre@fleckens.hu' 'Paulette Lemaitre' 'F']\n",
      " [214 'YoletteLanoie@dayrep.com' 'Yolette Lanoie' 'F']\n",
      " [215 'LucilleBaron@superrito.com' 'Lucille Baron' 'F']\n",
      " [216 'ChappellSarrazin@rhyta.com' 'Chappell Sarrazin' 'M']\n",
      " [217 'GanoHetu@fleckens.hu' 'Gano Hetu' 'M']\n",
      " [218 'MinetteRoy@fleckens.hu' 'Minette Roy' 'F']\n",
      " [219 'RoslynChalifour@cuvox.de' 'Roslyn Chalifour' 'M']\n",
      " [220 'KarelBazinet@einrot.com' 'Karel Bazinet' 'M']\n",
      " [221 'JosetteBordeleau@einrot.com' 'Josette Bordeleau' 'F']\n",
      " [222 'LangleyCaron@armyspy.com' 'Langley Caron' 'M']\n",
      " [223 'ClaudeDandonneau@jourrapide.com' 'Claude Dandonneau' 'F']\n",
      " [224 'ApollineMichaud@superrito.com' 'Apolline Michaud' 'F']\n",
      " [225 'PascalineBeaudry@rhyta.com' 'Pascaline Beaudry' 'F']\n",
      " [226 'FleurCaouette@jourrapide.com' 'Fleur Caouette' 'F']\n",
      " [227 'FrancisMasse@jourrapide.com' 'Francis Masse' 'M']]\n"
     ]
    }
   ],
   "source": [
    "# Transformer le dataframe en array (NumPy)\n",
    "clients_array = data_csv.values\n",
    "print( clients_array )\n"
   ]
  },
  {
   "cell_type": "code",
   "execution_count": 13,
   "id": "b7914669-c82b-4205-85f1-34d7a97a1fe8",
   "metadata": {},
   "outputs": [
    {
     "name": "stdout",
     "output_type": "stream",
     "text": [
      "[[0 'LaurentDagenais@rhyta.com' 'Laurent Dagenais' 'M']\n",
      " [1 'GuyMarois@fleckens.hu' 'Guy Marois' 'M']\n",
      " [2 'BeaufortLesage@einrot.com' 'Beaufort Lesage' 'M']\n",
      " [3 'RussellDurand@armyspy.com' 'Russell Durand' 'M']\n",
      " [4 'AlexisRiel@rhyta.com' 'Alexis Riel' 'M']\n",
      " [5 'LeonLapresse@cuvox.de' 'Leon Lapresse' 'M']\n",
      " [6 'OrvilleRouthier@gustr.com' 'Orville Routhier' 'M']\n",
      " [7 'AgramantPepin@dayrep.com' 'Agramant Pepin' 'M']\n",
      " [9 'TheodoreClavet@teleworm.us' 'Theodore Clavet' 'M']\n",
      " [10 'ByronLefebvre@jourrapide.com' 'Byron Lefebvre' 'M']\n",
      " [11 'FlorusDevoe@einrot.com' 'Florus Devoe' 'M']\n",
      " [12 'NormandArsenault@armyspy.com' 'Normand Arsenault' 'M']\n",
      " [14 'GastonBrisette@superrito.com' 'Gaston Brisette' 'M']\n",
      " [16 'AgricanFoucault@jourrapide.com' 'Agrican Foucault' 'M']\n",
      " [20 'AmauryReault@teleworm.us' 'Amaury Reault' 'M']\n",
      " [21 'GillesBeauchamps@superrito.com' 'Gilles Beauchamps' 'M']\n",
      " [22 'FranckDumont@gustr.com' 'Franck Dumont' 'M']\n",
      " [24 'AlphonseCantin@cuvox.de' 'Alphonse Cantin' 'M']\n",
      " [26 'SavilleBernard@armyspy.com' 'Saville Bernard' 'M']\n",
      " [32 'ArberGarcia@dayrep.com' 'Arber Garcia' 'M']\n",
      " [33 'SaberViens@superrito.com' 'Saber Viens' 'M']\n",
      " [34 'ArnaudDubois@rhyta.com' 'Arnaud Dubois' 'M']\n",
      " [35 'PryorBeauchamp@dayrep.com' 'Pryor Beauchamp' 'M']\n",
      " [36 'AlphonsePotvin@armyspy.com' 'Alphonse Potvin' 'M']\n",
      " [37 'FitzLafontaine@dayrep.com' 'Fitz Lafontaine' 'M']\n",
      " [40 'SomerPaquette@jourrapide.com' 'Somer Paquette' 'M']\n",
      " [42 'GermainHughes@teleworm.us' 'Germain Hughes' 'M']\n",
      " [45 'VerneyBedard@dayrep.com' 'Verney Bedard' 'M']\n",
      " [46 'IgnaceAudibert@armyspy.com' 'Ignace Audibert' 'M']\n",
      " [47 'FranckBinet@superrito.com' 'Franck Binet' 'M']\n",
      " [48 'SumnerRocheleau@einrot.com' 'Sumner Rocheleau' 'M']\n",
      " [49 'AubertPatel@armyspy.com' 'Aubert Patel' 'M']\n",
      " [50 'SumnerLaprise@superrito.com' 'Sumner Laprise' 'M']\n",
      " [60 'EdouardLacroix@cuvox.de' 'Edouard Lacroix' 'M']\n",
      " [62 'AleronBerard@rhyta.com' 'Aleron Berard' 'M']\n",
      " [66 'CourtlandDavid@cuvox.de' 'Courtland David' 'M']\n",
      " [68 'EmmanuelLanctot@cuvox.de' 'Emmanuel Lanctot' 'M']\n",
      " [74 'FerragusGrimard@cuvox.de' 'Ferragus Grimard' 'M']\n",
      " [75 'JeanTollmache@einrot.com' 'Jean Tollmache' 'M']\n",
      " [76 'LanceParent@teleworm.us' 'Lance Parent' 'M']\n",
      " [77 'CheneyChaloux@cuvox.de' 'Cheney Chaloux' 'M']\n",
      " [78 'PierpontLamarre@superrito.com' 'Pierpont Lamarre' 'M']\n",
      " [82 'LothairBonenfant@dayrep.com' 'Lothair Bonenfant' 'M']\n",
      " [84 'SomerMarleau@cuvox.de' 'Somer Marleau' 'M']\n",
      " [86 'OlivierGaillard@superrito.com' 'Olivier Gaillard' 'M']\n",
      " [87 'PhilipPinneau@teleworm.us' 'Philip Pinneau' 'M']\n",
      " [88 'AlexisLagrange@gustr.com' 'Alexis Lagrange' 'M']\n",
      " [90 'DexterDavid@fleckens.hu' 'Dexter David' 'M']\n",
      " [91 'JacquesMethot@cuvox.de' 'Jacques Methot' 'M']\n",
      " [96 'BenjaminLabrie@fleckens.hu' 'Benjamin Labrie' 'M']\n",
      " [100 'ZdenekVadnais@superrito.com' 'Zdenek Vadnais' 'M']\n",
      " [101 'LoyalQuenneville@superrito.com' 'Loyal Quenneville' 'M']\n",
      " [102 'ErnestTachel@cuvox.de' 'Ernest Tachel' 'M']\n",
      " [103 'MatthieuPouchard@teleworm.us' 'Matthieu Pouchard' 'M']\n",
      " [104 'SearlasArtois@rhyta.com' 'Searlas Artois' 'M']\n",
      " [105 'ArnoLeBatelier@einrot.com' 'Arno Le Batelier' 'M']\n",
      " [107 'HarcourtCharpentier@cuvox.de' 'Harcourt Charpentier' 'M']\n",
      " [111 'NormandCote@dayrep.com' 'Normand Cote' 'M']\n",
      " [115 'RussellRochon@superrito.com' 'Russell Rochon' 'M']\n",
      " [119 'EmileVadnais@rhyta.com' 'Emile Vadnais' 'M']\n",
      " [121 'JacquesMarcheterre@einrot.com' 'Jacques Marcheterre' 'M']\n",
      " [122 'EliotDupuis@gustr.com' 'Eliot Dupuis' 'M']\n",
      " [123 'ArthurPlante@jourrapide.com' 'Arthur Plante' 'M']\n",
      " [124 'SacripantLabrie@armyspy.com' 'Sacripant Labrie' 'M']\n",
      " [126 'ChristianLaberge@armyspy.com' 'Christian Laberge' 'M']\n",
      " [127 'VickDavid@gustr.com' 'Vick David' 'M']\n",
      " [129 'ClaudeGalarneau@armyspy.com' 'Claude Galarneau' 'M']\n",
      " [131 'LoringRocheleau@cuvox.de' 'Loring Rocheleau' 'M']\n",
      " [133 'AmaurySirois@superrito.com' 'Amaury Sirois' 'M']\n",
      " [136 'BriceFaure@einrot.com' 'Brice Faure' 'M']\n",
      " [138 'LanceCroteau@einrot.com' 'Lance Croteau' 'M']\n",
      " [140 'AstolphoVeronneau@teleworm.us' 'Astolpho Veronneau' 'M']\n",
      " [143 'ToussaintBrodeur@rhyta.com' 'Toussaint Brodeur' 'M']\n",
      " [144 'PorterSimard@armyspy.com' 'Porter Simard' 'M']\n",
      " [145 'JeromedeLaunay@fleckens.hu' 'Jeromede Launay' 'M']\n",
      " [146 'LowellPatel@rhyta.com' 'Lowell Patel' 'M']\n",
      " [148 'OlivierAube@armyspy.com' 'Olivier Aube' 'M']\n",
      " [149 'FrontinoBrian@einrot.com' 'Frontino Brian' 'M']\n",
      " [150 'RochMireault@gustr.com' 'Roch Mireault' 'M']\n",
      " [152 'VallisMainville@gustr.com' 'Vallis Mainville' 'M']\n",
      " [155 'PierpontFlamand@fleckens.hu' 'Pierpont Flamand' 'M']\n",
      " [156 'DanielHuot@rhyta.com' 'Daniel Huot' 'M']\n",
      " [157 'HughPoisson@fleckens.hu' 'Hugh Poisson' 'M']\n",
      " [159 'GasparReault@dayrep.com' 'Gaspar Reault' 'M']\n",
      " [162 'LoyalFouquet@armyspy.com' 'Loyal Fouquet' 'M']\n",
      " [167 'VerneyCourse@armyspy.com' 'Verney Course' 'M']\n",
      " [169 'PlattParent@jourrapide.com' 'Platt Parent' 'M']\n",
      " [173 'BriceGrondin@fleckens.hu' 'Brice Grondin' 'M']\n",
      " [174 'ZacharieDuplessis@rhyta.com' 'Zacharie Duplessis' 'M']\n",
      " [175 'OgierGervais@gustr.com' 'Ogier Gervais' 'M']\n",
      " [182 'BenoitGauvin@teleworm.us' 'Benoit Gauvin' 'M']\n",
      " [184 'RolandDupont@einrot.com' 'Roland Dupont' 'M']\n",
      " [187 'KarelDandonneau@dayrep.com' 'Karel Dandonneau' 'M']\n",
      " [188 'PaienBeauchesne@rhyta.com' 'Paien Beauchesne' 'M']\n",
      " [192 'XarlesCaisse@jourrapide.com' 'Xarles Caisse' 'M']\n",
      " [197 'HuonDeLaRonde@rhyta.com' 'Huon De La Ronde' 'M']\n",
      " [199 'PeverellMazuret@dayrep.com' 'Peverell Mazuret' 'M']\n",
      " [202 'AgramantGrandpre@rhyta.com' 'Agramant Grandpre' 'M']\n",
      " [204 'AimeMarseau@dayrep.com' 'Aime Marseau' 'M']\n",
      " [205 'RogerDeLaRonde@gustr.com' 'Roger De La Ronde' 'M']\n",
      " [208 'DenisPatenaude@einrot.com' 'Denis Patenaude' 'M']\n",
      " [209 'JulienBeriault@rhyta.com' 'Julien Beriault' 'M']\n",
      " [211 'ParfaitBedard@armyspy.com' 'Parfait Bedard' 'M']\n",
      " [212 'MandelBarteaux@gustr.com' 'Mandel Barteaux' 'M']\n",
      " [216 'ChappellSarrazin@rhyta.com' 'Chappell Sarrazin' 'M']\n",
      " [217 'GanoHetu@fleckens.hu' 'Gano Hetu' 'M']\n",
      " [219 'RoslynChalifour@cuvox.de' 'Roslyn Chalifour' 'M']\n",
      " [220 'KarelBazinet@einrot.com' 'Karel Bazinet' 'M']\n",
      " [222 'LangleyCaron@armyspy.com' 'Langley Caron' 'M']\n",
      " [227 'FrancisMasse@jourrapide.com' 'Francis Masse' 'M']]\n"
     ]
    }
   ],
   "source": [
    "# On peut ainsi reproduire la manipulation comme avec NumPy\n",
    "print( clients_array[ clients_array[:, 3] == 'M' ] )"
   ]
  },
  {
   "cell_type": "markdown",
   "id": "c45e76f7-be69-4cae-b7bb-a8646630600d",
   "metadata": {},
   "source": [
    "## Manipulation du dataframe"
   ]
  },
  {
   "cell_type": "code",
   "execution_count": 14,
   "id": "2d28385d-f942-4584-85ae-18cd9e24052f",
   "metadata": {},
   "outputs": [
    {
     "name": "stdout",
     "output_type": "stream",
     "text": [
      "0            LaurentDagenais@rhyta.com\n",
      "1                GuyMarois@fleckens.hu\n",
      "2            BeaufortLesage@einrot.com\n",
      "3            RussellDurand@armyspy.com\n",
      "4                 AlexisRiel@rhyta.com\n",
      "                    ...               \n",
      "223    ClaudeDandonneau@jourrapide.com\n",
      "224      ApollineMichaud@superrito.com\n",
      "225         PascalineBeaudry@rhyta.com\n",
      "226       FleurCaouette@jourrapide.com\n",
      "227        FrancisMasse@jourrapide.com\n",
      "Name: email, Length: 228, dtype: object\n"
     ]
    }
   ],
   "source": [
    "# Afficher le contenu d'une colonne\n",
    "print(data_csv['email'])"
   ]
  },
  {
   "cell_type": "code",
   "execution_count": 15,
   "id": "3040038a-cc2a-415b-a8b9-bec844b61a6c",
   "metadata": {},
   "outputs": [
    {
     "name": "stdout",
     "output_type": "stream",
     "text": [
      "    genre                            email\n",
      "0       M        LaurentDagenais@rhyta.com\n",
      "1       M            GuyMarois@fleckens.hu\n",
      "2       M        BeaufortLesage@einrot.com\n",
      "3       M        RussellDurand@armyspy.com\n",
      "4       M             AlexisRiel@rhyta.com\n",
      "..    ...                              ...\n",
      "223     F  ClaudeDandonneau@jourrapide.com\n",
      "224     F    ApollineMichaud@superrito.com\n",
      "225     F       PascalineBeaudry@rhyta.com\n",
      "226     F     FleurCaouette@jourrapide.com\n",
      "227     M      FrancisMasse@jourrapide.com\n",
      "\n",
      "[228 rows x 2 columns]\n"
     ]
    }
   ],
   "source": [
    "# Afficher le contenu de plusieurs colonnes\n",
    "print(data_csv[ ['genre', 'email'] ])"
   ]
  },
  {
   "cell_type": "markdown",
   "id": "f8a59ff6-64f8-4804-b106-cf9bd8c151d2",
   "metadata": {},
   "source": [
    "## Types"
   ]
  },
  {
   "cell_type": "code",
   "execution_count": 16,
   "id": "7aecf7bd-19dd-4198-b590-d8851eb01774",
   "metadata": {},
   "outputs": [
    {
     "name": "stdout",
     "output_type": "stream",
     "text": [
      "<class 'pandas.core.series.Series'>\n",
      "<class 'pandas.core.frame.DataFrame'>\n"
     ]
    }
   ],
   "source": [
    "# Type Series\n",
    "print(type(data_csv['email']))\n",
    "# Type DataFrame\n",
    "print(type(data_csv[ ['genre', 'email'] ]))"
   ]
  },
  {
   "cell_type": "markdown",
   "id": "10cbe2b7-0a29-4690-8612-8889b620e772",
   "metadata": {},
   "source": [
    "## Manipulation d'un objet Series (une colonne)"
   ]
  },
  {
   "cell_type": "code",
   "execution_count": 17,
   "id": "ac575b5b-36de-4ce7-982e-d8681fdb8842",
   "metadata": {},
   "outputs": [
    {
     "name": "stdout",
     "output_type": "stream",
     "text": [
      "0      0\n",
      "1      0\n",
      "2      0\n",
      "3      0\n",
      "4      0\n",
      "      ..\n",
      "223    0\n",
      "224    0\n",
      "225    0\n",
      "226    0\n",
      "227    0\n",
      "Name: email, Length: 228, dtype: int64\n"
     ]
    }
   ],
   "source": [
    "# Modification de son contenu\n",
    "data_csv['email'] = 0\n",
    "print(data_csv['email'])"
   ]
  },
  {
   "cell_type": "code",
   "execution_count": 18,
   "id": "31d89457-2caf-4909-9dba-e71e1c9cfb1a",
   "metadata": {},
   "outputs": [
    {
     "name": "stdout",
     "output_type": "stream",
     "text": [
      "     identifiant  email                nom genre\n",
      "0              0      0   Laurent Dagenais     M\n",
      "1              1      0         Guy Marois     M\n",
      "2              2      0    Beaufort Lesage     M\n",
      "3              3      0     Russell Durand     M\n",
      "4              4      0        Alexis Riel     M\n",
      "..           ...    ...                ...   ...\n",
      "223          223      0  Claude Dandonneau     F\n",
      "224          224      0   Apolline Michaud     F\n",
      "225          225      0  Pascaline Beaudry     F\n",
      "226          226      0     Fleur Caouette     F\n",
      "227          227      0      Francis Masse     M\n",
      "\n",
      "[228 rows x 4 columns]\n"
     ]
    }
   ],
   "source": [
    "print(data_csv)"
   ]
  },
  {
   "cell_type": "code",
   "execution_count": 19,
   "id": "eefaf525-ff4a-4abe-8c4b-57ad710998ad",
   "metadata": {},
   "outputs": [
    {
     "name": "stdout",
     "output_type": "stream",
     "text": [
      "0       61\n",
      "1       82\n",
      "2      618\n",
      "3      309\n",
      "4       67\n",
      "      ... \n",
      "223    527\n",
      "224     20\n",
      "225    249\n",
      "226    581\n",
      "227    530\n",
      "Name: email, Length: 228, dtype: int64\n"
     ]
    }
   ],
   "source": [
    "# Remplacer son contenu par un array de même dimension\n",
    "data_csv['email'] = np.random.randint(1,1000, data_csv.shape[0])\n",
    "print(data_csv['email'])"
   ]
  },
  {
   "cell_type": "code",
   "execution_count": 20,
   "id": "694776b9-38b1-4687-9eb1-3d237a798e47",
   "metadata": {},
   "outputs": [
    {
     "name": "stdout",
     "output_type": "stream",
     "text": [
      "     identifiant  email                nom genre    id\n",
      "0              0     61   Laurent Dagenais     M  1000\n",
      "1              1     82         Guy Marois     M  1001\n",
      "2              2    618    Beaufort Lesage     M  1002\n",
      "3              3    309     Russell Durand     M  1003\n",
      "4              4     67        Alexis Riel     M  1004\n",
      "..           ...    ...                ...   ...   ...\n",
      "223          223    527  Claude Dandonneau     F  1223\n",
      "224          224     20   Apolline Michaud     F  1224\n",
      "225          225    249  Pascaline Beaudry     F  1225\n",
      "226          226    581     Fleur Caouette     F  1226\n",
      "227          227    530      Francis Masse     M  1227\n",
      "\n",
      "[228 rows x 5 columns]\n"
     ]
    }
   ],
   "source": [
    "# Créer une colonne\n",
    "data_csv['id'] = data_csv['identifiant'] + 1000\n",
    "print(data_csv)"
   ]
  },
  {
   "cell_type": "code",
   "execution_count": 21,
   "id": "e74e107a-fd2b-4732-8677-4341fd714141",
   "metadata": {},
   "outputs": [
    {
     "name": "stdout",
     "output_type": "stream",
     "text": [
      "     identifiant  email                nom genre\n",
      "0              0     61   Laurent Dagenais     M\n",
      "1              1     82         Guy Marois     M\n",
      "2              2    618    Beaufort Lesage     M\n",
      "3              3    309     Russell Durand     M\n",
      "4              4     67        Alexis Riel     M\n",
      "..           ...    ...                ...   ...\n",
      "223          223    527  Claude Dandonneau     F\n",
      "224          224     20   Apolline Michaud     F\n",
      "225          225    249  Pascaline Beaudry     F\n",
      "226          226    581     Fleur Caouette     F\n",
      "227          227    530      Francis Masse     M\n",
      "\n",
      "[228 rows x 4 columns]\n"
     ]
    }
   ],
   "source": [
    "# Supprimer une colonne\n",
    "\n",
    "# Drop renvoie une copie du dataframe, ne supprime pas directement la colonne sur le dataframe d'origine\n",
    "df_copy = data_csv.drop(columns='id')\n",
    "print(df_copy)"
   ]
  },
  {
   "cell_type": "code",
   "execution_count": 22,
   "id": "878f0d1c-6ef7-41cb-ac4e-b2a38e6cbd56",
   "metadata": {},
   "outputs": [
    {
     "name": "stdout",
     "output_type": "stream",
     "text": [
      "     identifiant  email                nom genre    id\n",
      "0              0     61   Laurent Dagenais     M  1000\n",
      "1              1     82         Guy Marois     M  1001\n",
      "2              2    618    Beaufort Lesage     M  1002\n",
      "3              3    309     Russell Durand     M  1003\n",
      "4              4     67        Alexis Riel     M  1004\n",
      "..           ...    ...                ...   ...   ...\n",
      "223          223    527  Claude Dandonneau     F  1223\n",
      "224          224     20   Apolline Michaud     F  1224\n",
      "225          225    249  Pascaline Beaudry     F  1225\n",
      "226          226    581     Fleur Caouette     F  1226\n",
      "227          227    530      Francis Masse     M  1227\n",
      "\n",
      "[228 rows x 5 columns]\n"
     ]
    }
   ],
   "source": [
    "print(data_csv)"
   ]
  },
  {
   "cell_type": "code",
   "execution_count": 23,
   "id": "0b106714-809a-4f17-b711-323763a69bc7",
   "metadata": {},
   "outputs": [
    {
     "name": "stdout",
     "output_type": "stream",
     "text": [
      "     identifiant  email                nom genre\n",
      "0              0     61   Laurent Dagenais     M\n",
      "1              1     82         Guy Marois     M\n",
      "2              2    618    Beaufort Lesage     M\n",
      "3              3    309     Russell Durand     M\n",
      "4              4     67        Alexis Riel     M\n",
      "..           ...    ...                ...   ...\n",
      "223          223    527  Claude Dandonneau     F\n",
      "224          224     20   Apolline Michaud     F\n",
      "225          225    249  Pascaline Beaudry     F\n",
      "226          226    581     Fleur Caouette     F\n",
      "227          227    530      Francis Masse     M\n",
      "\n",
      "[228 rows x 4 columns]\n"
     ]
    }
   ],
   "source": [
    "# Si on est certain de la suppression alors on l'impacte sur le df d'origine\n",
    "data_csv = df_copy\n",
    "print(data_csv)"
   ]
  },
  {
   "cell_type": "code",
   "execution_count": 24,
   "id": "41b64196-a4f6-4bea-8531-4ed6329daa22",
   "metadata": {},
   "outputs": [
    {
     "name": "stdout",
     "output_type": "stream",
     "text": [
      "     identifiant  email                nom\n",
      "0              0     61   Laurent Dagenais\n",
      "1              1     82         Guy Marois\n",
      "2              2    618    Beaufort Lesage\n",
      "3              3    309     Russell Durand\n",
      "4              4     67        Alexis Riel\n",
      "..           ...    ...                ...\n",
      "223          223    527  Claude Dandonneau\n",
      "224          224     20   Apolline Michaud\n",
      "225          225    249  Pascaline Beaudry\n",
      "226          226    581     Fleur Caouette\n",
      "227          227    530      Francis Masse\n",
      "\n",
      "[228 rows x 3 columns]\n"
     ]
    }
   ],
   "source": [
    "# On peut également supprimer une colonne de la façon suivante : \n",
    "del data_csv['genre']\n",
    "print(data_csv)"
   ]
  },
  {
   "cell_type": "code",
   "execution_count": 25,
   "id": "5b7f27d3-c007-425d-855f-c174eec96744",
   "metadata": {},
   "outputs": [
    {
     "name": "stdout",
     "output_type": "stream",
     "text": [
      "     identifiant                nom\n",
      "0              0   Laurent Dagenais\n",
      "1              1         Guy Marois\n",
      "2              2    Beaufort Lesage\n",
      "3              3     Russell Durand\n",
      "4              4        Alexis Riel\n",
      "..           ...                ...\n",
      "223          223  Claude Dandonneau\n",
      "224          224   Apolline Michaud\n",
      "225          225  Pascaline Beaudry\n",
      "226          226     Fleur Caouette\n",
      "227          227      Francis Masse\n",
      "\n",
      "[228 rows x 2 columns]\n"
     ]
    }
   ],
   "source": [
    "# Ou alors de cette manière\n",
    "data_csv.pop('email')\n",
    "print(data_csv)"
   ]
  },
  {
   "cell_type": "markdown",
   "id": "67787f55-bd68-41c9-bd0e-b617912d5a95",
   "metadata": {},
   "source": [
    "<div class=\"alert alert-info\" >L'utilisation de <b>del</b> ou de <b>.pop()</b> impacte directement le dataframe comparé à <b>.drop()</b> qui lui retourne une copie du df avec la modification.</div>"
   ]
  },
  {
   "cell_type": "code",
   "execution_count": 26,
   "id": "b204704c-0b4f-4eab-8043-344045cd4fd6",
   "metadata": {},
   "outputs": [
    {
     "name": "stdout",
     "output_type": "stream",
     "text": [
      "      id                            email                nom genre\n",
      "0      0        LaurentDagenais@rhyta.com   Laurent Dagenais     M\n",
      "1      1            GuyMarois@fleckens.hu         Guy Marois     M\n",
      "2      2        BeaufortLesage@einrot.com    Beaufort Lesage     M\n",
      "3      3        RussellDurand@armyspy.com     Russell Durand     M\n",
      "4      4             AlexisRiel@rhyta.com        Alexis Riel     M\n",
      "..   ...                              ...                ...   ...\n",
      "223  223  ClaudeDandonneau@jourrapide.com  Claude Dandonneau     F\n",
      "224  224    ApollineMichaud@superrito.com   Apolline Michaud     F\n",
      "225  225       PascalineBeaudry@rhyta.com  Pascaline Beaudry     F\n",
      "226  226     FleurCaouette@jourrapide.com     Fleur Caouette     F\n",
      "227  227      FrancisMasse@jourrapide.com      Francis Masse     M\n",
      "\n",
      "[228 rows x 4 columns]\n"
     ]
    }
   ],
   "source": [
    "# On reinitialise le data_csv avec toutes ses colonnes\n",
    "data_csv = data_json\n",
    "\n",
    "# Le paramètre columns de la méthode .rename() attend un dictionnaire avec key : ancien nom et value : nouveau nom\n",
    "# Par exemple ici 'identifiant' correspond à l'ancien nom et 'id' correspond au nouveau nom\n",
    "df_copy = data_csv.rename(columns={'identifiant' :'id'})\n",
    "print(df_copy)"
   ]
  },
  {
   "cell_type": "code",
   "execution_count": 27,
   "id": "77bc75ac-c26d-43e4-b192-934f9910b8f0",
   "metadata": {},
   "outputs": [
    {
     "name": "stdout",
     "output_type": "stream",
     "text": [
      "     identifiant                            email                nom genre\n",
      "0              0        LaurentDagenais@rhyta.com   Laurent Dagenais     M\n",
      "1              1            GuyMarois@fleckens.hu         Guy Marois     M\n",
      "2              2        BeaufortLesage@einrot.com    Beaufort Lesage     M\n",
      "3              3        RussellDurand@armyspy.com     Russell Durand     M\n",
      "4              4             AlexisRiel@rhyta.com        Alexis Riel     M\n",
      "..           ...                              ...                ...   ...\n",
      "223          223  ClaudeDandonneau@jourrapide.com  Claude Dandonneau     F\n",
      "224          224    ApollineMichaud@superrito.com   Apolline Michaud     F\n",
      "225          225       PascalineBeaudry@rhyta.com  Pascaline Beaudry     F\n",
      "226          226     FleurCaouette@jourrapide.com     Fleur Caouette     F\n",
      "227          227      FrancisMasse@jourrapide.com      Francis Masse     M\n",
      "\n",
      "[228 rows x 4 columns]\n"
     ]
    }
   ],
   "source": [
    "print(data_csv)"
   ]
  },
  {
   "cell_type": "code",
   "execution_count": 28,
   "id": "dd8c1fcd-ef92-4895-8674-33c443900faa",
   "metadata": {},
   "outputs": [
    {
     "name": "stdout",
     "output_type": "stream",
     "text": [
      "      id                            email                nom genre\n",
      "0      0        LaurentDagenais@rhyta.com   Laurent Dagenais     M\n",
      "1      1            GuyMarois@fleckens.hu         Guy Marois     M\n",
      "2      2        BeaufortLesage@einrot.com    Beaufort Lesage     M\n",
      "3      3        RussellDurand@armyspy.com     Russell Durand     M\n",
      "4      4             AlexisRiel@rhyta.com        Alexis Riel     M\n",
      "..   ...                              ...                ...   ...\n",
      "223  223  ClaudeDandonneau@jourrapide.com  Claude Dandonneau     F\n",
      "224  224    ApollineMichaud@superrito.com   Apolline Michaud     F\n",
      "225  225       PascalineBeaudry@rhyta.com  Pascaline Beaudry     F\n",
      "226  226     FleurCaouette@jourrapide.com     Fleur Caouette     F\n",
      "227  227      FrancisMasse@jourrapide.com      Francis Masse     M\n",
      "\n",
      "[228 rows x 4 columns]\n"
     ]
    }
   ],
   "source": [
    "# Comme avec la méthode .drop(), .rename() ne modifie pas directement le dataframne, il renvoie une copie\n",
    "\n",
    "# Permet de modifier directement le dataframe sans retourner de copie\n",
    "data_csv.rename(columns={'identifiant' :'id'}, inplace=True)\n",
    "print(data_csv)"
   ]
  },
  {
   "cell_type": "code",
   "execution_count": 29,
   "id": "e68db872-1e76-4c93-833c-810c5439799e",
   "metadata": {},
   "outputs": [
    {
     "name": "stdout",
     "output_type": "stream",
     "text": [
      "      id                            email               name sex\n",
      "0      0        LaurentDagenais@rhyta.com   Laurent Dagenais   M\n",
      "1      1            GuyMarois@fleckens.hu         Guy Marois   M\n",
      "2      2        BeaufortLesage@einrot.com    Beaufort Lesage   M\n",
      "3      3        RussellDurand@armyspy.com     Russell Durand   M\n",
      "4      4             AlexisRiel@rhyta.com        Alexis Riel   M\n",
      "..   ...                              ...                ...  ..\n",
      "223  223  ClaudeDandonneau@jourrapide.com  Claude Dandonneau   F\n",
      "224  224    ApollineMichaud@superrito.com   Apolline Michaud   F\n",
      "225  225       PascalineBeaudry@rhyta.com  Pascaline Beaudry   F\n",
      "226  226     FleurCaouette@jourrapide.com     Fleur Caouette   F\n",
      "227  227      FrancisMasse@jourrapide.com      Francis Masse   M\n",
      "\n",
      "[228 rows x 4 columns]\n"
     ]
    }
   ],
   "source": [
    "# Si plusieurs colonnes\n",
    "data_csv.rename(columns={'identifiant' :'id', 'genre' : 'sex', 'nom' : 'name'}, inplace=True)\n",
    "print(data_csv)"
   ]
  },
  {
   "cell_type": "code",
   "execution_count": 39,
   "id": "284703d7-96fd-4fe1-8cff-3d483de21cef",
   "metadata": {},
   "outputs": [
    {
     "name": "stdout",
     "output_type": "stream",
     "text": [
      "        id                            email               name sex\n",
      "0      0.0        LaurentDagenais@rhyta.com   Laurent Dagenais   M\n",
      "1      1.0            GuyMarois@fleckens.hu         Guy Marois   M\n",
      "2      2.0        BeaufortLesage@einrot.com    Beaufort Lesage   M\n",
      "3      3.0        RussellDurand@armyspy.com     Russell Durand   M\n",
      "4      4.0             AlexisRiel@rhyta.com        Alexis Riel   M\n",
      "..     ...                              ...                ...  ..\n",
      "223  223.0  ClaudeDandonneau@jourrapide.com  Claude Dandonneau   F\n",
      "224  224.0    ApollineMichaud@superrito.com   Apolline Michaud   F\n",
      "225  225.0       PascalineBeaudry@rhyta.com  Pascaline Beaudry   F\n",
      "226  226.0     FleurCaouette@jourrapide.com     Fleur Caouette   F\n",
      "227  227.0      FrancisMasse@jourrapide.com      Francis Masse   M\n",
      "\n",
      "[228 rows x 4 columns]\n"
     ]
    }
   ],
   "source": [
    "# Changer le type d'une colonne\n",
    "data_csv['id'] = data_csv['id'].astype(float)\n",
    "print(data_csv)"
   ]
  },
  {
   "cell_type": "code",
   "execution_count": 40,
   "id": "9080d1b0-56f4-42da-b309-209422a053c3",
   "metadata": {},
   "outputs": [
    {
     "name": "stdout",
     "output_type": "stream",
     "text": [
      "        id                            email               name sex\n",
      "0      0.0        LaurentDagenais@rhyta.com   Laurent Dagenais   M\n",
      "1      1.0            GuyMarois@fleckens.hu         Guy Marois   M\n",
      "2      2.0        BeaufortLesage@einrot.com    Beaufort Lesage   M\n",
      "3      3.0        RussellDurand@armyspy.com     Russell Durand   M\n",
      "4      4.0             AlexisRiel@rhyta.com        Alexis Riel   M\n",
      "..     ...                              ...                ...  ..\n",
      "223  223.0  ClaudeDandonneau@jourrapide.com  Claude Dandonneau   F\n",
      "224  224.0    ApollineMichaud@superrito.com   Apolline Michaud   F\n",
      "225  225.0       PascalineBeaudry@rhyta.com  Pascaline Beaudry   F\n",
      "226  226.0     FleurCaouette@jourrapide.com     Fleur Caouette   F\n",
      "227  227.0      FrancisMasse@jourrapide.com      Francis Masse   M\n",
      "\n",
      "[228 rows x 4 columns]\n"
     ]
    }
   ],
   "source": [
    "# Trier par ordre croissant\n",
    "print(data_csv.sort_values('id'))"
   ]
  },
  {
   "cell_type": "code",
   "execution_count": 41,
   "id": "f5451802-6d67-4224-beb7-f75cbcf98426",
   "metadata": {},
   "outputs": [
    {
     "name": "stdout",
     "output_type": "stream",
     "text": [
      "        id                            email               name sex\n",
      "227  227.0      FrancisMasse@jourrapide.com      Francis Masse   M\n",
      "226  226.0     FleurCaouette@jourrapide.com     Fleur Caouette   F\n",
      "225  225.0       PascalineBeaudry@rhyta.com  Pascaline Beaudry   F\n",
      "224  224.0    ApollineMichaud@superrito.com   Apolline Michaud   F\n",
      "223  223.0  ClaudeDandonneau@jourrapide.com  Claude Dandonneau   F\n",
      "..     ...                              ...                ...  ..\n",
      "4      4.0             AlexisRiel@rhyta.com        Alexis Riel   M\n",
      "3      3.0        RussellDurand@armyspy.com     Russell Durand   M\n",
      "2      2.0        BeaufortLesage@einrot.com    Beaufort Lesage   M\n",
      "1      1.0            GuyMarois@fleckens.hu         Guy Marois   M\n",
      "0      0.0        LaurentDagenais@rhyta.com   Laurent Dagenais   M\n",
      "\n",
      "[228 rows x 4 columns]\n"
     ]
    }
   ],
   "source": [
    "# Trier par ordre décroissant\n",
    "print(data_csv.sort_values('id', ascending = False))"
   ]
  },
  {
   "cell_type": "code",
   "execution_count": 47,
   "id": "0ce1cb4c-f076-43c5-b13e-b3814a911822",
   "metadata": {},
   "outputs": [
    {
     "name": "stdout",
     "output_type": "stream",
     "text": [
      "        id                         email                name sex\n",
      "53    53.0       ZurieTheberge@gustr.com      Zurie Theberge   F\n",
      "112  112.0          ZoeLeclair@gustr.com         Zoe Leclair   F\n",
      "100  100.0   ZdenekVadnais@superrito.com      Zdenek Vadnais   M\n",
      "174  174.0   ZacharieDuplessis@rhyta.com  Zacharie Duplessis   M\n",
      "64    64.0          YvetteDAvis@cuvox.de       Yvette D Avis   F\n",
      "..     ...                           ...                 ...  ..\n",
      "180  180.0          AgnesBriard@cuvox.de        Agnes Briard   F\n",
      "15    15.0      AgateGrandbois@gustr.com     Agate Grandbois   F\n",
      "189  189.0        AdeleClavette@cuvox.de      Adele Clavette   F\n",
      "135  135.0     AdelaideBrousse@gustr.com    Adelaide Brousse   F\n",
      "13    13.0  AcelineHughes@jourrapide.com      Aceline Hughes   F\n",
      "\n",
      "[228 rows x 4 columns]\n"
     ]
    }
   ],
   "source": [
    "# Trier sur plusieurs colonnes\n",
    "# Ici on trie sur la colonne name et id où le tri est décroissant sur le name et croissant sur l'id\n",
    "print(data_csv.sort_values(['name', 'id'], ascending = [False, True]))"
   ]
  }
 ],
 "metadata": {
  "kernelspec": {
   "display_name": "Python 3 (ipykernel)",
   "language": "python",
   "name": "python3"
  },
  "language_info": {
   "codemirror_mode": {
    "name": "ipython",
    "version": 3
   },
   "file_extension": ".py",
   "mimetype": "text/x-python",
   "name": "python",
   "nbconvert_exporter": "python",
   "pygments_lexer": "ipython3",
   "version": "3.10.13"
  }
 },
 "nbformat": 4,
 "nbformat_minor": 5
}
